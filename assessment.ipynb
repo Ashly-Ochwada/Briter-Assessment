{
 "cells": [
  {
   "cell_type": "code",
   "execution_count": 1,
   "metadata": {},
   "outputs": [],
   "source": [
    "import pandas as pd\n",
    "import numpy as np\n",
    "import matplotlib as plt"
   ]
  },
  {
   "cell_type": "code",
   "execution_count": 2,
   "metadata": {},
   "outputs": [
    {
     "data": {
      "text/html": [
       "<div>\n",
       "<style scoped>\n",
       "    .dataframe tbody tr th:only-of-type {\n",
       "        vertical-align: middle;\n",
       "    }\n",
       "\n",
       "    .dataframe tbody tr th {\n",
       "        vertical-align: top;\n",
       "    }\n",
       "\n",
       "    .dataframe thead th {\n",
       "        text-align: right;\n",
       "    }\n",
       "</style>\n",
       "<table border=\"1\" class=\"dataframe\">\n",
       "  <thead>\n",
       "    <tr style=\"text-align: right;\">\n",
       "      <th></th>\n",
       "      <th>Company Name</th>\n",
       "      <th>Sector</th>\n",
       "      <th>HQ Country</th>\n",
       "      <th>Deal Year</th>\n",
       "      <th>Deal Size</th>\n",
       "      <th>Exact Date</th>\n",
       "      <th>Deal stage</th>\n",
       "      <th>Month</th>\n",
       "      <th>Deal type(s)</th>\n",
       "      <th>Source</th>\n",
       "      <th>Source URL</th>\n",
       "    </tr>\n",
       "  </thead>\n",
       "  <tbody>\n",
       "    <tr>\n",
       "      <th>0</th>\n",
       "      <td>easy taxi</td>\n",
       "      <td>Mobility</td>\n",
       "      <td>Brazil</td>\n",
       "      <td>2014</td>\n",
       "      <td>$40,000,000</td>\n",
       "      <td>Aug 3, 2014</td>\n",
       "      <td>Series D</td>\n",
       "      <td>August</td>\n",
       "      <td>Equity</td>\n",
       "      <td>https://www.wamda.com/2014/08/easy-taxi-secure...</td>\n",
       "      <td>NaN</td>\n",
       "    </tr>\n",
       "    <tr>\n",
       "      <th>1</th>\n",
       "      <td>Jahez</td>\n",
       "      <td>Logistics</td>\n",
       "      <td>Saudi Arabia</td>\n",
       "      <td>2020</td>\n",
       "      <td>$36,000,000</td>\n",
       "      <td>Jun 3, 2020</td>\n",
       "      <td>Series A</td>\n",
       "      <td>June</td>\n",
       "      <td>Equity</td>\n",
       "      <td>https://www.wamda.com/2020/06/jahez-raises-36-...</td>\n",
       "      <td>NaN</td>\n",
       "    </tr>\n",
       "    <tr>\n",
       "      <th>2</th>\n",
       "      <td>sellanycar</td>\n",
       "      <td>E-Commerce</td>\n",
       "      <td>Saudi Arabia</td>\n",
       "      <td>2020</td>\n",
       "      <td>$35,000,000</td>\n",
       "      <td>Feb 12, 2020</td>\n",
       "      <td>Unspecified</td>\n",
       "      <td>February</td>\n",
       "      <td>Equity</td>\n",
       "      <td>https://www.wamda.com/2020/02/pif-invests-sell...</td>\n",
       "      <td>NaN</td>\n",
       "    </tr>\n",
       "    <tr>\n",
       "      <th>3</th>\n",
       "      <td>Cazoo</td>\n",
       "      <td>E-Commerce</td>\n",
       "      <td>UK</td>\n",
       "      <td>2019</td>\n",
       "      <td>$32,000,000</td>\n",
       "      <td>Dec 4, 2019</td>\n",
       "      <td>Unspecified</td>\n",
       "      <td>December</td>\n",
       "      <td>Equity</td>\n",
       "      <td>https://www.wamda.com/2019/12/mubadala-leads-3...</td>\n",
       "      <td>NaN</td>\n",
       "    </tr>\n",
       "    <tr>\n",
       "      <th>4</th>\n",
       "      <td>Veem</td>\n",
       "      <td>Fintech</td>\n",
       "      <td>USA</td>\n",
       "      <td>2020</td>\n",
       "      <td>$31,000,000</td>\n",
       "      <td>Sep 20, 2020</td>\n",
       "      <td>Unspecified</td>\n",
       "      <td>September</td>\n",
       "      <td>Equity</td>\n",
       "      <td>https://www.wamda.com/2020/09/arab-bank-invest...</td>\n",
       "      <td>NaN</td>\n",
       "    </tr>\n",
       "    <tr>\n",
       "      <th>...</th>\n",
       "      <td>...</td>\n",
       "      <td>...</td>\n",
       "      <td>...</td>\n",
       "      <td>...</td>\n",
       "      <td>...</td>\n",
       "      <td>...</td>\n",
       "      <td>...</td>\n",
       "      <td>...</td>\n",
       "      <td>...</td>\n",
       "      <td>...</td>\n",
       "      <td>...</td>\n",
       "    </tr>\n",
       "    <tr>\n",
       "      <th>126</th>\n",
       "      <td>Bykea</td>\n",
       "      <td>Logistics</td>\n",
       "      <td>Pakistan</td>\n",
       "      <td>2019</td>\n",
       "      <td>$2,000,000</td>\n",
       "      <td>Aug 9, 2019</td>\n",
       "      <td>Series A</td>\n",
       "      <td>August</td>\n",
       "      <td>Equity</td>\n",
       "      <td>https://www.wamda.com/2019/08/mevp-invests-2-m...</td>\n",
       "      <td>NaN</td>\n",
       "    </tr>\n",
       "    <tr>\n",
       "      <th>127</th>\n",
       "      <td>Zid</td>\n",
       "      <td>E-Commerce</td>\n",
       "      <td>Saudi Arabia</td>\n",
       "      <td>2019</td>\n",
       "      <td>$2,000,000</td>\n",
       "      <td>Jul 24, 2019</td>\n",
       "      <td>Series A</td>\n",
       "      <td>July</td>\n",
       "      <td>Equity</td>\n",
       "      <td>https://www.wamda.com/2019/07/zid-raises-2-mil...</td>\n",
       "      <td>NaN</td>\n",
       "    </tr>\n",
       "    <tr>\n",
       "      <th>128</th>\n",
       "      <td>Clara</td>\n",
       "      <td>LegalTech</td>\n",
       "      <td>U.A.E</td>\n",
       "      <td>2019</td>\n",
       "      <td>$2,000,000</td>\n",
       "      <td>Jul 10, 2019</td>\n",
       "      <td>Seed</td>\n",
       "      <td>July</td>\n",
       "      <td>Equity</td>\n",
       "      <td>https://www.wamda.com/2019/07/clara-closes-see...</td>\n",
       "      <td>NaN</td>\n",
       "    </tr>\n",
       "    <tr>\n",
       "      <th>129</th>\n",
       "      <td>Nalbes</td>\n",
       "      <td>E-Commerce</td>\n",
       "      <td>Kuwait</td>\n",
       "      <td>2019</td>\n",
       "      <td>$2,000,000</td>\n",
       "      <td>Feb 22, 2019</td>\n",
       "      <td>Series A</td>\n",
       "      <td>February</td>\n",
       "      <td>Equity</td>\n",
       "      <td>https://www.wamda.com/2019/02/nalbes-raises-2-...</td>\n",
       "      <td>NaN</td>\n",
       "    </tr>\n",
       "    <tr>\n",
       "      <th>130</th>\n",
       "      <td>eMushrif</td>\n",
       "      <td>Logistics</td>\n",
       "      <td>Kuwait</td>\n",
       "      <td>2020</td>\n",
       "      <td>$2,300,000</td>\n",
       "      <td>Dec 9, 2020</td>\n",
       "      <td>Series A</td>\n",
       "      <td>December</td>\n",
       "      <td>Equity</td>\n",
       "      <td>https://www.wamda.com/2020/12/emushrif-raises-...</td>\n",
       "      <td>NaN</td>\n",
       "    </tr>\n",
       "  </tbody>\n",
       "</table>\n",
       "<p>131 rows × 11 columns</p>\n",
       "</div>"
      ],
      "text/plain": [
       "    Company Name      Sector    HQ Country  Deal Year    Deal Size  \\\n",
       "0      easy taxi    Mobility        Brazil       2014  $40,000,000   \n",
       "1          Jahez   Logistics  Saudi Arabia       2020  $36,000,000   \n",
       "2     sellanycar  E-Commerce  Saudi Arabia       2020  $35,000,000   \n",
       "3          Cazoo  E-Commerce            UK       2019  $32,000,000   \n",
       "4           Veem     Fintech           USA       2020  $31,000,000   \n",
       "..           ...         ...           ...        ...          ...   \n",
       "126        Bykea   Logistics      Pakistan       2019   $2,000,000   \n",
       "127          Zid  E-Commerce  Saudi Arabia       2019   $2,000,000   \n",
       "128        Clara   LegalTech         U.A.E       2019   $2,000,000   \n",
       "129       Nalbes  E-Commerce        Kuwait       2019   $2,000,000   \n",
       "130     eMushrif   Logistics        Kuwait       2020   $2,300,000   \n",
       "\n",
       "       Exact Date   Deal stage      Month Deal type(s)  \\\n",
       "0     Aug 3, 2014     Series D     August       Equity   \n",
       "1     Jun 3, 2020     Series A       June       Equity   \n",
       "2    Feb 12, 2020  Unspecified   February       Equity   \n",
       "3     Dec 4, 2019  Unspecified   December       Equity   \n",
       "4    Sep 20, 2020  Unspecified  September       Equity   \n",
       "..            ...          ...        ...          ...   \n",
       "126   Aug 9, 2019     Series A     August       Equity   \n",
       "127  Jul 24, 2019     Series A       July       Equity   \n",
       "128  Jul 10, 2019         Seed       July       Equity   \n",
       "129  Feb 22, 2019     Series A   February       Equity   \n",
       "130   Dec 9, 2020     Series A   December       Equity   \n",
       "\n",
       "                                                Source  Source URL  \n",
       "0    https://www.wamda.com/2014/08/easy-taxi-secure...         NaN  \n",
       "1    https://www.wamda.com/2020/06/jahez-raises-36-...         NaN  \n",
       "2    https://www.wamda.com/2020/02/pif-invests-sell...         NaN  \n",
       "3    https://www.wamda.com/2019/12/mubadala-leads-3...         NaN  \n",
       "4    https://www.wamda.com/2020/09/arab-bank-invest...         NaN  \n",
       "..                                                 ...         ...  \n",
       "126  https://www.wamda.com/2019/08/mevp-invests-2-m...         NaN  \n",
       "127  https://www.wamda.com/2019/07/zid-raises-2-mil...         NaN  \n",
       "128  https://www.wamda.com/2019/07/clara-closes-see...         NaN  \n",
       "129  https://www.wamda.com/2019/02/nalbes-raises-2-...         NaN  \n",
       "130  https://www.wamda.com/2020/12/emushrif-raises-...         NaN  \n",
       "\n",
       "[131 rows x 11 columns]"
      ]
     },
     "execution_count": 2,
     "metadata": {},
     "output_type": "execute_result"
    }
   ],
   "source": [
    "df = pd.read_csv('/home/student/BriterAssessment/Assessment - Assessment - Assessment - Assessment.csv')\n",
    "df"
   ]
  },
  {
   "cell_type": "code",
   "execution_count": 3,
   "metadata": {},
   "outputs": [
    {
     "name": "stdout",
     "output_type": "stream",
     "text": [
      "<class 'pandas.core.frame.DataFrame'>\n",
      "RangeIndex: 131 entries, 0 to 130\n",
      "Data columns (total 11 columns):\n",
      "Company Name    131 non-null object\n",
      "Sector          131 non-null object\n",
      "HQ Country      131 non-null object\n",
      "Deal Year       131 non-null int64\n",
      "Deal Size       131 non-null object\n",
      "Exact Date      131 non-null object\n",
      "Deal stage      122 non-null object\n",
      "Month           131 non-null object\n",
      "Deal type(s)    131 non-null object\n",
      "Source          131 non-null object\n",
      "Source URL      0 non-null float64\n",
      "dtypes: float64(1), int64(1), object(9)\n",
      "memory usage: 11.4+ KB\n"
     ]
    }
   ],
   "source": [
    "df.info()"
   ]
  },
  {
   "cell_type": "code",
   "execution_count": 4,
   "metadata": {},
   "outputs": [
    {
     "data": {
      "text/html": [
       "<div>\n",
       "<style scoped>\n",
       "    .dataframe tbody tr th:only-of-type {\n",
       "        vertical-align: middle;\n",
       "    }\n",
       "\n",
       "    .dataframe tbody tr th {\n",
       "        vertical-align: top;\n",
       "    }\n",
       "\n",
       "    .dataframe thead th {\n",
       "        text-align: right;\n",
       "    }\n",
       "</style>\n",
       "<table border=\"1\" class=\"dataframe\">\n",
       "  <thead>\n",
       "    <tr style=\"text-align: right;\">\n",
       "      <th></th>\n",
       "      <th>Deal Year</th>\n",
       "      <th>Source URL</th>\n",
       "    </tr>\n",
       "  </thead>\n",
       "  <tbody>\n",
       "    <tr>\n",
       "      <th>count</th>\n",
       "      <td>131.000000</td>\n",
       "      <td>0.0</td>\n",
       "    </tr>\n",
       "    <tr>\n",
       "      <th>mean</th>\n",
       "      <td>2018.862595</td>\n",
       "      <td>NaN</td>\n",
       "    </tr>\n",
       "    <tr>\n",
       "      <th>std</th>\n",
       "      <td>1.783529</td>\n",
       "      <td>NaN</td>\n",
       "    </tr>\n",
       "    <tr>\n",
       "      <th>min</th>\n",
       "      <td>2012.000000</td>\n",
       "      <td>NaN</td>\n",
       "    </tr>\n",
       "    <tr>\n",
       "      <th>25%</th>\n",
       "      <td>2019.000000</td>\n",
       "      <td>NaN</td>\n",
       "    </tr>\n",
       "    <tr>\n",
       "      <th>50%</th>\n",
       "      <td>2019.000000</td>\n",
       "      <td>NaN</td>\n",
       "    </tr>\n",
       "    <tr>\n",
       "      <th>75%</th>\n",
       "      <td>2020.000000</td>\n",
       "      <td>NaN</td>\n",
       "    </tr>\n",
       "    <tr>\n",
       "      <th>max</th>\n",
       "      <td>2020.000000</td>\n",
       "      <td>NaN</td>\n",
       "    </tr>\n",
       "  </tbody>\n",
       "</table>\n",
       "</div>"
      ],
      "text/plain": [
       "         Deal Year  Source URL\n",
       "count   131.000000         0.0\n",
       "mean   2018.862595         NaN\n",
       "std       1.783529         NaN\n",
       "min    2012.000000         NaN\n",
       "25%    2019.000000         NaN\n",
       "50%    2019.000000         NaN\n",
       "75%    2020.000000         NaN\n",
       "max    2020.000000         NaN"
      ]
     },
     "execution_count": 4,
     "metadata": {},
     "output_type": "execute_result"
    }
   ],
   "source": [
    "df.describe()"
   ]
  },
  {
   "cell_type": "code",
   "execution_count": 5,
   "metadata": {},
   "outputs": [
    {
     "data": {
      "text/plain": [
       "array(['AWOK.com', 'Abwaab', 'Adzily', 'Airlift', 'Ajar', 'AlTibbi',\n",
       "       'Almentor', 'AlmoSafer', 'Aqeed', 'Arzooo', 'Band Industries',\n",
       "       'Bayzat', 'Beehive', 'Bibliu', 'BluNalu', 'Brimore', 'Bykea',\n",
       "       'Cartlow', 'Cazoo', 'Clara', 'Compareit4me.com', 'CountingUp',\n",
       "       'Data Gumbo', 'Dawa Express', 'Deal Share', 'DoPay',\n",
       "       'Dokkar Afkar', 'Eat App', 'Ecomz', 'Elmenus', 'Elves',\n",
       "       'Expand Cart', 'Fetcher', 'Fetchr', 'FloraNow', 'Floward', 'Fodel',\n",
       "       'Foodics', 'FoxPush', 'Grofers', 'GrubTech', 'GuestReady',\n",
       "       'Ilara Health', 'InstaDeep', 'Insurance', 'Iyzico', 'Jahez',\n",
       "       'Justclean', 'MEVP', 'MarkaVIP', 'Mawdoo3', 'MaxAB', 'Meddy',\n",
       "       'Mejuri', 'Modanisa.com', 'MoneyFellows', 'Morni', 'Mubawab',\n",
       "       'Mumzworld', 'Nalbes', 'Nana', 'Nana Direct', 'Nejree',\n",
       "       'Nomad Homes', 'Noon Academy', 'NowPay', 'Okadoc', 'Ola', 'Paymob',\n",
       "       'PinPay', 'Q8flowers', 'QFPay', 'Qoyod', 'Rain', 'Repeat',\n",
       "       'Retailo', 'Rizek', 'SARY', 'Saee', 'Salasa', 'Sarwa',\n",
       "       'SecuLetter', 'Securrency', 'Sehteq', 'Siraj Palestine Fund I',\n",
       "       'Sprii', 'Swvl', 'Tabby', 'Tamatem', 'Tarfin', 'Temtem', 'Tenderd',\n",
       "       'Travel', 'TreasuryXpress', 'Tribal Credit', 'TruKKer', 'Trukker',\n",
       "       'Trukkin', 'TurtleTree', 'Veem', 'Vezeeta', 'Wahed', 'Washmen',\n",
       "       'WebTeb', 'Winterlight Labs', 'Wysada', 'YallaCompare', 'ZON',\n",
       "       'Zid', 'ZoodMall', 'car sharing', 'eMushrif', 'easy taxi', 'ekar',\n",
       "       'eyewa', 'iKcon', 'iMile', 'lean', 'movesouq', 'sellanycar'],\n",
       "      dtype=object)"
      ]
     },
     "execution_count": 5,
     "metadata": {},
     "output_type": "execute_result"
    }
   ],
   "source": [
    "company_name = df['Company Name'].unique()\n",
    "company_name.sort()\n",
    "company_name"
   ]
  },
  {
   "cell_type": "code",
   "execution_count": 6,
   "metadata": {},
   "outputs": [
    {
     "name": "stdout",
     "output_type": "stream",
     "text": [
      "['EASY TAXI' 'JAHEZ' 'SELLANYCAR' 'CAZOO' 'VEEM' 'AWOK.COM' 'INSURANCE'\n",
      " 'WAHED' 'MAWDOO3' 'TRUKKER' 'MEJURI' 'DEAL SHARE' 'SEHTEQ' 'SWVL'\n",
      " 'BLUNALU' 'QFPAY' 'MUMZWORLD' 'ALMOSAFER' 'NANA DIRECT' 'AQEED' 'EKAR'\n",
      " 'SECURRENCY' 'BAYZAT' 'CAR SHARING' 'FOXPUSH' 'FETCHER' 'FETCHR' 'BYKEA'\n",
      " 'NOON ACADEMY' 'IYZICO' 'ADZILY' 'BIBLIU' 'VEZEETA' 'OLA' 'AIRLIFT'\n",
      " 'ZOODMALL' 'IMILE' 'OKADOC' 'GROFERS' 'MARKAVIP' 'MORNI' 'SALASA' 'SPRII'\n",
      " 'SARWA' 'JUSTCLEAN' 'ZON' 'ELMENUS' 'YALLACOMPARE' 'ARZOOO' 'AJAR'\n",
      " 'TABBY' 'MUBAWAB' 'INSTADEEP' 'TRAVEL' 'SARY' 'ALTIBBI' 'TURTLETREE'\n",
      " 'MAXAB' 'WASHMEN' 'SECULETTER' 'GUESTREADY' 'DATA GUMBO' 'NANA' 'MEVP'\n",
      " 'TENDERD' 'TRIBAL CREDIT' 'MODANISA.COM' 'TARFIN' 'IKCON' 'COUNTINGUP'\n",
      " 'EAT APP' 'DOKKAR AFKAR' 'TREASURYXPRESS' 'WYSADA' 'ALMENTOR'\n",
      " 'WINTERLIGHT LABS' 'NOMAD HOMES' 'MONEYFELLOWS' 'NEJREE' 'TEMTEM' 'ECOMZ'\n",
      " 'FOODICS' 'BEEHIVE' 'ILARA HEALTH' 'PAYMOB' 'LEAN' 'RIZEK' 'BRIMORE'\n",
      " 'TAMATEM' 'TRUKKIN' 'COMPAREIT4ME.COM' 'WEBTEB' 'DAWA EXPRESS' 'FLORANOW'\n",
      " 'MOVESOUQ' 'Q8FLOWERS' 'BAND INDUSTRIES' 'FLOWARD' 'FODEL' 'EXPAND CART'\n",
      " 'EYEWA' 'REPEAT' 'MEDDY' 'RAIN' 'PINPAY' 'SIRAJ PALESTINE FUND I'\n",
      " 'ABWAAB' 'SAEE' 'DOPAY' 'EMUSHRIF' 'RETAILO' 'QOYOD' 'NOWPAY' 'CARTLOW'\n",
      " 'ELVES' 'GRUBTECH' 'ZID' 'CLARA' 'NALBES']\n"
     ]
    }
   ],
   "source": [
    "df['Company Name'] = df['Company Name'].str.upper()\n",
    "print(df['Company Name'].unique())"
   ]
  },
  {
   "cell_type": "code",
   "execution_count": 7,
   "metadata": {},
   "outputs": [
    {
     "data": {
      "text/plain": [
       "array(['EASY TAXI', 'JAHEZ', 'SELLANYCAR', 'CAZOO', 'VEEM', 'AWOK.COM',\n",
       "       'INSURANCE', 'WAHED', 'MAWDOO3', 'TRUKKER', 'MEJURI', 'DEAL SHARE',\n",
       "       'SEHTEQ', 'SWVL', 'BLUNALU', 'QFPAY', 'MUMZWORLD', 'ALMOSAFER',\n",
       "       'NANA DIRECT', 'AQEED', 'EKAR', 'SECURRENCY', 'BAYZAT',\n",
       "       'CAR SHARING', 'FOXPUSH', 'FETCHER', 'FETCHR', 'BYKEA',\n",
       "       'NOON ACADEMY', 'IYZICO', 'ADZILY', 'BIBLIU', 'VEZEETA', 'OLA',\n",
       "       'AIRLIFT', 'ZOODMALL', 'IMILE', 'OKADOC', 'GROFERS', 'MARKAVIP',\n",
       "       'MORNI', 'SALASA', 'SPRII', 'SARWA', 'JUSTCLEAN', 'ZON', 'ELMENUS',\n",
       "       'YALLACOMPARE', 'ARZOOO', 'AJAR', 'TABBY', 'MUBAWAB', 'INSTADEEP',\n",
       "       'TRAVEL', 'SARY', 'ALTIBBI', 'TURTLETREE', 'MAXAB', 'WASHMEN',\n",
       "       'SECULETTER', 'GUESTREADY', 'DATA GUMBO', 'NANA', 'MEVP',\n",
       "       'TENDERD', 'TRIBAL CREDIT', 'MODANISA.COM', 'TARFIN', 'IKCON',\n",
       "       'COUNTINGUP', 'EAT APP', 'DOKKAR AFKAR', 'TREASURYXPRESS',\n",
       "       'WYSADA', 'ALMENTOR', 'WINTERLIGHT LABS', 'NOMAD HOMES',\n",
       "       'MONEYFELLOWS', 'NEJREE', 'TEMTEM', 'ECOMZ', 'FOODICS', 'BEEHIVE',\n",
       "       'ILARA HEALTH', 'PAYMOB', 'LEAN', 'RIZEK', 'BRIMORE', 'TAMATEM',\n",
       "       'TRUKKIN', 'COMPAREIT4ME.COM', 'WEBTEB', 'DAWA EXPRESS',\n",
       "       'FLORANOW', 'MOVESOUQ', 'Q8FLOWERS', 'BAND INDUSTRIES', 'FLOWARD',\n",
       "       'FODEL', 'EXPAND CART', 'EYEWA', 'REPEAT', 'MEDDY', 'RAIN',\n",
       "       'PINPAY', 'SIRAJ PALESTINE FUND I', 'ABWAAB', 'SAEE', 'DOPAY',\n",
       "       'EMUSHRIF', 'RETAILO', 'QOYOD', 'NOWPAY', 'CARTLOW', 'ELVES',\n",
       "       'GRUBTECH', 'ZID', 'CLARA', 'NALBES'], dtype=object)"
      ]
     },
     "execution_count": 7,
     "metadata": {},
     "output_type": "execute_result"
    }
   ],
   "source": [
    "company_data = df['Company Name'].unique()\n",
    "company_data"
   ]
  },
  {
   "cell_type": "code",
   "execution_count": 9,
   "metadata": {},
   "outputs": [
    {
     "data": {
      "text/plain": [
       "array(['$40,000,000', '$36,000,000', '$35,000,000', '$32,000,000',\n",
       "       '$31,000,000', '$30,000,000', '$27,000,000', '$25,000,000',\n",
       "       '$23,500,000', '$23,000,000', '$21,000,000', '$20,000,000',\n",
       "       '$18,660,000', '$18,000,000', '$17,500,000', '$16,300,000',\n",
       "       '$16,000,000', '$15,800,000', '$15,000,000', '$13,000,000',\n",
       "       '$12,200,00', '$12,000,000', '$11,000,000', '$10,000,000',\n",
       "       '$9,100,000', '$8,600,000', '$8,500,000', '$8,400,000',\n",
       "       '$8,000,000', '$7,500,000', '$7,000,000', '$6,600,000',\n",
       "       '$6,500,000', '$6,200,000', '$6,000,000', '$5,800,000',\n",
       "       '$5,500,000', '$5,000,000', '$4,500,000', '$4,250,000',\n",
       "       '$4,219,880', '$4,000,000', '$3,750,000', '$3,500,000',\n",
       "       '$3,200,000', '$3,000,000', '$300,000', '$2,800,000', '$2,750,000',\n",
       "       '$2,600,000', '$2,500,000', '$250,000', '$2,400,000', '$2,300,000',\n",
       "       '$2,100,000', '$2,000,000', '$200,000,000,000,000'], dtype=object)"
      ]
     },
     "execution_count": 9,
     "metadata": {},
     "output_type": "execute_result"
    }
   ],
   "source": [
    "sector_data = df['Sector'].unique()\n",
    "hq = df['HQ Country'].unique()\n",
    "deal_year = df['Deal Year'].unique()\n",
    "deal_size = df['Deal Size'].unique()\n",
    "df['Deal Size'] =df['Deal Size'].str.strip()\n",
    "date = df['Exact Date'].unique()\n",
    "stage = df['Deal stage'].unique()\n",
    "deal_size\n"
   ]
  },
  {
   "cell_type": "code",
   "execution_count": 10,
   "metadata": {},
   "outputs": [],
   "source": [
    "#Creating a pivot table\n",
    "import matplotlib.pyplot as plt\n",
    "plt.style.use('ggplot')"
   ]
  },
  {
   "cell_type": "code",
   "execution_count": 11,
   "metadata": {},
   "outputs": [
    {
     "data": {
      "text/html": [
       "<div>\n",
       "<style scoped>\n",
       "    .dataframe tbody tr th:only-of-type {\n",
       "        vertical-align: middle;\n",
       "    }\n",
       "\n",
       "    .dataframe tbody tr th {\n",
       "        vertical-align: top;\n",
       "    }\n",
       "\n",
       "    .dataframe thead th {\n",
       "        text-align: right;\n",
       "    }\n",
       "</style>\n",
       "<table border=\"1\" class=\"dataframe\">\n",
       "  <thead>\n",
       "    <tr style=\"text-align: right;\">\n",
       "      <th></th>\n",
       "      <th>Deal Year</th>\n",
       "    </tr>\n",
       "    <tr>\n",
       "      <th>Company Name</th>\n",
       "      <th></th>\n",
       "    </tr>\n",
       "  </thead>\n",
       "  <tbody>\n",
       "    <tr>\n",
       "      <th>ABWAAB</th>\n",
       "      <td>2020.0</td>\n",
       "    </tr>\n",
       "    <tr>\n",
       "      <th>ADZILY</th>\n",
       "      <td>2019.0</td>\n",
       "    </tr>\n",
       "    <tr>\n",
       "      <th>AIRLIFT</th>\n",
       "      <td>2020.0</td>\n",
       "    </tr>\n",
       "    <tr>\n",
       "      <th>AJAR</th>\n",
       "      <td>2020.0</td>\n",
       "    </tr>\n",
       "    <tr>\n",
       "      <th>ALMENTOR</th>\n",
       "      <td>2019.0</td>\n",
       "    </tr>\n",
       "    <tr>\n",
       "      <th>...</th>\n",
       "      <td>...</td>\n",
       "    </tr>\n",
       "    <tr>\n",
       "      <th>WYSADA</th>\n",
       "      <td>2014.0</td>\n",
       "    </tr>\n",
       "    <tr>\n",
       "      <th>YALLACOMPARE</th>\n",
       "      <td>2019.5</td>\n",
       "    </tr>\n",
       "    <tr>\n",
       "      <th>ZID</th>\n",
       "      <td>2019.0</td>\n",
       "    </tr>\n",
       "    <tr>\n",
       "      <th>ZON</th>\n",
       "      <td>2020.0</td>\n",
       "    </tr>\n",
       "    <tr>\n",
       "      <th>ZOODMALL</th>\n",
       "      <td>2020.0</td>\n",
       "    </tr>\n",
       "  </tbody>\n",
       "</table>\n",
       "<p>119 rows × 1 columns</p>\n",
       "</div>"
      ],
      "text/plain": [
       "              Deal Year\n",
       "Company Name           \n",
       "ABWAAB           2020.0\n",
       "ADZILY           2019.0\n",
       "AIRLIFT          2020.0\n",
       "AJAR             2020.0\n",
       "ALMENTOR         2019.0\n",
       "...                 ...\n",
       "WYSADA           2014.0\n",
       "YALLACOMPARE     2019.5\n",
       "ZID              2019.0\n",
       "ZON              2020.0\n",
       "ZOODMALL         2020.0\n",
       "\n",
       "[119 rows x 1 columns]"
      ]
     },
     "execution_count": 11,
     "metadata": {},
     "output_type": "execute_result"
    }
   ],
   "source": [
    "table = pd.pivot_table(data=df,index=['Company Name'])\n",
    "table"
   ]
  },
  {
   "cell_type": "code",
   "execution_count": 12,
   "metadata": {},
   "outputs": [
    {
     "data": {
      "application/vnd.plotly.v1+json": {
       "config": {
        "plotlyServerURL": "https://plot.ly"
       },
       "data": [
        {
         "alignmentgroup": "True",
         "hovertemplate": "Deal Size=%{y}<br>Month=%{x}<extra></extra>",
         "legendgroup": "$2,300,000",
         "marker": {
          "color": "#636efa",
          "pattern": {
           "shape": ""
          }
         },
         "name": "$2,300,000",
         "offsetgroup": "$2,300,000",
         "orientation": "v",
         "showlegend": true,
         "textposition": "auto",
         "type": "bar",
         "x": [
          "xxxxx",
          "October",
          "December",
          "December"
         ],
         "xaxis": "x",
         "y": [
          "$2,300,000",
          "$2,300,000",
          "$2,300,000",
          "$2,300,000"
         ],
         "yaxis": "y"
        },
        {
         "alignmentgroup": "True",
         "hovertemplate": "Deal Size=%{y}<br>Month=%{x}<extra></extra>",
         "legendgroup": "$12,000,000",
         "marker": {
          "color": "#EF553B",
          "pattern": {
           "shape": ""
          }
         },
         "name": "$12,000,000",
         "offsetgroup": "$12,000,000",
         "orientation": "v",
         "showlegend": true,
         "textposition": "auto",
         "type": "bar",
         "x": [
          "September",
          "September"
         ],
         "xaxis": "x",
         "y": [
          "$12,000,000",
          "$12,000,000"
         ],
         "yaxis": "y"
        },
        {
         "alignmentgroup": "True",
         "hovertemplate": "Deal Size=%{y}<br>Month=%{x}<extra></extra>",
         "legendgroup": "$2,400,000",
         "marker": {
          "color": "#00cc96",
          "pattern": {
           "shape": ""
          }
         },
         "name": "$2,400,000",
         "offsetgroup": "$2,400,000",
         "orientation": "v",
         "showlegend": true,
         "textposition": "auto",
         "type": "bar",
         "x": [
          "September",
          "March",
          "January",
          "January"
         ],
         "xaxis": "x",
         "y": [
          "$2,400,000",
          "$2,400,000",
          "$2,400,000",
          "$2,400,000"
         ],
         "yaxis": "y"
        },
        {
         "alignmentgroup": "True",
         "hovertemplate": "Deal Size=%{y}<br>Month=%{x}<extra></extra>",
         "legendgroup": "$4,000,000",
         "marker": {
          "color": "#ab63fa",
          "pattern": {
           "shape": ""
          }
         },
         "name": "$4,000,000",
         "offsetgroup": "$4,000,000",
         "orientation": "v",
         "showlegend": true,
         "textposition": "auto",
         "type": "bar",
         "x": [
          "September",
          "March",
          "June",
          "June",
          "July",
          "July",
          "December"
         ],
         "xaxis": "x",
         "y": [
          "$4,000,000",
          "$4,000,000",
          "$4,000,000",
          "$4,000,000",
          "$4,000,000",
          "$4,000,000",
          "$4,000,000"
         ],
         "yaxis": "y"
        },
        {
         "alignmentgroup": "True",
         "hovertemplate": "Deal Size=%{y}<br>Month=%{x}<extra></extra>",
         "legendgroup": "$6,200,000",
         "marker": {
          "color": "#FFA15A",
          "pattern": {
           "shape": ""
          }
         },
         "name": "$6,200,000",
         "offsetgroup": "$6,200,000",
         "orientation": "v",
         "showlegend": true,
         "textposition": "auto",
         "type": "bar",
         "x": [
          "September",
          "July",
          "December"
         ],
         "xaxis": "x",
         "y": [
          "$6,200,000",
          "$6,200,000",
          "$6,200,000"
         ],
         "yaxis": "y"
        },
        {
         "alignmentgroup": "True",
         "hovertemplate": "Deal Size=%{y}<br>Month=%{x}<extra></extra>",
         "legendgroup": "$3,200,000",
         "marker": {
          "color": "#19d3f3",
          "pattern": {
           "shape": ""
          }
         },
         "name": "$3,200,000",
         "offsetgroup": "$3,200,000",
         "orientation": "v",
         "showlegend": true,
         "textposition": "auto",
         "type": "bar",
         "x": [
          "September"
         ],
         "xaxis": "x",
         "y": [
          "$3,200,000"
         ],
         "yaxis": "y"
        },
        {
         "alignmentgroup": "True",
         "hovertemplate": "Deal Size=%{y}<br>Month=%{x}<extra></extra>",
         "legendgroup": "$8,000,000",
         "marker": {
          "color": "#FF6692",
          "pattern": {
           "shape": ""
          }
         },
         "name": "$8,000,000",
         "offsetgroup": "$8,000,000",
         "orientation": "v",
         "showlegend": true,
         "textposition": "auto",
         "type": "bar",
         "x": [
          "September",
          "March",
          "January",
          "February"
         ],
         "xaxis": "x",
         "y": [
          "$8,000,000",
          "$8,000,000",
          "$8,000,000",
          "$8,000,000"
         ],
         "yaxis": "y"
        },
        {
         "alignmentgroup": "True",
         "hovertemplate": "Deal Size=%{y}<br>Month=%{x}<extra></extra>",
         "legendgroup": "$200,000,000,000,000",
         "marker": {
          "color": "#B6E880",
          "pattern": {
           "shape": ""
          }
         },
         "name": "$200,000,000,000,000",
         "offsetgroup": "$200,000,000,000,000",
         "orientation": "v",
         "showlegend": true,
         "textposition": "auto",
         "type": "bar",
         "x": [
          "September"
         ],
         "xaxis": "x",
         "y": [
          "$200,000,000,000,000"
         ],
         "yaxis": "y"
        },
        {
         "alignmentgroup": "True",
         "hovertemplate": "Deal Size=%{y}<br>Month=%{x}<extra></extra>",
         "legendgroup": "$3,000,000",
         "marker": {
          "color": "#FF97FF",
          "pattern": {
           "shape": ""
          }
         },
         "name": "$3,000,000",
         "offsetgroup": "$3,000,000",
         "orientation": "v",
         "showlegend": true,
         "textposition": "auto",
         "type": "bar",
         "x": [
          "September",
          "September",
          "November",
          "March",
          "April"
         ],
         "xaxis": "x",
         "y": [
          "$3,000,000",
          "$3,000,000",
          "$3,000,000",
          "$3,000,000",
          "$3,000,000"
         ],
         "yaxis": "y"
        },
        {
         "alignmentgroup": "True",
         "hovertemplate": "Deal Size=%{y}<br>Month=%{x}<extra></extra>",
         "legendgroup": "$31,000,000",
         "marker": {
          "color": "#FECB52",
          "pattern": {
           "shape": ""
          }
         },
         "name": "$31,000,000",
         "offsetgroup": "$31,000,000",
         "orientation": "v",
         "showlegend": true,
         "textposition": "auto",
         "type": "bar",
         "x": [
          "September"
         ],
         "xaxis": "x",
         "y": [
          "$31,000,000"
         ],
         "yaxis": "y"
        },
        {
         "alignmentgroup": "True",
         "hovertemplate": "Deal Size=%{y}<br>Month=%{x}<extra></extra>",
         "legendgroup": "$5,000,000",
         "marker": {
          "color": "#636efa",
          "pattern": {
           "shape": ""
          }
         },
         "name": "$5,000,000",
         "offsetgroup": "$5,000,000",
         "orientation": "v",
         "showlegend": true,
         "textposition": "auto",
         "type": "bar",
         "x": [
          "September",
          "October",
          "November",
          "May",
          "February",
          "December",
          "August",
          "April"
         ],
         "xaxis": "x",
         "y": [
          "$5,000,000",
          "$5,000,000",
          "$5,000,000",
          "$5,000,000",
          "$5,000,000",
          "$5,000,000",
          "$5,000,000",
          "$5,000,000"
         ],
         "yaxis": "y"
        },
        {
         "alignmentgroup": "True",
         "hovertemplate": "Deal Size=%{y}<br>Month=%{x}<extra></extra>",
         "legendgroup": "$15,000,000",
         "marker": {
          "color": "#EF553B",
          "pattern": {
           "shape": ""
          }
         },
         "name": "$15,000,000",
         "offsetgroup": "$15,000,000",
         "orientation": "v",
         "showlegend": true,
         "textposition": "auto",
         "type": "bar",
         "x": [
          "September",
          "October",
          "July"
         ],
         "xaxis": "x",
         "y": [
          "$15,000,000",
          "$15,000,000",
          "$15,000,000"
         ],
         "yaxis": "y"
        },
        {
         "alignmentgroup": "True",
         "hovertemplate": "Deal Size=%{y}<br>Month=%{x}<extra></extra>",
         "legendgroup": "$7,500,000",
         "marker": {
          "color": "#00cc96",
          "pattern": {
           "shape": ""
          }
         },
         "name": "$7,500,000",
         "offsetgroup": "$7,500,000",
         "orientation": "v",
         "showlegend": true,
         "textposition": "auto",
         "type": "bar",
         "x": [
          "October",
          "June"
         ],
         "xaxis": "x",
         "y": [
          "$7,500,000",
          "$7,500,000"
         ],
         "yaxis": "y"
        },
        {
         "alignmentgroup": "True",
         "hovertemplate": "Deal Size=%{y}<br>Month=%{x}<extra></extra>",
         "legendgroup": "$2,750,000",
         "marker": {
          "color": "#ab63fa",
          "pattern": {
           "shape": ""
          }
         },
         "name": "$2,750,000",
         "offsetgroup": "$2,750,000",
         "orientation": "v",
         "showlegend": true,
         "textposition": "auto",
         "type": "bar",
         "x": [
          "October"
         ],
         "xaxis": "x",
         "y": [
          "$2,750,000"
         ],
         "yaxis": "y"
        },
        {
         "alignmentgroup": "True",
         "hovertemplate": "Deal Size=%{y}<br>Month=%{x}<extra></extra>",
         "legendgroup": "$6,500,000",
         "marker": {
          "color": "#FFA15A",
          "pattern": {
           "shape": ""
          }
         },
         "name": "$6,500,000",
         "offsetgroup": "$6,500,000",
         "orientation": "v",
         "showlegend": true,
         "textposition": "auto",
         "type": "bar",
         "x": [
          "October"
         ],
         "xaxis": "x",
         "y": [
          "$6,500,000"
         ],
         "yaxis": "y"
        },
        {
         "alignmentgroup": "True",
         "hovertemplate": "Deal Size=%{y}<br>Month=%{x}<extra></extra>",
         "legendgroup": "$4,500,000",
         "marker": {
          "color": "#19d3f3",
          "pattern": {
           "shape": ""
          }
         },
         "name": "$4,500,000",
         "offsetgroup": "$4,500,000",
         "orientation": "v",
         "showlegend": true,
         "textposition": "auto",
         "type": "bar",
         "x": [
          "October"
         ],
         "xaxis": "x",
         "y": [
          "$4,500,000"
         ],
         "yaxis": "y"
        },
        {
         "alignmentgroup": "True",
         "hovertemplate": "Deal Size=%{y}<br>Month=%{x}<extra></extra>",
         "legendgroup": "$2,100,000",
         "marker": {
          "color": "#FF6692",
          "pattern": {
           "shape": ""
          }
         },
         "name": "$2,100,000",
         "offsetgroup": "$2,100,000",
         "orientation": "v",
         "showlegend": true,
         "textposition": "auto",
         "type": "bar",
         "x": [
          "October",
          "December"
         ],
         "xaxis": "x",
         "y": [
          "$2,100,000",
          "$2,100,000"
         ],
         "yaxis": "y"
        },
        {
         "alignmentgroup": "True",
         "hovertemplate": "Deal Size=%{y}<br>Month=%{x}<extra></extra>",
         "legendgroup": "$13,000,000",
         "marker": {
          "color": "#B6E880",
          "pattern": {
           "shape": ""
          }
         },
         "name": "$13,000,000",
         "offsetgroup": "$13,000,000",
         "orientation": "v",
         "showlegend": true,
         "textposition": "auto",
         "type": "bar",
         "x": [
          "October",
          "June",
          "January"
         ],
         "xaxis": "x",
         "y": [
          "$13,000,000",
          "$13,000,000",
          "$13,000,000"
         ],
         "yaxis": "y"
        },
        {
         "alignmentgroup": "True",
         "hovertemplate": "Deal Size=%{y}<br>Month=%{x}<extra></extra>",
         "legendgroup": "$2,500,000",
         "marker": {
          "color": "#FF97FF",
          "pattern": {
           "shape": ""
          }
         },
         "name": "$2,500,000",
         "offsetgroup": "$2,500,000",
         "orientation": "v",
         "showlegend": true,
         "textposition": "auto",
         "type": "bar",
         "x": [
          "October",
          "October",
          "November",
          "June",
          "June",
          "August"
         ],
         "xaxis": "x",
         "y": [
          "$2,500,000",
          "$2,500,000",
          "$2,500,000",
          "$2,500,000",
          "$2,500,000",
          "$2,500,000"
         ],
         "yaxis": "y"
        },
        {
         "alignmentgroup": "True",
         "hovertemplate": "Deal Size=%{y}<br>Month=%{x}<extra></extra>",
         "legendgroup": "$20,000,000",
         "marker": {
          "color": "#FECB52",
          "pattern": {
           "shape": ""
          }
         },
         "name": "$20,000,000",
         "offsetgroup": "$20,000,000",
         "orientation": "v",
         "showlegend": true,
         "textposition": "auto",
         "type": "bar",
         "x": [
          "October",
          "May",
          "March",
          "February",
          "August",
          "August"
         ],
         "xaxis": "x",
         "y": [
          "$20,000,000",
          "$20,000,000",
          "$20,000,000",
          "$20,000,000",
          "$20,000,000",
          "$20,000,000"
         ],
         "yaxis": "y"
        },
        {
         "alignmentgroup": "True",
         "hovertemplate": "Deal Size=%{y}<br>Month=%{x}<extra></extra>",
         "legendgroup": "$16,000,000",
         "marker": {
          "color": "#636efa",
          "pattern": {
           "shape": ""
          }
         },
         "name": "$16,000,000",
         "offsetgroup": "$16,000,000",
         "orientation": "v",
         "showlegend": true,
         "textposition": "auto",
         "type": "bar",
         "x": [
          "October"
         ],
         "xaxis": "x",
         "y": [
          "$16,000,000"
         ],
         "yaxis": "y"
        },
        {
         "alignmentgroup": "True",
         "hovertemplate": "Deal Size=%{y}<br>Month=%{x}<extra></extra>",
         "legendgroup": "$7,000,000",
         "marker": {
          "color": "#EF553B",
          "pattern": {
           "shape": ""
          }
         },
         "name": "$7,000,000",
         "offsetgroup": "$7,000,000",
         "orientation": "v",
         "showlegend": true,
         "textposition": "auto",
         "type": "bar",
         "x": [
          "October",
          "May",
          "June",
          "January"
         ],
         "xaxis": "x",
         "y": [
          "$7,000,000",
          "$7,000,000",
          "$7,000,000",
          "$7,000,000"
         ],
         "yaxis": "y"
        },
        {
         "alignmentgroup": "True",
         "hovertemplate": "Deal Size=%{y}<br>Month=%{x}<extra></extra>",
         "legendgroup": "$4,219,880",
         "marker": {
          "color": "#00cc96",
          "pattern": {
           "shape": ""
          }
         },
         "name": "$4,219,880",
         "offsetgroup": "$4,219,880",
         "orientation": "v",
         "showlegend": true,
         "textposition": "auto",
         "type": "bar",
         "x": [
          "November"
         ],
         "xaxis": "x",
         "y": [
          "$4,219,880"
         ],
         "yaxis": "y"
        },
        {
         "alignmentgroup": "True",
         "hovertemplate": "Deal Size=%{y}<br>Month=%{x}<extra></extra>",
         "legendgroup": "$12,200,00",
         "marker": {
          "color": "#ab63fa",
          "pattern": {
           "shape": ""
          }
         },
         "name": "$12,200,00",
         "offsetgroup": "$12,200,00",
         "orientation": "v",
         "showlegend": true,
         "textposition": "auto",
         "type": "bar",
         "x": [
          "November"
         ],
         "xaxis": "x",
         "y": [
          "$12,200,00"
         ],
         "yaxis": "y"
        },
        {
         "alignmentgroup": "True",
         "hovertemplate": "Deal Size=%{y}<br>Month=%{x}<extra></extra>",
         "legendgroup": "$17,500,000",
         "marker": {
          "color": "#FFA15A",
          "pattern": {
           "shape": ""
          }
         },
         "name": "$17,500,000",
         "offsetgroup": "$17,500,000",
         "orientation": "v",
         "showlegend": true,
         "textposition": "auto",
         "type": "bar",
         "x": [
          "November"
         ],
         "xaxis": "x",
         "y": [
          "$17,500,000"
         ],
         "yaxis": "y"
        },
        {
         "alignmentgroup": "True",
         "hovertemplate": "Deal Size=%{y}<br>Month=%{x}<extra></extra>",
         "legendgroup": "$2,000,000",
         "marker": {
          "color": "#19d3f3",
          "pattern": {
           "shape": ""
          }
         },
         "name": "$2,000,000",
         "offsetgroup": "$2,000,000",
         "orientation": "v",
         "showlegend": true,
         "textposition": "auto",
         "type": "bar",
         "x": [
          "November",
          "July",
          "July",
          "July",
          "February",
          "August",
          "August"
         ],
         "xaxis": "x",
         "y": [
          "$2,000,000",
          "$2,000,000",
          "$2,000,000",
          "$2,000,000",
          "$2,000,000",
          "$2,000,000",
          "$2,000,000"
         ],
         "yaxis": "y"
        },
        {
         "alignmentgroup": "True",
         "hovertemplate": "Deal Size=%{y}<br>Month=%{x}<extra></extra>",
         "legendgroup": "$23,000,000",
         "marker": {
          "color": "#FF6692",
          "pattern": {
           "shape": ""
          }
         },
         "name": "$23,000,000",
         "offsetgroup": "$23,000,000",
         "orientation": "v",
         "showlegend": true,
         "textposition": "auto",
         "type": "bar",
         "x": [
          "November",
          "April"
         ],
         "xaxis": "x",
         "y": [
          "$23,000,000",
          "$23,000,000"
         ],
         "yaxis": "y"
        },
        {
         "alignmentgroup": "True",
         "hovertemplate": "Deal Size=%{y}<br>Month=%{x}<extra></extra>",
         "legendgroup": "$3,500,000",
         "marker": {
          "color": "#B6E880",
          "pattern": {
           "shape": ""
          }
         },
         "name": "$3,500,000",
         "offsetgroup": "$3,500,000",
         "orientation": "v",
         "showlegend": true,
         "textposition": "auto",
         "type": "bar",
         "x": [
          "May",
          "May",
          "May",
          "June",
          "July",
          "February",
          "August"
         ],
         "xaxis": "x",
         "y": [
          "$3,500,000",
          "$3,500,000",
          "$3,500,000",
          "$3,500,000",
          "$3,500,000",
          "$3,500,000",
          "$3,500,000"
         ],
         "yaxis": "y"
        },
        {
         "alignmentgroup": "True",
         "hovertemplate": "Deal Size=%{y}<br>Month=%{x}<extra></extra>",
         "legendgroup": "$23,500,000",
         "marker": {
          "color": "#FF97FF",
          "pattern": {
           "shape": ""
          }
         },
         "name": "$23,500,000",
         "offsetgroup": "$23,500,000",
         "orientation": "v",
         "showlegend": true,
         "textposition": "auto",
         "type": "bar",
         "x": [
          "May"
         ],
         "xaxis": "x",
         "y": [
          "$23,500,000"
         ],
         "yaxis": "y"
        },
        {
         "alignmentgroup": "True",
         "hovertemplate": "Deal Size=%{y}<br>Month=%{x}<extra></extra>",
         "legendgroup": "$4,250,000",
         "marker": {
          "color": "#FECB52",
          "pattern": {
           "shape": ""
          }
         },
         "name": "$4,250,000",
         "offsetgroup": "$4,250,000",
         "orientation": "v",
         "showlegend": true,
         "textposition": "auto",
         "type": "bar",
         "x": [
          "May"
         ],
         "xaxis": "x",
         "y": [
          "$4,250,000"
         ],
         "yaxis": "y"
        },
        {
         "alignmentgroup": "True",
         "hovertemplate": "Deal Size=%{y}<br>Month=%{x}<extra></extra>",
         "legendgroup": "$18,000,000",
         "marker": {
          "color": "#636efa",
          "pattern": {
           "shape": ""
          }
         },
         "name": "$18,000,000",
         "offsetgroup": "$18,000,000",
         "orientation": "v",
         "showlegend": true,
         "textposition": "auto",
         "type": "bar",
         "x": [
          "May",
          "March"
         ],
         "xaxis": "x",
         "y": [
          "$18,000,000",
          "$18,000,000"
         ],
         "yaxis": "y"
        },
        {
         "alignmentgroup": "True",
         "hovertemplate": "Deal Size=%{y}<br>Month=%{x}<extra></extra>",
         "legendgroup": "$6,000,000",
         "marker": {
          "color": "#EF553B",
          "pattern": {
           "shape": ""
          }
         },
         "name": "$6,000,000",
         "offsetgroup": "$6,000,000",
         "orientation": "v",
         "showlegend": true,
         "textposition": "auto",
         "type": "bar",
         "x": [
          "May",
          "June",
          "June",
          "February",
          "December"
         ],
         "xaxis": "x",
         "y": [
          "$6,000,000",
          "$6,000,000",
          "$6,000,000",
          "$6,000,000",
          "$6,000,000"
         ],
         "yaxis": "y"
        },
        {
         "alignmentgroup": "True",
         "hovertemplate": "Deal Size=%{y}<br>Month=%{x}<extra></extra>",
         "legendgroup": "$2,600,000",
         "marker": {
          "color": "#00cc96",
          "pattern": {
           "shape": ""
          }
         },
         "name": "$2,600,000",
         "offsetgroup": "$2,600,000",
         "orientation": "v",
         "showlegend": true,
         "textposition": "auto",
         "type": "bar",
         "x": [
          "March"
         ],
         "xaxis": "x",
         "y": [
          "$2,600,000"
         ],
         "yaxis": "y"
        },
        {
         "alignmentgroup": "True",
         "hovertemplate": "Deal Size=%{y}<br>Month=%{x}<extra></extra>",
         "legendgroup": "$5,500,000",
         "marker": {
          "color": "#ab63fa",
          "pattern": {
           "shape": ""
          }
         },
         "name": "$5,500,000",
         "offsetgroup": "$5,500,000",
         "orientation": "v",
         "showlegend": true,
         "textposition": "auto",
         "type": "bar",
         "x": [
          "March",
          "December"
         ],
         "xaxis": "x",
         "y": [
          "$5,500,000",
          "$5,500,000"
         ],
         "yaxis": "y"
        },
        {
         "alignmentgroup": "True",
         "hovertemplate": "Deal Size=%{y}<br>Month=%{x}<extra></extra>",
         "legendgroup": "$10,000,000",
         "marker": {
          "color": "#FFA15A",
          "pattern": {
           "shape": ""
          }
         },
         "name": "$10,000,000",
         "offsetgroup": "$10,000,000",
         "orientation": "v",
         "showlegend": true,
         "textposition": "auto",
         "type": "bar",
         "x": [
          "March",
          "June",
          "July",
          "July",
          "February",
          "December",
          "December",
          "April"
         ],
         "xaxis": "x",
         "y": [
          "$10,000,000",
          "$10,000,000",
          "$10,000,000",
          "$10,000,000",
          "$10,000,000",
          "$10,000,000",
          "$10,000,000",
          "$10,000,000"
         ],
         "yaxis": "y"
        },
        {
         "alignmentgroup": "True",
         "hovertemplate": "Deal Size=%{y}<br>Month=%{x}<extra></extra>",
         "legendgroup": "$5,800,000",
         "marker": {
          "color": "#19d3f3",
          "pattern": {
           "shape": ""
          }
         },
         "name": "$5,800,000",
         "offsetgroup": "$5,800,000",
         "orientation": "v",
         "showlegend": true,
         "textposition": "auto",
         "type": "bar",
         "x": [
          "June"
         ],
         "xaxis": "x",
         "y": [
          "$5,800,000"
         ],
         "yaxis": "y"
        },
        {
         "alignmentgroup": "True",
         "hovertemplate": "Deal Size=%{y}<br>Month=%{x}<extra></extra>",
         "legendgroup": "$36,000,000",
         "marker": {
          "color": "#FF6692",
          "pattern": {
           "shape": ""
          }
         },
         "name": "$36,000,000",
         "offsetgroup": "$36,000,000",
         "orientation": "v",
         "showlegend": true,
         "textposition": "auto",
         "type": "bar",
         "x": [
          "June"
         ],
         "xaxis": "x",
         "y": [
          "$36,000,000"
         ],
         "yaxis": "y"
        },
        {
         "alignmentgroup": "True",
         "hovertemplate": "Deal Size=%{y}<br>Month=%{x}<extra></extra>",
         "legendgroup": "$2,800,000",
         "marker": {
          "color": "#B6E880",
          "pattern": {
           "shape": ""
          }
         },
         "name": "$2,800,000",
         "offsetgroup": "$2,800,000",
         "orientation": "v",
         "showlegend": true,
         "textposition": "auto",
         "type": "bar",
         "x": [
          "June"
         ],
         "xaxis": "x",
         "y": [
          "$2,800,000"
         ],
         "yaxis": "y"
        },
        {
         "alignmentgroup": "True",
         "hovertemplate": "Deal Size=%{y}<br>Month=%{x}<extra></extra>",
         "legendgroup": "$25,000,000",
         "marker": {
          "color": "#FF97FF",
          "pattern": {
           "shape": ""
          }
         },
         "name": "$25,000,000",
         "offsetgroup": "$25,000,000",
         "orientation": "v",
         "showlegend": true,
         "textposition": "auto",
         "type": "bar",
         "x": [
          "June"
         ],
         "xaxis": "x",
         "y": [
          "$25,000,000"
         ],
         "yaxis": "y"
        },
        {
         "alignmentgroup": "True",
         "hovertemplate": "Deal Size=%{y}<br>Month=%{x}<extra></extra>",
         "legendgroup": "$8,500,000",
         "marker": {
          "color": "#FECB52",
          "pattern": {
           "shape": ""
          }
         },
         "name": "$8,500,000",
         "offsetgroup": "$8,500,000",
         "orientation": "v",
         "showlegend": true,
         "textposition": "auto",
         "type": "bar",
         "x": [
          "June"
         ],
         "xaxis": "x",
         "y": [
          "$8,500,000"
         ],
         "yaxis": "y"
        },
        {
         "alignmentgroup": "True",
         "hovertemplate": "Deal Size=%{y}<br>Month=%{x}<extra></extra>",
         "legendgroup": "$11,000,000",
         "marker": {
          "color": "#636efa",
          "pattern": {
           "shape": ""
          }
         },
         "name": "$11,000,000",
         "offsetgroup": "$11,000,000",
         "orientation": "v",
         "showlegend": true,
         "textposition": "auto",
         "type": "bar",
         "x": [
          "July"
         ],
         "xaxis": "x",
         "y": [
          "$11,000,000"
         ],
         "yaxis": "y"
        },
        {
         "alignmentgroup": "True",
         "hovertemplate": "Deal Size=%{y}<br>Month=%{x}<extra></extra>",
         "legendgroup": "$250,000",
         "marker": {
          "color": "#EF553B",
          "pattern": {
           "shape": ""
          }
         },
         "name": "$250,000",
         "offsetgroup": "$250,000",
         "orientation": "v",
         "showlegend": true,
         "textposition": "auto",
         "type": "bar",
         "x": [
          "July"
         ],
         "xaxis": "x",
         "y": [
          "$250,000"
         ],
         "yaxis": "y"
        },
        {
         "alignmentgroup": "True",
         "hovertemplate": "Deal Size=%{y}<br>Month=%{x}<extra></extra>",
         "legendgroup": "$8,400,000",
         "marker": {
          "color": "#00cc96",
          "pattern": {
           "shape": ""
          }
         },
         "name": "$8,400,000",
         "offsetgroup": "$8,400,000",
         "orientation": "v",
         "showlegend": true,
         "textposition": "auto",
         "type": "bar",
         "x": [
          "January"
         ],
         "xaxis": "x",
         "y": [
          "$8,400,000"
         ],
         "yaxis": "y"
        },
        {
         "alignmentgroup": "True",
         "hovertemplate": "Deal Size=%{y}<br>Month=%{x}<extra></extra>",
         "legendgroup": "$16,300,000",
         "marker": {
          "color": "#ab63fa",
          "pattern": {
           "shape": ""
          }
         },
         "name": "$16,300,000",
         "offsetgroup": "$16,300,000",
         "orientation": "v",
         "showlegend": true,
         "textposition": "auto",
         "type": "bar",
         "x": [
          "January"
         ],
         "xaxis": "x",
         "y": [
          "$16,300,000"
         ],
         "yaxis": "y"
        },
        {
         "alignmentgroup": "True",
         "hovertemplate": "Deal Size=%{y}<br>Month=%{x}<extra></extra>",
         "legendgroup": "$18,660,000",
         "marker": {
          "color": "#FFA15A",
          "pattern": {
           "shape": ""
          }
         },
         "name": "$18,660,000",
         "offsetgroup": "$18,660,000",
         "orientation": "v",
         "showlegend": true,
         "textposition": "auto",
         "type": "bar",
         "x": [
          "January"
         ],
         "xaxis": "x",
         "y": [
          "$18,660,000"
         ],
         "yaxis": "y"
        },
        {
         "alignmentgroup": "True",
         "hovertemplate": "Deal Size=%{y}<br>Month=%{x}<extra></extra>",
         "legendgroup": "$35,000,000",
         "marker": {
          "color": "#19d3f3",
          "pattern": {
           "shape": ""
          }
         },
         "name": "$35,000,000",
         "offsetgroup": "$35,000,000",
         "orientation": "v",
         "showlegend": true,
         "textposition": "auto",
         "type": "bar",
         "x": [
          "February"
         ],
         "xaxis": "x",
         "y": [
          "$35,000,000"
         ],
         "yaxis": "y"
        },
        {
         "alignmentgroup": "True",
         "hovertemplate": "Deal Size=%{y}<br>Month=%{x}<extra></extra>",
         "legendgroup": "$27,000,000",
         "marker": {
          "color": "#FF6692",
          "pattern": {
           "shape": ""
          }
         },
         "name": "$27,000,000",
         "offsetgroup": "$27,000,000",
         "orientation": "v",
         "showlegend": true,
         "textposition": "auto",
         "type": "bar",
         "x": [
          "February"
         ],
         "xaxis": "x",
         "y": [
          "$27,000,000"
         ],
         "yaxis": "y"
        },
        {
         "alignmentgroup": "True",
         "hovertemplate": "Deal Size=%{y}<br>Month=%{x}<extra></extra>",
         "legendgroup": "$15,800,000",
         "marker": {
          "color": "#B6E880",
          "pattern": {
           "shape": ""
          }
         },
         "name": "$15,800,000",
         "offsetgroup": "$15,800,000",
         "orientation": "v",
         "showlegend": true,
         "textposition": "auto",
         "type": "bar",
         "x": [
          "February"
         ],
         "xaxis": "x",
         "y": [
          "$15,800,000"
         ],
         "yaxis": "y"
        },
        {
         "alignmentgroup": "True",
         "hovertemplate": "Deal Size=%{y}<br>Month=%{x}<extra></extra>",
         "legendgroup": "$8,600,000",
         "marker": {
          "color": "#FF97FF",
          "pattern": {
           "shape": ""
          }
         },
         "name": "$8,600,000",
         "offsetgroup": "$8,600,000",
         "orientation": "v",
         "showlegend": true,
         "textposition": "auto",
         "type": "bar",
         "x": [
          "December"
         ],
         "xaxis": "x",
         "y": [
          "$8,600,000"
         ],
         "yaxis": "y"
        },
        {
         "alignmentgroup": "True",
         "hovertemplate": "Deal Size=%{y}<br>Month=%{x}<extra></extra>",
         "legendgroup": "$9,100,000",
         "marker": {
          "color": "#FECB52",
          "pattern": {
           "shape": ""
          }
         },
         "name": "$9,100,000",
         "offsetgroup": "$9,100,000",
         "orientation": "v",
         "showlegend": true,
         "textposition": "auto",
         "type": "bar",
         "x": [
          "December"
         ],
         "xaxis": "x",
         "y": [
          "$9,100,000"
         ],
         "yaxis": "y"
        },
        {
         "alignmentgroup": "True",
         "hovertemplate": "Deal Size=%{y}<br>Month=%{x}<extra></extra>",
         "legendgroup": "$300,000",
         "marker": {
          "color": "#636efa",
          "pattern": {
           "shape": ""
          }
         },
         "name": "$300,000",
         "offsetgroup": "$300,000",
         "orientation": "v",
         "showlegend": true,
         "textposition": "auto",
         "type": "bar",
         "x": [
          "December"
         ],
         "xaxis": "x",
         "y": [
          "$300,000"
         ],
         "yaxis": "y"
        },
        {
         "alignmentgroup": "True",
         "hovertemplate": "Deal Size=%{y}<br>Month=%{x}<extra></extra>",
         "legendgroup": "$21,000,000",
         "marker": {
          "color": "#EF553B",
          "pattern": {
           "shape": ""
          }
         },
         "name": "$21,000,000",
         "offsetgroup": "$21,000,000",
         "orientation": "v",
         "showlegend": true,
         "textposition": "auto",
         "type": "bar",
         "x": [
          "December"
         ],
         "xaxis": "x",
         "y": [
          "$21,000,000"
         ],
         "yaxis": "y"
        },
        {
         "alignmentgroup": "True",
         "hovertemplate": "Deal Size=%{y}<br>Month=%{x}<extra></extra>",
         "legendgroup": "$3,750,000",
         "marker": {
          "color": "#00cc96",
          "pattern": {
           "shape": ""
          }
         },
         "name": "$3,750,000",
         "offsetgroup": "$3,750,000",
         "orientation": "v",
         "showlegend": true,
         "textposition": "auto",
         "type": "bar",
         "x": [
          "December"
         ],
         "xaxis": "x",
         "y": [
          "$3,750,000"
         ],
         "yaxis": "y"
        },
        {
         "alignmentgroup": "True",
         "hovertemplate": "Deal Size=%{y}<br>Month=%{x}<extra></extra>",
         "legendgroup": "$32,000,000",
         "marker": {
          "color": "#ab63fa",
          "pattern": {
           "shape": ""
          }
         },
         "name": "$32,000,000",
         "offsetgroup": "$32,000,000",
         "orientation": "v",
         "showlegend": true,
         "textposition": "auto",
         "type": "bar",
         "x": [
          "December"
         ],
         "xaxis": "x",
         "y": [
          "$32,000,000"
         ],
         "yaxis": "y"
        },
        {
         "alignmentgroup": "True",
         "hovertemplate": "Deal Size=%{y}<br>Month=%{x}<extra></extra>",
         "legendgroup": "$40,000,000",
         "marker": {
          "color": "#FFA15A",
          "pattern": {
           "shape": ""
          }
         },
         "name": "$40,000,000",
         "offsetgroup": "$40,000,000",
         "orientation": "v",
         "showlegend": true,
         "textposition": "auto",
         "type": "bar",
         "x": [
          "August"
         ],
         "xaxis": "x",
         "y": [
          "$40,000,000"
         ],
         "yaxis": "y"
        },
        {
         "alignmentgroup": "True",
         "hovertemplate": "Deal Size=%{y}<br>Month=%{x}<extra></extra>",
         "legendgroup": "$6,600,000",
         "marker": {
          "color": "#19d3f3",
          "pattern": {
           "shape": ""
          }
         },
         "name": "$6,600,000",
         "offsetgroup": "$6,600,000",
         "orientation": "v",
         "showlegend": true,
         "textposition": "auto",
         "type": "bar",
         "x": [
          "April"
         ],
         "xaxis": "x",
         "y": [
          "$6,600,000"
         ],
         "yaxis": "y"
        },
        {
         "alignmentgroup": "True",
         "hovertemplate": "Deal Size=%{y}<br>Month=%{x}<extra></extra>",
         "legendgroup": "$30,000,000",
         "marker": {
          "color": "#FF6692",
          "pattern": {
           "shape": ""
          }
         },
         "name": "$30,000,000",
         "offsetgroup": "$30,000,000",
         "orientation": "v",
         "showlegend": true,
         "textposition": "auto",
         "type": "bar",
         "x": [
          "April"
         ],
         "xaxis": "x",
         "y": [
          "$30,000,000"
         ],
         "yaxis": "y"
        }
       ],
       "layout": {
        "barmode": "relative",
        "legend": {
         "title": {
          "text": "Deal Size"
         },
         "tracegroupgap": 0
        },
        "margin": {
         "t": 60
        },
        "template": {
         "data": {
          "bar": [
           {
            "error_x": {
             "color": "#2a3f5f"
            },
            "error_y": {
             "color": "#2a3f5f"
            },
            "marker": {
             "line": {
              "color": "#E5ECF6",
              "width": 0.5
             },
             "pattern": {
              "fillmode": "overlay",
              "size": 10,
              "solidity": 0.2
             }
            },
            "type": "bar"
           }
          ],
          "barpolar": [
           {
            "marker": {
             "line": {
              "color": "#E5ECF6",
              "width": 0.5
             },
             "pattern": {
              "fillmode": "overlay",
              "size": 10,
              "solidity": 0.2
             }
            },
            "type": "barpolar"
           }
          ],
          "carpet": [
           {
            "aaxis": {
             "endlinecolor": "#2a3f5f",
             "gridcolor": "white",
             "linecolor": "white",
             "minorgridcolor": "white",
             "startlinecolor": "#2a3f5f"
            },
            "baxis": {
             "endlinecolor": "#2a3f5f",
             "gridcolor": "white",
             "linecolor": "white",
             "minorgridcolor": "white",
             "startlinecolor": "#2a3f5f"
            },
            "type": "carpet"
           }
          ],
          "choropleth": [
           {
            "colorbar": {
             "outlinewidth": 0,
             "ticks": ""
            },
            "type": "choropleth"
           }
          ],
          "contour": [
           {
            "colorbar": {
             "outlinewidth": 0,
             "ticks": ""
            },
            "colorscale": [
             [
              0,
              "#0d0887"
             ],
             [
              0.1111111111111111,
              "#46039f"
             ],
             [
              0.2222222222222222,
              "#7201a8"
             ],
             [
              0.3333333333333333,
              "#9c179e"
             ],
             [
              0.4444444444444444,
              "#bd3786"
             ],
             [
              0.5555555555555556,
              "#d8576b"
             ],
             [
              0.6666666666666666,
              "#ed7953"
             ],
             [
              0.7777777777777778,
              "#fb9f3a"
             ],
             [
              0.8888888888888888,
              "#fdca26"
             ],
             [
              1,
              "#f0f921"
             ]
            ],
            "type": "contour"
           }
          ],
          "contourcarpet": [
           {
            "colorbar": {
             "outlinewidth": 0,
             "ticks": ""
            },
            "type": "contourcarpet"
           }
          ],
          "heatmap": [
           {
            "colorbar": {
             "outlinewidth": 0,
             "ticks": ""
            },
            "colorscale": [
             [
              0,
              "#0d0887"
             ],
             [
              0.1111111111111111,
              "#46039f"
             ],
             [
              0.2222222222222222,
              "#7201a8"
             ],
             [
              0.3333333333333333,
              "#9c179e"
             ],
             [
              0.4444444444444444,
              "#bd3786"
             ],
             [
              0.5555555555555556,
              "#d8576b"
             ],
             [
              0.6666666666666666,
              "#ed7953"
             ],
             [
              0.7777777777777778,
              "#fb9f3a"
             ],
             [
              0.8888888888888888,
              "#fdca26"
             ],
             [
              1,
              "#f0f921"
             ]
            ],
            "type": "heatmap"
           }
          ],
          "heatmapgl": [
           {
            "colorbar": {
             "outlinewidth": 0,
             "ticks": ""
            },
            "colorscale": [
             [
              0,
              "#0d0887"
             ],
             [
              0.1111111111111111,
              "#46039f"
             ],
             [
              0.2222222222222222,
              "#7201a8"
             ],
             [
              0.3333333333333333,
              "#9c179e"
             ],
             [
              0.4444444444444444,
              "#bd3786"
             ],
             [
              0.5555555555555556,
              "#d8576b"
             ],
             [
              0.6666666666666666,
              "#ed7953"
             ],
             [
              0.7777777777777778,
              "#fb9f3a"
             ],
             [
              0.8888888888888888,
              "#fdca26"
             ],
             [
              1,
              "#f0f921"
             ]
            ],
            "type": "heatmapgl"
           }
          ],
          "histogram": [
           {
            "marker": {
             "pattern": {
              "fillmode": "overlay",
              "size": 10,
              "solidity": 0.2
             }
            },
            "type": "histogram"
           }
          ],
          "histogram2d": [
           {
            "colorbar": {
             "outlinewidth": 0,
             "ticks": ""
            },
            "colorscale": [
             [
              0,
              "#0d0887"
             ],
             [
              0.1111111111111111,
              "#46039f"
             ],
             [
              0.2222222222222222,
              "#7201a8"
             ],
             [
              0.3333333333333333,
              "#9c179e"
             ],
             [
              0.4444444444444444,
              "#bd3786"
             ],
             [
              0.5555555555555556,
              "#d8576b"
             ],
             [
              0.6666666666666666,
              "#ed7953"
             ],
             [
              0.7777777777777778,
              "#fb9f3a"
             ],
             [
              0.8888888888888888,
              "#fdca26"
             ],
             [
              1,
              "#f0f921"
             ]
            ],
            "type": "histogram2d"
           }
          ],
          "histogram2dcontour": [
           {
            "colorbar": {
             "outlinewidth": 0,
             "ticks": ""
            },
            "colorscale": [
             [
              0,
              "#0d0887"
             ],
             [
              0.1111111111111111,
              "#46039f"
             ],
             [
              0.2222222222222222,
              "#7201a8"
             ],
             [
              0.3333333333333333,
              "#9c179e"
             ],
             [
              0.4444444444444444,
              "#bd3786"
             ],
             [
              0.5555555555555556,
              "#d8576b"
             ],
             [
              0.6666666666666666,
              "#ed7953"
             ],
             [
              0.7777777777777778,
              "#fb9f3a"
             ],
             [
              0.8888888888888888,
              "#fdca26"
             ],
             [
              1,
              "#f0f921"
             ]
            ],
            "type": "histogram2dcontour"
           }
          ],
          "mesh3d": [
           {
            "colorbar": {
             "outlinewidth": 0,
             "ticks": ""
            },
            "type": "mesh3d"
           }
          ],
          "parcoords": [
           {
            "line": {
             "colorbar": {
              "outlinewidth": 0,
              "ticks": ""
             }
            },
            "type": "parcoords"
           }
          ],
          "pie": [
           {
            "automargin": true,
            "type": "pie"
           }
          ],
          "scatter": [
           {
            "fillpattern": {
             "fillmode": "overlay",
             "size": 10,
             "solidity": 0.2
            },
            "type": "scatter"
           }
          ],
          "scatter3d": [
           {
            "line": {
             "colorbar": {
              "outlinewidth": 0,
              "ticks": ""
             }
            },
            "marker": {
             "colorbar": {
              "outlinewidth": 0,
              "ticks": ""
             }
            },
            "type": "scatter3d"
           }
          ],
          "scattercarpet": [
           {
            "marker": {
             "colorbar": {
              "outlinewidth": 0,
              "ticks": ""
             }
            },
            "type": "scattercarpet"
           }
          ],
          "scattergeo": [
           {
            "marker": {
             "colorbar": {
              "outlinewidth": 0,
              "ticks": ""
             }
            },
            "type": "scattergeo"
           }
          ],
          "scattergl": [
           {
            "marker": {
             "colorbar": {
              "outlinewidth": 0,
              "ticks": ""
             }
            },
            "type": "scattergl"
           }
          ],
          "scattermapbox": [
           {
            "marker": {
             "colorbar": {
              "outlinewidth": 0,
              "ticks": ""
             }
            },
            "type": "scattermapbox"
           }
          ],
          "scatterpolar": [
           {
            "marker": {
             "colorbar": {
              "outlinewidth": 0,
              "ticks": ""
             }
            },
            "type": "scatterpolar"
           }
          ],
          "scatterpolargl": [
           {
            "marker": {
             "colorbar": {
              "outlinewidth": 0,
              "ticks": ""
             }
            },
            "type": "scatterpolargl"
           }
          ],
          "scatterternary": [
           {
            "marker": {
             "colorbar": {
              "outlinewidth": 0,
              "ticks": ""
             }
            },
            "type": "scatterternary"
           }
          ],
          "surface": [
           {
            "colorbar": {
             "outlinewidth": 0,
             "ticks": ""
            },
            "colorscale": [
             [
              0,
              "#0d0887"
             ],
             [
              0.1111111111111111,
              "#46039f"
             ],
             [
              0.2222222222222222,
              "#7201a8"
             ],
             [
              0.3333333333333333,
              "#9c179e"
             ],
             [
              0.4444444444444444,
              "#bd3786"
             ],
             [
              0.5555555555555556,
              "#d8576b"
             ],
             [
              0.6666666666666666,
              "#ed7953"
             ],
             [
              0.7777777777777778,
              "#fb9f3a"
             ],
             [
              0.8888888888888888,
              "#fdca26"
             ],
             [
              1,
              "#f0f921"
             ]
            ],
            "type": "surface"
           }
          ],
          "table": [
           {
            "cells": {
             "fill": {
              "color": "#EBF0F8"
             },
             "line": {
              "color": "white"
             }
            },
            "header": {
             "fill": {
              "color": "#C8D4E3"
             },
             "line": {
              "color": "white"
             }
            },
            "type": "table"
           }
          ]
         },
         "layout": {
          "annotationdefaults": {
           "arrowcolor": "#2a3f5f",
           "arrowhead": 0,
           "arrowwidth": 1
          },
          "autotypenumbers": "strict",
          "coloraxis": {
           "colorbar": {
            "outlinewidth": 0,
            "ticks": ""
           }
          },
          "colorscale": {
           "diverging": [
            [
             0,
             "#8e0152"
            ],
            [
             0.1,
             "#c51b7d"
            ],
            [
             0.2,
             "#de77ae"
            ],
            [
             0.3,
             "#f1b6da"
            ],
            [
             0.4,
             "#fde0ef"
            ],
            [
             0.5,
             "#f7f7f7"
            ],
            [
             0.6,
             "#e6f5d0"
            ],
            [
             0.7,
             "#b8e186"
            ],
            [
             0.8,
             "#7fbc41"
            ],
            [
             0.9,
             "#4d9221"
            ],
            [
             1,
             "#276419"
            ]
           ],
           "sequential": [
            [
             0,
             "#0d0887"
            ],
            [
             0.1111111111111111,
             "#46039f"
            ],
            [
             0.2222222222222222,
             "#7201a8"
            ],
            [
             0.3333333333333333,
             "#9c179e"
            ],
            [
             0.4444444444444444,
             "#bd3786"
            ],
            [
             0.5555555555555556,
             "#d8576b"
            ],
            [
             0.6666666666666666,
             "#ed7953"
            ],
            [
             0.7777777777777778,
             "#fb9f3a"
            ],
            [
             0.8888888888888888,
             "#fdca26"
            ],
            [
             1,
             "#f0f921"
            ]
           ],
           "sequentialminus": [
            [
             0,
             "#0d0887"
            ],
            [
             0.1111111111111111,
             "#46039f"
            ],
            [
             0.2222222222222222,
             "#7201a8"
            ],
            [
             0.3333333333333333,
             "#9c179e"
            ],
            [
             0.4444444444444444,
             "#bd3786"
            ],
            [
             0.5555555555555556,
             "#d8576b"
            ],
            [
             0.6666666666666666,
             "#ed7953"
            ],
            [
             0.7777777777777778,
             "#fb9f3a"
            ],
            [
             0.8888888888888888,
             "#fdca26"
            ],
            [
             1,
             "#f0f921"
            ]
           ]
          },
          "colorway": [
           "#636efa",
           "#EF553B",
           "#00cc96",
           "#ab63fa",
           "#FFA15A",
           "#19d3f3",
           "#FF6692",
           "#B6E880",
           "#FF97FF",
           "#FECB52"
          ],
          "font": {
           "color": "#2a3f5f"
          },
          "geo": {
           "bgcolor": "white",
           "lakecolor": "white",
           "landcolor": "#E5ECF6",
           "showlakes": true,
           "showland": true,
           "subunitcolor": "white"
          },
          "hoverlabel": {
           "align": "left"
          },
          "hovermode": "closest",
          "mapbox": {
           "style": "light"
          },
          "paper_bgcolor": "white",
          "plot_bgcolor": "#E5ECF6",
          "polar": {
           "angularaxis": {
            "gridcolor": "white",
            "linecolor": "white",
            "ticks": ""
           },
           "bgcolor": "#E5ECF6",
           "radialaxis": {
            "gridcolor": "white",
            "linecolor": "white",
            "ticks": ""
           }
          },
          "scene": {
           "xaxis": {
            "backgroundcolor": "#E5ECF6",
            "gridcolor": "white",
            "gridwidth": 2,
            "linecolor": "white",
            "showbackground": true,
            "ticks": "",
            "zerolinecolor": "white"
           },
           "yaxis": {
            "backgroundcolor": "#E5ECF6",
            "gridcolor": "white",
            "gridwidth": 2,
            "linecolor": "white",
            "showbackground": true,
            "ticks": "",
            "zerolinecolor": "white"
           },
           "zaxis": {
            "backgroundcolor": "#E5ECF6",
            "gridcolor": "white",
            "gridwidth": 2,
            "linecolor": "white",
            "showbackground": true,
            "ticks": "",
            "zerolinecolor": "white"
           }
          },
          "shapedefaults": {
           "line": {
            "color": "#2a3f5f"
           }
          },
          "ternary": {
           "aaxis": {
            "gridcolor": "white",
            "linecolor": "white",
            "ticks": ""
           },
           "baxis": {
            "gridcolor": "white",
            "linecolor": "white",
            "ticks": ""
           },
           "bgcolor": "#E5ECF6",
           "caxis": {
            "gridcolor": "white",
            "linecolor": "white",
            "ticks": ""
           }
          },
          "title": {
           "x": 0.05
          },
          "xaxis": {
           "automargin": true,
           "gridcolor": "white",
           "linecolor": "white",
           "ticks": "",
           "title": {
            "standoff": 15
           },
           "zerolinecolor": "white",
           "zerolinewidth": 2
          },
          "yaxis": {
           "automargin": true,
           "gridcolor": "white",
           "linecolor": "white",
           "ticks": "",
           "title": {
            "standoff": 15
           },
           "zerolinecolor": "white",
           "zerolinewidth": 2
          }
         }
        },
        "title": {
         "text": "Data sample of Funding against sectors "
        },
        "xaxis": {
         "anchor": "y",
         "domain": [
          0,
          1
         ],
         "title": {
          "text": "Month"
         }
        },
        "yaxis": {
         "anchor": "x",
         "categoryarray": [
          "$30,000,000",
          "$6,600,000",
          "$40,000,000",
          "$32,000,000",
          "$3,750,000",
          "$21,000,000",
          "$300,000",
          "$9,100,000",
          "$8,600,000",
          "$15,800,000",
          "$27,000,000",
          "$35,000,000",
          "$18,660,000",
          "$16,300,000",
          "$8,400,000",
          "$250,000",
          "$11,000,000",
          "$8,500,000",
          "$25,000,000",
          "$2,800,000",
          "$36,000,000",
          "$5,800,000",
          "$10,000,000",
          "$5,500,000",
          "$2,600,000",
          "$6,000,000",
          "$18,000,000",
          "$4,250,000",
          "$23,500,000",
          "$3,500,000",
          "$23,000,000",
          "$2,000,000",
          "$17,500,000",
          "$12,200,00",
          "$4,219,880",
          "$7,000,000",
          "$16,000,000",
          "$20,000,000",
          "$2,500,000",
          "$13,000,000",
          "$2,100,000",
          "$4,500,000",
          "$6,500,000",
          "$2,750,000",
          "$7,500,000",
          "$15,000,000",
          "$5,000,000",
          "$31,000,000",
          "$3,000,000",
          "$200,000,000,000,000",
          "$8,000,000",
          "$3,200,000",
          "$6,200,000",
          "$4,000,000",
          "$2,400,000",
          "$12,000,000",
          "$2,300,000"
         ],
         "categoryorder": "array",
         "domain": [
          0,
          1
         ],
         "title": {
          "text": "Deal Size"
         }
        }
       }
      }
     },
     "metadata": {},
     "output_type": "display_data"
    }
   ],
   "source": [
    "import matplotlib as plt\n",
    "import matplotlib.pyplot as plt\n",
    "import plotly.express as px\n",
    "\n",
    "df1 = df.sort_values(by=['Month'],ascending = False).reset_index()\n",
    "Sector = px.bar(df1, x = 'Month', y = 'Deal Size', color = 'Deal Size',\n",
    "             color_continuous_scale = 'blues')\n",
    "Sector.update_layout(title = 'Data sample of Funding against sectors ')\n",
    "Sector.show()    \n"
   ]
  },
  {
   "cell_type": "code",
   "execution_count": 13,
   "metadata": {},
   "outputs": [
    {
     "data": {
      "application/vnd.plotly.v1+json": {
       "config": {
        "plotlyServerURL": "https://plot.ly"
       },
       "data": [
        {
         "alignmentgroup": "True",
         "hovertemplate": "Deal Size=%{y}<br>Sector=%{x}<extra></extra>",
         "legendgroup": "$18,660,000",
         "marker": {
          "color": "#636efa",
          "pattern": {
           "shape": ""
          }
         },
         "name": "$18,660,000",
         "offsetgroup": "$18,660,000",
         "orientation": "v",
         "showlegend": true,
         "textposition": "auto",
         "type": "bar",
         "x": [
          "Travel"
         ],
         "xaxis": "x",
         "y": [
          "$18,660,000"
         ],
         "yaxis": "y"
        },
        {
         "alignmentgroup": "True",
         "hovertemplate": "Deal Size=%{y}<br>Sector=%{x}<extra></extra>",
         "legendgroup": "$15,800,000",
         "marker": {
          "color": "#EF553B",
          "pattern": {
           "shape": ""
          }
         },
         "name": "$15,800,000",
         "offsetgroup": "$15,800,000",
         "orientation": "v",
         "showlegend": true,
         "textposition": "auto",
         "type": "bar",
         "x": [
          "Travel"
         ],
         "xaxis": "x",
         "y": [
          "$15,800,000"
         ],
         "yaxis": "y"
        },
        {
         "alignmentgroup": "True",
         "hovertemplate": "Deal Size=%{y}<br>Sector=%{x}<extra></extra>",
         "legendgroup": "$2,500,000",
         "marker": {
          "color": "#00cc96",
          "pattern": {
           "shape": ""
          }
         },
         "name": "$2,500,000",
         "offsetgroup": "$2,500,000",
         "orientation": "v",
         "showlegend": true,
         "textposition": "auto",
         "type": "bar",
         "x": [
          "Travel",
          "Health",
          "Fintech",
          "Fintech",
          "E-Commerce",
          "E-Commerce"
         ],
         "xaxis": "x",
         "y": [
          "$2,500,000",
          "$2,500,000",
          "$2,500,000",
          "$2,500,000",
          "$2,500,000",
          "$2,500,000"
         ],
         "yaxis": "y"
        },
        {
         "alignmentgroup": "True",
         "hovertemplate": "Deal Size=%{y}<br>Sector=%{x}<extra></extra>",
         "legendgroup": "$7,000,000",
         "marker": {
          "color": "#ab63fa",
          "pattern": {
           "shape": ""
          }
         },
         "name": "$7,000,000",
         "offsetgroup": "$7,000,000",
         "orientation": "v",
         "showlegend": true,
         "textposition": "auto",
         "type": "bar",
         "x": [
          "Travel",
          "Real Estate",
          "E-Commerce",
          "Big Data"
         ],
         "xaxis": "x",
         "y": [
          "$7,000,000",
          "$7,000,000",
          "$7,000,000",
          "$7,000,000"
         ],
         "yaxis": "y"
        },
        {
         "alignmentgroup": "True",
         "hovertemplate": "Deal Size=%{y}<br>Sector=%{x}<extra></extra>",
         "legendgroup": "$2,000,000",
         "marker": {
          "color": "#FFA15A",
          "pattern": {
           "shape": ""
          }
         },
         "name": "$2,000,000",
         "offsetgroup": "$2,000,000",
         "orientation": "v",
         "showlegend": true,
         "textposition": "auto",
         "type": "bar",
         "x": [
          "Software",
          "Logistics",
          "Logistics",
          "LegalTech",
          "E-Commerce",
          "E-Commerce",
          "E-Commerce"
         ],
         "xaxis": "x",
         "y": [
          "$2,000,000",
          "$2,000,000",
          "$2,000,000",
          "$2,000,000",
          "$2,000,000",
          "$2,000,000",
          "$2,000,000"
         ],
         "yaxis": "y"
        },
        {
         "alignmentgroup": "True",
         "hovertemplate": "Deal Size=%{y}<br>Sector=%{x}<extra></extra>",
         "legendgroup": "$200,000,000,000,000",
         "marker": {
          "color": "#19d3f3",
          "pattern": {
           "shape": ""
          }
         },
         "name": "$200,000,000,000,000",
         "offsetgroup": "$200,000,000,000,000",
         "orientation": "v",
         "showlegend": true,
         "textposition": "auto",
         "type": "bar",
         "x": [
          "Software"
         ],
         "xaxis": "x",
         "y": [
          "$200,000,000,000,000"
         ],
         "yaxis": "y"
        },
        {
         "alignmentgroup": "True",
         "hovertemplate": "Deal Size=%{y}<br>Sector=%{x}<extra></extra>",
         "legendgroup": "$6,000,000",
         "marker": {
          "color": "#FF6692",
          "pattern": {
           "shape": ""
          }
         },
         "name": "$6,000,000",
         "offsetgroup": "$6,000,000",
         "orientation": "v",
         "showlegend": true,
         "textposition": "auto",
         "type": "bar",
         "x": [
          "Real Estate",
          "Logistics",
          "Fintech",
          "CyberSecurity",
          "Beauty"
         ],
         "xaxis": "x",
         "y": [
          "$6,000,000",
          "$6,000,000",
          "$6,000,000",
          "$6,000,000",
          "$6,000,000"
         ],
         "yaxis": "y"
        },
        {
         "alignmentgroup": "True",
         "hovertemplate": "Deal Size=%{y}<br>Sector=%{x}<extra></extra>",
         "legendgroup": "$7,500,000",
         "marker": {
          "color": "#B6E880",
          "pattern": {
           "shape": ""
          }
         },
         "name": "$7,500,000",
         "offsetgroup": "$7,500,000",
         "orientation": "v",
         "showlegend": true,
         "textposition": "auto",
         "type": "bar",
         "x": [
          "Real Estate",
          "E-Commerce"
         ],
         "xaxis": "x",
         "y": [
          "$7,500,000",
          "$7,500,000"
         ],
         "yaxis": "y"
        },
        {
         "alignmentgroup": "True",
         "hovertemplate": "Deal Size=%{y}<br>Sector=%{x}<extra></extra>",
         "legendgroup": "$4,000,000",
         "marker": {
          "color": "#FF97FF",
          "pattern": {
           "shape": ""
          }
         },
         "name": "$4,000,000",
         "offsetgroup": "$4,000,000",
         "orientation": "v",
         "showlegend": true,
         "textposition": "auto",
         "type": "bar",
         "x": [
          "Real Estate",
          "Mobility",
          "Fintech",
          "Fintech",
          "Fintech",
          "E-Commerce",
          "E-Commerce"
         ],
         "xaxis": "x",
         "y": [
          "$4,000,000",
          "$4,000,000",
          "$4,000,000",
          "$4,000,000",
          "$4,000,000",
          "$4,000,000",
          "$4,000,000"
         ],
         "yaxis": "y"
        },
        {
         "alignmentgroup": "True",
         "hovertemplate": "Deal Size=%{y}<br>Sector=%{x}<extra></extra>",
         "legendgroup": "$3,500,000",
         "marker": {
          "color": "#FECB52",
          "pattern": {
           "shape": ""
          }
         },
         "name": "$3,500,000",
         "offsetgroup": "$3,500,000",
         "orientation": "v",
         "showlegend": true,
         "textposition": "auto",
         "type": "bar",
         "x": [
          "Publishing",
          "On Demand Servicess",
          "Logistics",
          "Fintech",
          "Fintech",
          "Finitech",
          "E-Commerce"
         ],
         "xaxis": "x",
         "y": [
          "$3,500,000",
          "$3,500,000",
          "$3,500,000",
          "$3,500,000",
          "$3,500,000",
          "$3,500,000",
          "$3,500,000"
         ],
         "yaxis": "y"
        },
        {
         "alignmentgroup": "True",
         "hovertemplate": "Deal Size=%{y}<br>Sector=%{x}<extra></extra>",
         "legendgroup": "$6,200,000",
         "marker": {
          "color": "#636efa",
          "pattern": {
           "shape": ""
          }
         },
         "name": "$6,200,000",
         "offsetgroup": "$6,200,000",
         "orientation": "v",
         "showlegend": true,
         "textposition": "auto",
         "type": "bar",
         "x": [
          "On-Demand Services",
          "E-Commerce",
          "BioTech"
         ],
         "xaxis": "x",
         "y": [
          "$6,200,000",
          "$6,200,000",
          "$6,200,000"
         ],
         "yaxis": "y"
        },
        {
         "alignmentgroup": "True",
         "hovertemplate": "Deal Size=%{y}<br>Sector=%{x}<extra></extra>",
         "legendgroup": "$8,000,000",
         "marker": {
          "color": "#EF553B",
          "pattern": {
           "shape": ""
          }
         },
         "name": "$8,000,000",
         "offsetgroup": "$8,000,000",
         "orientation": "v",
         "showlegend": true,
         "textposition": "auto",
         "type": "bar",
         "x": [
          "On Demand Services",
          "FoodTech",
          "Fintech",
          "E-Commerce"
         ],
         "xaxis": "x",
         "y": [
          "$8,000,000",
          "$8,000,000",
          "$8,000,000",
          "$8,000,000"
         ],
         "yaxis": "y"
        },
        {
         "alignmentgroup": "True",
         "hovertemplate": "Deal Size=%{y}<br>Sector=%{x}<extra></extra>",
         "legendgroup": "$2,800,000",
         "marker": {
          "color": "#00cc96",
          "pattern": {
           "shape": ""
          }
         },
         "name": "$2,800,000",
         "offsetgroup": "$2,800,000",
         "orientation": "v",
         "showlegend": true,
         "textposition": "auto",
         "type": "bar",
         "x": [
          "Music"
         ],
         "xaxis": "x",
         "y": [
          "$2,800,000"
         ],
         "yaxis": "y"
        },
        {
         "alignmentgroup": "True",
         "hovertemplate": "Deal Size=%{y}<br>Sector=%{x}<extra></extra>",
         "legendgroup": "$17,500,000",
         "marker": {
          "color": "#ab63fa",
          "pattern": {
           "shape": ""
          }
         },
         "name": "$17,500,000",
         "offsetgroup": "$17,500,000",
         "orientation": "v",
         "showlegend": true,
         "textposition": "auto",
         "type": "bar",
         "x": [
          "Mobility"
         ],
         "xaxis": "x",
         "y": [
          "$17,500,000"
         ],
         "yaxis": "y"
        },
        {
         "alignmentgroup": "True",
         "hovertemplate": "Deal Size=%{y}<br>Sector=%{x}<extra></extra>",
         "legendgroup": "$10,000,000",
         "marker": {
          "color": "#FFA15A",
          "pattern": {
           "shape": ""
          }
         },
         "name": "$10,000,000",
         "offsetgroup": "$10,000,000",
         "orientation": "v",
         "showlegend": true,
         "textposition": "auto",
         "type": "bar",
         "x": [
          "Mobility",
          "Logistics",
          "Logistics",
          "Logistics",
          "Health",
          "E-Commerce",
          "E-Commerce",
          "E-Commerce"
         ],
         "xaxis": "x",
         "y": [
          "$10,000,000",
          "$10,000,000",
          "$10,000,000",
          "$10,000,000",
          "$10,000,000",
          "$10,000,000",
          "$10,000,000",
          "$10,000,000"
         ],
         "yaxis": "y"
        },
        {
         "alignmentgroup": "True",
         "hovertemplate": "Deal Size=%{y}<br>Sector=%{x}<extra></extra>",
         "legendgroup": "$11,000,000",
         "marker": {
          "color": "#19d3f3",
          "pattern": {
           "shape": ""
          }
         },
         "name": "$11,000,000",
         "offsetgroup": "$11,000,000",
         "orientation": "v",
         "showlegend": true,
         "textposition": "auto",
         "type": "bar",
         "x": [
          "Mobility"
         ],
         "xaxis": "x",
         "y": [
          "$11,000,000"
         ],
         "yaxis": "y"
        },
        {
         "alignmentgroup": "True",
         "hovertemplate": "Deal Size=%{y}<br>Sector=%{x}<extra></extra>",
         "legendgroup": "$40,000,000",
         "marker": {
          "color": "#FF6692",
          "pattern": {
           "shape": ""
          }
         },
         "name": "$40,000,000",
         "offsetgroup": "$40,000,000",
         "orientation": "v",
         "showlegend": true,
         "textposition": "auto",
         "type": "bar",
         "x": [
          "Mobility"
         ],
         "xaxis": "x",
         "y": [
          "$40,000,000"
         ],
         "yaxis": "y"
        },
        {
         "alignmentgroup": "True",
         "hovertemplate": "Deal Size=%{y}<br>Sector=%{x}<extra></extra>",
         "legendgroup": "$20,000,000",
         "marker": {
          "color": "#B6E880",
          "pattern": {
           "shape": ""
          }
         },
         "name": "$20,000,000",
         "offsetgroup": "$20,000,000",
         "orientation": "v",
         "showlegend": true,
         "textposition": "auto",
         "type": "bar",
         "x": [
          "Mobility",
          "Mobility",
          "Insurance, Health",
          "Fintech",
          "E-Commerce",
          "Agriculture"
         ],
         "xaxis": "x",
         "y": [
          "$20,000,000",
          "$20,000,000",
          "$20,000,000",
          "$20,000,000",
          "$20,000,000",
          "$20,000,000"
         ],
         "yaxis": "y"
        },
        {
         "alignmentgroup": "True",
         "hovertemplate": "Deal Size=%{y}<br>Sector=%{x}<extra></extra>",
         "legendgroup": "$15,000,000",
         "marker": {
          "color": "#FF97FF",
          "pattern": {
           "shape": ""
          }
         },
         "name": "$15,000,000",
         "offsetgroup": "$15,000,000",
         "orientation": "v",
         "showlegend": true,
         "textposition": "auto",
         "type": "bar",
         "x": [
          "Marketing",
          "Logistics",
          "Logistics"
         ],
         "xaxis": "x",
         "y": [
          "$15,000,000",
          "$15,000,000",
          "$15,000,000"
         ],
         "yaxis": "y"
        },
        {
         "alignmentgroup": "True",
         "hovertemplate": "Deal Size=%{y}<br>Sector=%{x}<extra></extra>",
         "legendgroup": "$12,200,00",
         "marker": {
          "color": "#FECB52",
          "pattern": {
           "shape": ""
          }
         },
         "name": "$12,200,00",
         "offsetgroup": "$12,200,00",
         "orientation": "v",
         "showlegend": true,
         "textposition": "auto",
         "type": "bar",
         "x": [
          "Marketing"
         ],
         "xaxis": "x",
         "y": [
          "$12,200,00"
         ],
         "yaxis": "y"
        },
        {
         "alignmentgroup": "True",
         "hovertemplate": "Deal Size=%{y}<br>Sector=%{x}<extra></extra>",
         "legendgroup": "$3,000,000",
         "marker": {
          "color": "#636efa",
          "pattern": {
           "shape": ""
          }
         },
         "name": "$3,000,000",
         "offsetgroup": "$3,000,000",
         "orientation": "v",
         "showlegend": true,
         "textposition": "auto",
         "type": "bar",
         "x": [
          "Logisticss",
          "Logistics",
          "Health",
          "Fintech",
          "E-Commerce"
         ],
         "xaxis": "x",
         "y": [
          "$3,000,000",
          "$3,000,000",
          "$3,000,000",
          "$3,000,000",
          "$3,000,000"
         ],
         "yaxis": "y"
        },
        {
         "alignmentgroup": "True",
         "hovertemplate": "Deal Size=%{y}<br>Sector=%{x}<extra></extra>",
         "legendgroup": "$2,750,000",
         "marker": {
          "color": "#EF553B",
          "pattern": {
           "shape": ""
          }
         },
         "name": "$2,750,000",
         "offsetgroup": "$2,750,000",
         "orientation": "v",
         "showlegend": true,
         "textposition": "auto",
         "type": "bar",
         "x": [
          "Logistics"
         ],
         "xaxis": "x",
         "y": [
          "$2,750,000"
         ],
         "yaxis": "y"
        },
        {
         "alignmentgroup": "True",
         "hovertemplate": "Deal Size=%{y}<br>Sector=%{x}<extra></extra>",
         "legendgroup": "$2,300,000",
         "marker": {
          "color": "#00cc96",
          "pattern": {
           "shape": ""
          }
         },
         "name": "$2,300,000",
         "offsetgroup": "$2,300,000",
         "orientation": "v",
         "showlegend": true,
         "textposition": "auto",
         "type": "bar",
         "x": [
          "Logistics",
          "Logistics",
          "Health",
          "E-Commerce"
         ],
         "xaxis": "x",
         "y": [
          "$2,300,000",
          "$2,300,000",
          "$2,300,000",
          "$2,300,000"
         ],
         "yaxis": "y"
        },
        {
         "alignmentgroup": "True",
         "hovertemplate": "Deal Size=%{y}<br>Sector=%{x}<extra></extra>",
         "legendgroup": "$2,400,000",
         "marker": {
          "color": "#ab63fa",
          "pattern": {
           "shape": ""
          }
         },
         "name": "$2,400,000",
         "offsetgroup": "$2,400,000",
         "orientation": "v",
         "showlegend": true,
         "textposition": "auto",
         "type": "bar",
         "x": [
          "Logistics",
          "Fintech",
          "Fintech",
          "Education"
         ],
         "xaxis": "x",
         "y": [
          "$2,400,000",
          "$2,400,000",
          "$2,400,000",
          "$2,400,000"
         ],
         "yaxis": "y"
        },
        {
         "alignmentgroup": "True",
         "hovertemplate": "Deal Size=%{y}<br>Sector=%{x}<extra></extra>",
         "legendgroup": "$2,600,000",
         "marker": {
          "color": "#FFA15A",
          "pattern": {
           "shape": ""
          }
         },
         "name": "$2,600,000",
         "offsetgroup": "$2,600,000",
         "orientation": "v",
         "showlegend": true,
         "textposition": "auto",
         "type": "bar",
         "x": [
          "Logistics"
         ],
         "xaxis": "x",
         "y": [
          "$2,600,000"
         ],
         "yaxis": "y"
        },
        {
         "alignmentgroup": "True",
         "hovertemplate": "Deal Size=%{y}<br>Sector=%{x}<extra></extra>",
         "legendgroup": "$9,100,000",
         "marker": {
          "color": "#19d3f3",
          "pattern": {
           "shape": ""
          }
         },
         "name": "$9,100,000",
         "offsetgroup": "$9,100,000",
         "orientation": "v",
         "showlegend": true,
         "textposition": "auto",
         "type": "bar",
         "x": [
          "Logistics"
         ],
         "xaxis": "x",
         "y": [
          "$9,100,000"
         ],
         "yaxis": "y"
        },
        {
         "alignmentgroup": "True",
         "hovertemplate": "Deal Size=%{y}<br>Sector=%{x}<extra></extra>",
         "legendgroup": "$36,000,000",
         "marker": {
          "color": "#FF6692",
          "pattern": {
           "shape": ""
          }
         },
         "name": "$36,000,000",
         "offsetgroup": "$36,000,000",
         "orientation": "v",
         "showlegend": true,
         "textposition": "auto",
         "type": "bar",
         "x": [
          "Logistics"
         ],
         "xaxis": "x",
         "y": [
          "$36,000,000"
         ],
         "yaxis": "y"
        },
        {
         "alignmentgroup": "True",
         "hovertemplate": "Deal Size=%{y}<br>Sector=%{x}<extra></extra>",
         "legendgroup": "$5,000,000",
         "marker": {
          "color": "#B6E880",
          "pattern": {
           "shape": ""
          }
         },
         "name": "$5,000,000",
         "offsetgroup": "$5,000,000",
         "orientation": "v",
         "showlegend": true,
         "textposition": "auto",
         "type": "bar",
         "x": [
          "Logistics",
          "LegalTech",
          "FoodTech",
          "Fintech",
          "Fintech",
          "E-Commerce",
          "E-Commerce",
          "Cloud Kitchen"
         ],
         "xaxis": "x",
         "y": [
          "$5,000,000",
          "$5,000,000",
          "$5,000,000",
          "$5,000,000",
          "$5,000,000",
          "$5,000,000",
          "$5,000,000",
          "$5,000,000"
         ],
         "yaxis": "y"
        },
        {
         "alignmentgroup": "True",
         "hovertemplate": "Deal Size=%{y}<br>Sector=%{x}<extra></extra>",
         "legendgroup": "$300,000",
         "marker": {
          "color": "#FF97FF",
          "pattern": {
           "shape": ""
          }
         },
         "name": "$300,000",
         "offsetgroup": "$300,000",
         "orientation": "v",
         "showlegend": true,
         "textposition": "auto",
         "type": "bar",
         "x": [
          "Logistics"
         ],
         "xaxis": "x",
         "y": [
          "$300,000"
         ],
         "yaxis": "y"
        },
        {
         "alignmentgroup": "True",
         "hovertemplate": "Deal Size=%{y}<br>Sector=%{x}<extra></extra>",
         "legendgroup": "$8,600,000",
         "marker": {
          "color": "#FECB52",
          "pattern": {
           "shape": ""
          }
         },
         "name": "$8,600,000",
         "offsetgroup": "$8,600,000",
         "orientation": "v",
         "showlegend": true,
         "textposition": "auto",
         "type": "bar",
         "x": [
          "Logistics"
         ],
         "xaxis": "x",
         "y": [
          "$8,600,000"
         ],
         "yaxis": "y"
        },
        {
         "alignmentgroup": "True",
         "hovertemplate": "Deal Size=%{y}<br>Sector=%{x}<extra></extra>",
         "legendgroup": "$13,000,000",
         "marker": {
          "color": "#636efa",
          "pattern": {
           "shape": ""
          }
         },
         "name": "$13,000,000",
         "offsetgroup": "$13,000,000",
         "orientation": "v",
         "showlegend": true,
         "textposition": "auto",
         "type": "bar",
         "x": [
          "Logistics",
          "Fintech",
          "Education"
         ],
         "xaxis": "x",
         "y": [
          "$13,000,000",
          "$13,000,000",
          "$13,000,000"
         ],
         "yaxis": "y"
        },
        {
         "alignmentgroup": "True",
         "hovertemplate": "Deal Size=%{y}<br>Sector=%{x}<extra></extra>",
         "legendgroup": "$23,000,000",
         "marker": {
          "color": "#EF553B",
          "pattern": {
           "shape": ""
          }
         },
         "name": "$23,000,000",
         "offsetgroup": "$23,000,000",
         "orientation": "v",
         "showlegend": true,
         "textposition": "auto",
         "type": "bar",
         "x": [
          "Logistics",
          "E-Commerce"
         ],
         "xaxis": "x",
         "y": [
          "$23,000,000",
          "$23,000,000"
         ],
         "yaxis": "y"
        },
        {
         "alignmentgroup": "True",
         "hovertemplate": "Deal Size=%{y}<br>Sector=%{x}<extra></extra>",
         "legendgroup": "$23,500,000",
         "marker": {
          "color": "#00cc96",
          "pattern": {
           "shape": ""
          }
         },
         "name": "$23,500,000",
         "offsetgroup": "$23,500,000",
         "orientation": "v",
         "showlegend": true,
         "textposition": "auto",
         "type": "bar",
         "x": [
          "Logistics"
         ],
         "xaxis": "x",
         "y": [
          "$23,500,000"
         ],
         "yaxis": "y"
        },
        {
         "alignmentgroup": "True",
         "hovertemplate": "Deal Size=%{y}<br>Sector=%{x}<extra></extra>",
         "legendgroup": "$4,219,880",
         "marker": {
          "color": "#ab63fa",
          "pattern": {
           "shape": ""
          }
         },
         "name": "$4,219,880",
         "offsetgroup": "$4,219,880",
         "orientation": "v",
         "showlegend": true,
         "textposition": "auto",
         "type": "bar",
         "x": [
          "Health"
         ],
         "xaxis": "x",
         "y": [
          "$4,219,880"
         ],
         "yaxis": "y"
        },
        {
         "alignmentgroup": "True",
         "hovertemplate": "Deal Size=%{y}<br>Sector=%{x}<extra></extra>",
         "legendgroup": "$12,000,000",
         "marker": {
          "color": "#FFA15A",
          "pattern": {
           "shape": ""
          }
         },
         "name": "$12,000,000",
         "offsetgroup": "$12,000,000",
         "orientation": "v",
         "showlegend": true,
         "textposition": "auto",
         "type": "bar",
         "x": [
          "Health",
          "Education"
         ],
         "xaxis": "x",
         "y": [
          "$12,000,000",
          "$12,000,000"
         ],
         "yaxis": "y"
        },
        {
         "alignmentgroup": "True",
         "hovertemplate": "Deal Size=%{y}<br>Sector=%{x}<extra></extra>",
         "legendgroup": "$3,200,000",
         "marker": {
          "color": "#19d3f3",
          "pattern": {
           "shape": ""
          }
         },
         "name": "$3,200,000",
         "offsetgroup": "$3,200,000",
         "orientation": "v",
         "showlegend": true,
         "textposition": "auto",
         "type": "bar",
         "x": [
          "Health"
         ],
         "xaxis": "x",
         "y": [
          "$3,200,000"
         ],
         "yaxis": "y"
        },
        {
         "alignmentgroup": "True",
         "hovertemplate": "Deal Size=%{y}<br>Sector=%{x}<extra></extra>",
         "legendgroup": "$6,500,000",
         "marker": {
          "color": "#FF6692",
          "pattern": {
           "shape": ""
          }
         },
         "name": "$6,500,000",
         "offsetgroup": "$6,500,000",
         "orientation": "v",
         "showlegend": true,
         "textposition": "auto",
         "type": "bar",
         "x": [
          "Health"
         ],
         "xaxis": "x",
         "y": [
          "$6,500,000"
         ],
         "yaxis": "y"
        },
        {
         "alignmentgroup": "True",
         "hovertemplate": "Deal Size=%{y}<br>Sector=%{x}<extra></extra>",
         "legendgroup": "$3,750,000",
         "marker": {
          "color": "#B6E880",
          "pattern": {
           "shape": ""
          }
         },
         "name": "$3,750,000",
         "offsetgroup": "$3,750,000",
         "orientation": "v",
         "showlegend": true,
         "textposition": "auto",
         "type": "bar",
         "x": [
          "Health"
         ],
         "xaxis": "x",
         "y": [
          "$3,750,000"
         ],
         "yaxis": "y"
        },
        {
         "alignmentgroup": "True",
         "hovertemplate": "Deal Size=%{y}<br>Sector=%{x}<extra></extra>",
         "legendgroup": "$18,000,000",
         "marker": {
          "color": "#FF97FF",
          "pattern": {
           "shape": ""
          }
         },
         "name": "$18,000,000",
         "offsetgroup": "$18,000,000",
         "orientation": "v",
         "showlegend": true,
         "textposition": "auto",
         "type": "bar",
         "x": [
          "Fintech",
          "E-Commerce"
         ],
         "xaxis": "x",
         "y": [
          "$18,000,000",
          "$18,000,000"
         ],
         "yaxis": "y"
        },
        {
         "alignmentgroup": "True",
         "hovertemplate": "Deal Size=%{y}<br>Sector=%{x}<extra></extra>",
         "legendgroup": "$16,300,000",
         "marker": {
          "color": "#FECB52",
          "pattern": {
           "shape": ""
          }
         },
         "name": "$16,300,000",
         "offsetgroup": "$16,300,000",
         "orientation": "v",
         "showlegend": true,
         "textposition": "auto",
         "type": "bar",
         "x": [
          "Fintech"
         ],
         "xaxis": "x",
         "y": [
          "$16,300,000"
         ],
         "yaxis": "y"
        },
        {
         "alignmentgroup": "True",
         "hovertemplate": "Deal Size=%{y}<br>Sector=%{x}<extra></extra>",
         "legendgroup": "$4,250,000",
         "marker": {
          "color": "#636efa",
          "pattern": {
           "shape": ""
          }
         },
         "name": "$4,250,000",
         "offsetgroup": "$4,250,000",
         "orientation": "v",
         "showlegend": true,
         "textposition": "auto",
         "type": "bar",
         "x": [
          "Fintech"
         ],
         "xaxis": "x",
         "y": [
          "$4,250,000"
         ],
         "yaxis": "y"
        },
        {
         "alignmentgroup": "True",
         "hovertemplate": "Deal Size=%{y}<br>Sector=%{x}<extra></extra>",
         "legendgroup": "$25,000,000",
         "marker": {
          "color": "#EF553B",
          "pattern": {
           "shape": ""
          }
         },
         "name": "$25,000,000",
         "offsetgroup": "$25,000,000",
         "orientation": "v",
         "showlegend": true,
         "textposition": "auto",
         "type": "bar",
         "x": [
          "Fintech"
         ],
         "xaxis": "x",
         "y": [
          "$25,000,000"
         ],
         "yaxis": "y"
        },
        {
         "alignmentgroup": "True",
         "hovertemplate": "Deal Size=%{y}<br>Sector=%{x}<extra></extra>",
         "legendgroup": "$16,000,000",
         "marker": {
          "color": "#00cc96",
          "pattern": {
           "shape": ""
          }
         },
         "name": "$16,000,000",
         "offsetgroup": "$16,000,000",
         "orientation": "v",
         "showlegend": true,
         "textposition": "auto",
         "type": "bar",
         "x": [
          "Fintech"
         ],
         "xaxis": "x",
         "y": [
          "$16,000,000"
         ],
         "yaxis": "y"
        },
        {
         "alignmentgroup": "True",
         "hovertemplate": "Deal Size=%{y}<br>Sector=%{x}<extra></extra>",
         "legendgroup": "$250,000",
         "marker": {
          "color": "#ab63fa",
          "pattern": {
           "shape": ""
          }
         },
         "name": "$250,000",
         "offsetgroup": "$250,000",
         "orientation": "v",
         "showlegend": true,
         "textposition": "auto",
         "type": "bar",
         "x": [
          "Fintech"
         ],
         "xaxis": "x",
         "y": [
          "$250,000"
         ],
         "yaxis": "y"
        },
        {
         "alignmentgroup": "True",
         "hovertemplate": "Deal Size=%{y}<br>Sector=%{x}<extra></extra>",
         "legendgroup": "$2,100,000",
         "marker": {
          "color": "#FFA15A",
          "pattern": {
           "shape": ""
          }
         },
         "name": "$2,100,000",
         "offsetgroup": "$2,100,000",
         "orientation": "v",
         "showlegend": true,
         "textposition": "auto",
         "type": "bar",
         "x": [
          "Fintech",
          "Fintech"
         ],
         "xaxis": "x",
         "y": [
          "$2,100,000",
          "$2,100,000"
         ],
         "yaxis": "y"
        },
        {
         "alignmentgroup": "True",
         "hovertemplate": "Deal Size=%{y}<br>Sector=%{x}<extra></extra>",
         "legendgroup": "$27,000,000",
         "marker": {
          "color": "#19d3f3",
          "pattern": {
           "shape": ""
          }
         },
         "name": "$27,000,000",
         "offsetgroup": "$27,000,000",
         "orientation": "v",
         "showlegend": true,
         "textposition": "auto",
         "type": "bar",
         "x": [
          "Fintech"
         ],
         "xaxis": "x",
         "y": [
          "$27,000,000"
         ],
         "yaxis": "y"
        },
        {
         "alignmentgroup": "True",
         "hovertemplate": "Deal Size=%{y}<br>Sector=%{x}<extra></extra>",
         "legendgroup": "$8,400,000",
         "marker": {
          "color": "#FF6692",
          "pattern": {
           "shape": ""
          }
         },
         "name": "$8,400,000",
         "offsetgroup": "$8,400,000",
         "orientation": "v",
         "showlegend": true,
         "textposition": "auto",
         "type": "bar",
         "x": [
          "Fintech"
         ],
         "xaxis": "x",
         "y": [
          "$8,400,000"
         ],
         "yaxis": "y"
        },
        {
         "alignmentgroup": "True",
         "hovertemplate": "Deal Size=%{y}<br>Sector=%{x}<extra></extra>",
         "legendgroup": "$5,500,000",
         "marker": {
          "color": "#B6E880",
          "pattern": {
           "shape": ""
          }
         },
         "name": "$5,500,000",
         "offsetgroup": "$5,500,000",
         "orientation": "v",
         "showlegend": true,
         "textposition": "auto",
         "type": "bar",
         "x": [
          "Fintech",
          "Fashion"
         ],
         "xaxis": "x",
         "y": [
          "$5,500,000",
          "$5,500,000"
         ],
         "yaxis": "y"
        },
        {
         "alignmentgroup": "True",
         "hovertemplate": "Deal Size=%{y}<br>Sector=%{x}<extra></extra>",
         "legendgroup": "$31,000,000",
         "marker": {
          "color": "#FF97FF",
          "pattern": {
           "shape": ""
          }
         },
         "name": "$31,000,000",
         "offsetgroup": "$31,000,000",
         "orientation": "v",
         "showlegend": true,
         "textposition": "auto",
         "type": "bar",
         "x": [
          "Fintech"
         ],
         "xaxis": "x",
         "y": [
          "$31,000,000"
         ],
         "yaxis": "y"
        },
        {
         "alignmentgroup": "True",
         "hovertemplate": "Deal Size=%{y}<br>Sector=%{x}<extra></extra>",
         "legendgroup": "$4,500,000",
         "marker": {
          "color": "#FECB52",
          "pattern": {
           "shape": ""
          }
         },
         "name": "$4,500,000",
         "offsetgroup": "$4,500,000",
         "orientation": "v",
         "showlegend": true,
         "textposition": "auto",
         "type": "bar",
         "x": [
          "Education"
         ],
         "xaxis": "x",
         "y": [
          "$4,500,000"
         ],
         "yaxis": "y"
        },
        {
         "alignmentgroup": "True",
         "hovertemplate": "Deal Size=%{y}<br>Sector=%{x}<extra></extra>",
         "legendgroup": "$30,000,000",
         "marker": {
          "color": "#636efa",
          "pattern": {
           "shape": ""
          }
         },
         "name": "$30,000,000",
         "offsetgroup": "$30,000,000",
         "orientation": "v",
         "showlegend": true,
         "textposition": "auto",
         "type": "bar",
         "x": [
          "E-Commerce"
         ],
         "xaxis": "x",
         "y": [
          "$30,000,000"
         ],
         "yaxis": "y"
        },
        {
         "alignmentgroup": "True",
         "hovertemplate": "Deal Size=%{y}<br>Sector=%{x}<extra></extra>",
         "legendgroup": "$32,000,000",
         "marker": {
          "color": "#EF553B",
          "pattern": {
           "shape": ""
          }
         },
         "name": "$32,000,000",
         "offsetgroup": "$32,000,000",
         "orientation": "v",
         "showlegend": true,
         "textposition": "auto",
         "type": "bar",
         "x": [
          "E-Commerce"
         ],
         "xaxis": "x",
         "y": [
          "$32,000,000"
         ],
         "yaxis": "y"
        },
        {
         "alignmentgroup": "True",
         "hovertemplate": "Deal Size=%{y}<br>Sector=%{x}<extra></extra>",
         "legendgroup": "$35,000,000",
         "marker": {
          "color": "#00cc96",
          "pattern": {
           "shape": ""
          }
         },
         "name": "$35,000,000",
         "offsetgroup": "$35,000,000",
         "orientation": "v",
         "showlegend": true,
         "textposition": "auto",
         "type": "bar",
         "x": [
          "E-Commerce"
         ],
         "xaxis": "x",
         "y": [
          "$35,000,000"
         ],
         "yaxis": "y"
        },
        {
         "alignmentgroup": "True",
         "hovertemplate": "Deal Size=%{y}<br>Sector=%{x}<extra></extra>",
         "legendgroup": "$6,600,000",
         "marker": {
          "color": "#ab63fa",
          "pattern": {
           "shape": ""
          }
         },
         "name": "$6,600,000",
         "offsetgroup": "$6,600,000",
         "orientation": "v",
         "showlegend": true,
         "textposition": "auto",
         "type": "bar",
         "x": [
          "E-Commerce"
         ],
         "xaxis": "x",
         "y": [
          "$6,600,000"
         ],
         "yaxis": "y"
        },
        {
         "alignmentgroup": "True",
         "hovertemplate": "Deal Size=%{y}<br>Sector=%{x}<extra></extra>",
         "legendgroup": "$21,000,000",
         "marker": {
          "color": "#FFA15A",
          "pattern": {
           "shape": ""
          }
         },
         "name": "$21,000,000",
         "offsetgroup": "$21,000,000",
         "orientation": "v",
         "showlegend": true,
         "textposition": "auto",
         "type": "bar",
         "x": [
          "E-Commerce"
         ],
         "xaxis": "x",
         "y": [
          "$21,000,000"
         ],
         "yaxis": "y"
        },
        {
         "alignmentgroup": "True",
         "hovertemplate": "Deal Size=%{y}<br>Sector=%{x}<extra></extra>",
         "legendgroup": "$8,500,000",
         "marker": {
          "color": "#19d3f3",
          "pattern": {
           "shape": ""
          }
         },
         "name": "$8,500,000",
         "offsetgroup": "$8,500,000",
         "orientation": "v",
         "showlegend": true,
         "textposition": "auto",
         "type": "bar",
         "x": [
          "E-Commerce"
         ],
         "xaxis": "x",
         "y": [
          "$8,500,000"
         ],
         "yaxis": "y"
        },
        {
         "alignmentgroup": "True",
         "hovertemplate": "Deal Size=%{y}<br>Sector=%{x}<extra></extra>",
         "legendgroup": "$5,800,000",
         "marker": {
          "color": "#FF6692",
          "pattern": {
           "shape": ""
          }
         },
         "name": "$5,800,000",
         "offsetgroup": "$5,800,000",
         "orientation": "v",
         "showlegend": true,
         "textposition": "auto",
         "type": "bar",
         "x": [
          "Construction"
         ],
         "xaxis": "x",
         "y": [
          "$5,800,000"
         ],
         "yaxis": "y"
        }
       ],
       "layout": {
        "barmode": "relative",
        "legend": {
         "title": {
          "text": "Deal Size"
         },
         "tracegroupgap": 0
        },
        "margin": {
         "t": 60
        },
        "template": {
         "data": {
          "bar": [
           {
            "error_x": {
             "color": "#2a3f5f"
            },
            "error_y": {
             "color": "#2a3f5f"
            },
            "marker": {
             "line": {
              "color": "#E5ECF6",
              "width": 0.5
             },
             "pattern": {
              "fillmode": "overlay",
              "size": 10,
              "solidity": 0.2
             }
            },
            "type": "bar"
           }
          ],
          "barpolar": [
           {
            "marker": {
             "line": {
              "color": "#E5ECF6",
              "width": 0.5
             },
             "pattern": {
              "fillmode": "overlay",
              "size": 10,
              "solidity": 0.2
             }
            },
            "type": "barpolar"
           }
          ],
          "carpet": [
           {
            "aaxis": {
             "endlinecolor": "#2a3f5f",
             "gridcolor": "white",
             "linecolor": "white",
             "minorgridcolor": "white",
             "startlinecolor": "#2a3f5f"
            },
            "baxis": {
             "endlinecolor": "#2a3f5f",
             "gridcolor": "white",
             "linecolor": "white",
             "minorgridcolor": "white",
             "startlinecolor": "#2a3f5f"
            },
            "type": "carpet"
           }
          ],
          "choropleth": [
           {
            "colorbar": {
             "outlinewidth": 0,
             "ticks": ""
            },
            "type": "choropleth"
           }
          ],
          "contour": [
           {
            "colorbar": {
             "outlinewidth": 0,
             "ticks": ""
            },
            "colorscale": [
             [
              0,
              "#0d0887"
             ],
             [
              0.1111111111111111,
              "#46039f"
             ],
             [
              0.2222222222222222,
              "#7201a8"
             ],
             [
              0.3333333333333333,
              "#9c179e"
             ],
             [
              0.4444444444444444,
              "#bd3786"
             ],
             [
              0.5555555555555556,
              "#d8576b"
             ],
             [
              0.6666666666666666,
              "#ed7953"
             ],
             [
              0.7777777777777778,
              "#fb9f3a"
             ],
             [
              0.8888888888888888,
              "#fdca26"
             ],
             [
              1,
              "#f0f921"
             ]
            ],
            "type": "contour"
           }
          ],
          "contourcarpet": [
           {
            "colorbar": {
             "outlinewidth": 0,
             "ticks": ""
            },
            "type": "contourcarpet"
           }
          ],
          "heatmap": [
           {
            "colorbar": {
             "outlinewidth": 0,
             "ticks": ""
            },
            "colorscale": [
             [
              0,
              "#0d0887"
             ],
             [
              0.1111111111111111,
              "#46039f"
             ],
             [
              0.2222222222222222,
              "#7201a8"
             ],
             [
              0.3333333333333333,
              "#9c179e"
             ],
             [
              0.4444444444444444,
              "#bd3786"
             ],
             [
              0.5555555555555556,
              "#d8576b"
             ],
             [
              0.6666666666666666,
              "#ed7953"
             ],
             [
              0.7777777777777778,
              "#fb9f3a"
             ],
             [
              0.8888888888888888,
              "#fdca26"
             ],
             [
              1,
              "#f0f921"
             ]
            ],
            "type": "heatmap"
           }
          ],
          "heatmapgl": [
           {
            "colorbar": {
             "outlinewidth": 0,
             "ticks": ""
            },
            "colorscale": [
             [
              0,
              "#0d0887"
             ],
             [
              0.1111111111111111,
              "#46039f"
             ],
             [
              0.2222222222222222,
              "#7201a8"
             ],
             [
              0.3333333333333333,
              "#9c179e"
             ],
             [
              0.4444444444444444,
              "#bd3786"
             ],
             [
              0.5555555555555556,
              "#d8576b"
             ],
             [
              0.6666666666666666,
              "#ed7953"
             ],
             [
              0.7777777777777778,
              "#fb9f3a"
             ],
             [
              0.8888888888888888,
              "#fdca26"
             ],
             [
              1,
              "#f0f921"
             ]
            ],
            "type": "heatmapgl"
           }
          ],
          "histogram": [
           {
            "marker": {
             "pattern": {
              "fillmode": "overlay",
              "size": 10,
              "solidity": 0.2
             }
            },
            "type": "histogram"
           }
          ],
          "histogram2d": [
           {
            "colorbar": {
             "outlinewidth": 0,
             "ticks": ""
            },
            "colorscale": [
             [
              0,
              "#0d0887"
             ],
             [
              0.1111111111111111,
              "#46039f"
             ],
             [
              0.2222222222222222,
              "#7201a8"
             ],
             [
              0.3333333333333333,
              "#9c179e"
             ],
             [
              0.4444444444444444,
              "#bd3786"
             ],
             [
              0.5555555555555556,
              "#d8576b"
             ],
             [
              0.6666666666666666,
              "#ed7953"
             ],
             [
              0.7777777777777778,
              "#fb9f3a"
             ],
             [
              0.8888888888888888,
              "#fdca26"
             ],
             [
              1,
              "#f0f921"
             ]
            ],
            "type": "histogram2d"
           }
          ],
          "histogram2dcontour": [
           {
            "colorbar": {
             "outlinewidth": 0,
             "ticks": ""
            },
            "colorscale": [
             [
              0,
              "#0d0887"
             ],
             [
              0.1111111111111111,
              "#46039f"
             ],
             [
              0.2222222222222222,
              "#7201a8"
             ],
             [
              0.3333333333333333,
              "#9c179e"
             ],
             [
              0.4444444444444444,
              "#bd3786"
             ],
             [
              0.5555555555555556,
              "#d8576b"
             ],
             [
              0.6666666666666666,
              "#ed7953"
             ],
             [
              0.7777777777777778,
              "#fb9f3a"
             ],
             [
              0.8888888888888888,
              "#fdca26"
             ],
             [
              1,
              "#f0f921"
             ]
            ],
            "type": "histogram2dcontour"
           }
          ],
          "mesh3d": [
           {
            "colorbar": {
             "outlinewidth": 0,
             "ticks": ""
            },
            "type": "mesh3d"
           }
          ],
          "parcoords": [
           {
            "line": {
             "colorbar": {
              "outlinewidth": 0,
              "ticks": ""
             }
            },
            "type": "parcoords"
           }
          ],
          "pie": [
           {
            "automargin": true,
            "type": "pie"
           }
          ],
          "scatter": [
           {
            "fillpattern": {
             "fillmode": "overlay",
             "size": 10,
             "solidity": 0.2
            },
            "type": "scatter"
           }
          ],
          "scatter3d": [
           {
            "line": {
             "colorbar": {
              "outlinewidth": 0,
              "ticks": ""
             }
            },
            "marker": {
             "colorbar": {
              "outlinewidth": 0,
              "ticks": ""
             }
            },
            "type": "scatter3d"
           }
          ],
          "scattercarpet": [
           {
            "marker": {
             "colorbar": {
              "outlinewidth": 0,
              "ticks": ""
             }
            },
            "type": "scattercarpet"
           }
          ],
          "scattergeo": [
           {
            "marker": {
             "colorbar": {
              "outlinewidth": 0,
              "ticks": ""
             }
            },
            "type": "scattergeo"
           }
          ],
          "scattergl": [
           {
            "marker": {
             "colorbar": {
              "outlinewidth": 0,
              "ticks": ""
             }
            },
            "type": "scattergl"
           }
          ],
          "scattermapbox": [
           {
            "marker": {
             "colorbar": {
              "outlinewidth": 0,
              "ticks": ""
             }
            },
            "type": "scattermapbox"
           }
          ],
          "scatterpolar": [
           {
            "marker": {
             "colorbar": {
              "outlinewidth": 0,
              "ticks": ""
             }
            },
            "type": "scatterpolar"
           }
          ],
          "scatterpolargl": [
           {
            "marker": {
             "colorbar": {
              "outlinewidth": 0,
              "ticks": ""
             }
            },
            "type": "scatterpolargl"
           }
          ],
          "scatterternary": [
           {
            "marker": {
             "colorbar": {
              "outlinewidth": 0,
              "ticks": ""
             }
            },
            "type": "scatterternary"
           }
          ],
          "surface": [
           {
            "colorbar": {
             "outlinewidth": 0,
             "ticks": ""
            },
            "colorscale": [
             [
              0,
              "#0d0887"
             ],
             [
              0.1111111111111111,
              "#46039f"
             ],
             [
              0.2222222222222222,
              "#7201a8"
             ],
             [
              0.3333333333333333,
              "#9c179e"
             ],
             [
              0.4444444444444444,
              "#bd3786"
             ],
             [
              0.5555555555555556,
              "#d8576b"
             ],
             [
              0.6666666666666666,
              "#ed7953"
             ],
             [
              0.7777777777777778,
              "#fb9f3a"
             ],
             [
              0.8888888888888888,
              "#fdca26"
             ],
             [
              1,
              "#f0f921"
             ]
            ],
            "type": "surface"
           }
          ],
          "table": [
           {
            "cells": {
             "fill": {
              "color": "#EBF0F8"
             },
             "line": {
              "color": "white"
             }
            },
            "header": {
             "fill": {
              "color": "#C8D4E3"
             },
             "line": {
              "color": "white"
             }
            },
            "type": "table"
           }
          ]
         },
         "layout": {
          "annotationdefaults": {
           "arrowcolor": "#2a3f5f",
           "arrowhead": 0,
           "arrowwidth": 1
          },
          "autotypenumbers": "strict",
          "coloraxis": {
           "colorbar": {
            "outlinewidth": 0,
            "ticks": ""
           }
          },
          "colorscale": {
           "diverging": [
            [
             0,
             "#8e0152"
            ],
            [
             0.1,
             "#c51b7d"
            ],
            [
             0.2,
             "#de77ae"
            ],
            [
             0.3,
             "#f1b6da"
            ],
            [
             0.4,
             "#fde0ef"
            ],
            [
             0.5,
             "#f7f7f7"
            ],
            [
             0.6,
             "#e6f5d0"
            ],
            [
             0.7,
             "#b8e186"
            ],
            [
             0.8,
             "#7fbc41"
            ],
            [
             0.9,
             "#4d9221"
            ],
            [
             1,
             "#276419"
            ]
           ],
           "sequential": [
            [
             0,
             "#0d0887"
            ],
            [
             0.1111111111111111,
             "#46039f"
            ],
            [
             0.2222222222222222,
             "#7201a8"
            ],
            [
             0.3333333333333333,
             "#9c179e"
            ],
            [
             0.4444444444444444,
             "#bd3786"
            ],
            [
             0.5555555555555556,
             "#d8576b"
            ],
            [
             0.6666666666666666,
             "#ed7953"
            ],
            [
             0.7777777777777778,
             "#fb9f3a"
            ],
            [
             0.8888888888888888,
             "#fdca26"
            ],
            [
             1,
             "#f0f921"
            ]
           ],
           "sequentialminus": [
            [
             0,
             "#0d0887"
            ],
            [
             0.1111111111111111,
             "#46039f"
            ],
            [
             0.2222222222222222,
             "#7201a8"
            ],
            [
             0.3333333333333333,
             "#9c179e"
            ],
            [
             0.4444444444444444,
             "#bd3786"
            ],
            [
             0.5555555555555556,
             "#d8576b"
            ],
            [
             0.6666666666666666,
             "#ed7953"
            ],
            [
             0.7777777777777778,
             "#fb9f3a"
            ],
            [
             0.8888888888888888,
             "#fdca26"
            ],
            [
             1,
             "#f0f921"
            ]
           ]
          },
          "colorway": [
           "#636efa",
           "#EF553B",
           "#00cc96",
           "#ab63fa",
           "#FFA15A",
           "#19d3f3",
           "#FF6692",
           "#B6E880",
           "#FF97FF",
           "#FECB52"
          ],
          "font": {
           "color": "#2a3f5f"
          },
          "geo": {
           "bgcolor": "white",
           "lakecolor": "white",
           "landcolor": "#E5ECF6",
           "showlakes": true,
           "showland": true,
           "subunitcolor": "white"
          },
          "hoverlabel": {
           "align": "left"
          },
          "hovermode": "closest",
          "mapbox": {
           "style": "light"
          },
          "paper_bgcolor": "white",
          "plot_bgcolor": "#E5ECF6",
          "polar": {
           "angularaxis": {
            "gridcolor": "white",
            "linecolor": "white",
            "ticks": ""
           },
           "bgcolor": "#E5ECF6",
           "radialaxis": {
            "gridcolor": "white",
            "linecolor": "white",
            "ticks": ""
           }
          },
          "scene": {
           "xaxis": {
            "backgroundcolor": "#E5ECF6",
            "gridcolor": "white",
            "gridwidth": 2,
            "linecolor": "white",
            "showbackground": true,
            "ticks": "",
            "zerolinecolor": "white"
           },
           "yaxis": {
            "backgroundcolor": "#E5ECF6",
            "gridcolor": "white",
            "gridwidth": 2,
            "linecolor": "white",
            "showbackground": true,
            "ticks": "",
            "zerolinecolor": "white"
           },
           "zaxis": {
            "backgroundcolor": "#E5ECF6",
            "gridcolor": "white",
            "gridwidth": 2,
            "linecolor": "white",
            "showbackground": true,
            "ticks": "",
            "zerolinecolor": "white"
           }
          },
          "shapedefaults": {
           "line": {
            "color": "#2a3f5f"
           }
          },
          "ternary": {
           "aaxis": {
            "gridcolor": "white",
            "linecolor": "white",
            "ticks": ""
           },
           "baxis": {
            "gridcolor": "white",
            "linecolor": "white",
            "ticks": ""
           },
           "bgcolor": "#E5ECF6",
           "caxis": {
            "gridcolor": "white",
            "linecolor": "white",
            "ticks": ""
           }
          },
          "title": {
           "x": 0.05
          },
          "xaxis": {
           "automargin": true,
           "gridcolor": "white",
           "linecolor": "white",
           "ticks": "",
           "title": {
            "standoff": 15
           },
           "zerolinecolor": "white",
           "zerolinewidth": 2
          },
          "yaxis": {
           "automargin": true,
           "gridcolor": "white",
           "linecolor": "white",
           "ticks": "",
           "title": {
            "standoff": 15
           },
           "zerolinecolor": "white",
           "zerolinewidth": 2
          }
         }
        },
        "title": {
         "text": "Data sample of Funding against sectors "
        },
        "xaxis": {
         "anchor": "y",
         "domain": [
          0,
          1
         ],
         "title": {
          "text": "Sector"
         }
        },
        "yaxis": {
         "anchor": "x",
         "categoryarray": [
          "$5,800,000",
          "$8,500,000",
          "$21,000,000",
          "$6,600,000",
          "$35,000,000",
          "$32,000,000",
          "$30,000,000",
          "$4,500,000",
          "$31,000,000",
          "$5,500,000",
          "$8,400,000",
          "$27,000,000",
          "$2,100,000",
          "$250,000",
          "$16,000,000",
          "$25,000,000",
          "$4,250,000",
          "$16,300,000",
          "$18,000,000",
          "$3,750,000",
          "$6,500,000",
          "$3,200,000",
          "$12,000,000",
          "$4,219,880",
          "$23,500,000",
          "$23,000,000",
          "$13,000,000",
          "$8,600,000",
          "$300,000",
          "$5,000,000",
          "$36,000,000",
          "$9,100,000",
          "$2,600,000",
          "$2,400,000",
          "$2,300,000",
          "$2,750,000",
          "$3,000,000",
          "$12,200,00",
          "$15,000,000",
          "$20,000,000",
          "$40,000,000",
          "$11,000,000",
          "$10,000,000",
          "$17,500,000",
          "$2,800,000",
          "$8,000,000",
          "$6,200,000",
          "$3,500,000",
          "$4,000,000",
          "$7,500,000",
          "$6,000,000",
          "$200,000,000,000,000",
          "$2,000,000",
          "$7,000,000",
          "$2,500,000",
          "$15,800,000",
          "$18,660,000"
         ],
         "categoryorder": "array",
         "domain": [
          0,
          1
         ],
         "title": {
          "text": "Deal Size"
         }
        }
       }
      }
     },
     "metadata": {},
     "output_type": "display_data"
    }
   ],
   "source": [
    "import matplotlib as plt\n",
    "import matplotlib.pyplot as plt\n",
    "import plotly.express as px\n",
    "\n",
    "df1 = df.sort_values(by=['Sector'],ascending = False).reset_index()\n",
    "Sector = px.bar(df1, x = 'Sector', y = 'Deal Size', color = 'Deal Size',\n",
    "             color_continuous_scale = 'blues')\n",
    "Sector.update_layout(title = 'Data sample of Funding against sectors ')\n",
    "Sector.show()    \n"
   ]
  },
  {
   "cell_type": "code",
   "execution_count": 14,
   "metadata": {},
   "outputs": [
    {
     "data": {
      "application/vnd.plotly.v1+json": {
       "config": {
        "plotlyServerURL": "https://plot.ly"
       },
       "data": [
        {
         "alignmentgroup": "True",
         "hovertemplate": "Deal Size=%{y}<br>Company Name=%{x}<extra></extra>",
         "legendgroup": "$10,000,000",
         "marker": {
          "color": "#636efa",
          "pattern": {
           "shape": ""
          }
         },
         "name": "$10,000,000",
         "offsetgroup": "$10,000,000",
         "orientation": "v",
         "showlegend": true,
         "textposition": "auto",
         "type": "bar",
         "x": [
          "ZOODMALL",
          "TRUKKER",
          "OKADOC",
          "MARKAVIP",
          "IMILE",
          "GROFERS",
          "FETCHR",
          "AIRLIFT"
         ],
         "xaxis": "x",
         "y": [
          "$10,000,000",
          "$10,000,000",
          "$10,000,000",
          "$10,000,000",
          "$10,000,000",
          "$10,000,000",
          "$10,000,000",
          "$10,000,000"
         ],
         "yaxis": "y"
        },
        {
         "alignmentgroup": "True",
         "hovertemplate": "Deal Size=%{y}<br>Company Name=%{x}<extra></extra>",
         "legendgroup": "$8,000,000",
         "marker": {
          "color": "#EF553B",
          "pattern": {
           "shape": ""
          }
         },
         "name": "$8,000,000",
         "offsetgroup": "$8,000,000",
         "orientation": "v",
         "showlegend": true,
         "textposition": "auto",
         "type": "bar",
         "x": [
          "ZON",
          "YALLACOMPARE",
          "JUSTCLEAN",
          "ELMENUS"
         ],
         "xaxis": "x",
         "y": [
          "$8,000,000",
          "$8,000,000",
          "$8,000,000",
          "$8,000,000"
         ],
         "yaxis": "y"
        },
        {
         "alignmentgroup": "True",
         "hovertemplate": "Deal Size=%{y}<br>Company Name=%{x}<extra></extra>",
         "legendgroup": "$2,000,000",
         "marker": {
          "color": "#00cc96",
          "pattern": {
           "shape": ""
          }
         },
         "name": "$2,000,000",
         "offsetgroup": "$2,000,000",
         "orientation": "v",
         "showlegend": true,
         "textposition": "auto",
         "type": "bar",
         "x": [
          "ZID",
          "NALBES",
          "GRUBTECH",
          "CLARA",
          "CARTLOW",
          "BYKEA",
          "BYKEA"
         ],
         "xaxis": "x",
         "y": [
          "$2,000,000",
          "$2,000,000",
          "$2,000,000",
          "$2,000,000",
          "$2,000,000",
          "$2,000,000",
          "$2,000,000"
         ],
         "yaxis": "y"
        },
        {
         "alignmentgroup": "True",
         "hovertemplate": "Deal Size=%{y}<br>Company Name=%{x}<extra></extra>",
         "legendgroup": "$4,250,000",
         "marker": {
          "color": "#ab63fa",
          "pattern": {
           "shape": ""
          }
         },
         "name": "$4,250,000",
         "offsetgroup": "$4,250,000",
         "orientation": "v",
         "showlegend": true,
         "textposition": "auto",
         "type": "bar",
         "x": [
          "YALLACOMPARE"
         ],
         "xaxis": "x",
         "y": [
          "$4,250,000"
         ],
         "yaxis": "y"
        },
        {
         "alignmentgroup": "True",
         "hovertemplate": "Deal Size=%{y}<br>Company Name=%{x}<extra></extra>",
         "legendgroup": "$5,000,000",
         "marker": {
          "color": "#FFA15A",
          "pattern": {
           "shape": ""
          }
         },
         "name": "$5,000,000",
         "offsetgroup": "$5,000,000",
         "orientation": "v",
         "showlegend": true,
         "textposition": "auto",
         "type": "bar",
         "x": [
          "WYSADA",
          "TREASURYXPRESS",
          "TARFIN",
          "MARKAVIP",
          "IKCON",
          "EAT APP",
          "DOKKAR AFKAR",
          "COUNTINGUP"
         ],
         "xaxis": "x",
         "y": [
          "$5,000,000",
          "$5,000,000",
          "$5,000,000",
          "$5,000,000",
          "$5,000,000",
          "$5,000,000",
          "$5,000,000",
          "$5,000,000"
         ],
         "yaxis": "y"
        },
        {
         "alignmentgroup": "True",
         "hovertemplate": "Deal Size=%{y}<br>Company Name=%{x}<extra></extra>",
         "legendgroup": "$4,219,880",
         "marker": {
          "color": "#19d3f3",
          "pattern": {
           "shape": ""
          }
         },
         "name": "$4,219,880",
         "offsetgroup": "$4,219,880",
         "orientation": "v",
         "showlegend": true,
         "textposition": "auto",
         "type": "bar",
         "x": [
          "WINTERLIGHT LABS"
         ],
         "xaxis": "x",
         "y": [
          "$4,219,880"
         ],
         "yaxis": "y"
        },
        {
         "alignmentgroup": "True",
         "hovertemplate": "Deal Size=%{y}<br>Company Name=%{x}<extra></extra>",
         "legendgroup": "$3,200,000",
         "marker": {
          "color": "#FF6692",
          "pattern": {
           "shape": ""
          }
         },
         "name": "$3,200,000",
         "offsetgroup": "$3,200,000",
         "orientation": "v",
         "showlegend": true,
         "textposition": "auto",
         "type": "bar",
         "x": [
          "WEBTEB"
         ],
         "xaxis": "x",
         "y": [
          "$3,200,000"
         ],
         "yaxis": "y"
        },
        {
         "alignmentgroup": "True",
         "hovertemplate": "Deal Size=%{y}<br>Company Name=%{x}<extra></extra>",
         "legendgroup": "$6,200,000",
         "marker": {
          "color": "#B6E880",
          "pattern": {
           "shape": ""
          }
         },
         "name": "$6,200,000",
         "offsetgroup": "$6,200,000",
         "orientation": "v",
         "showlegend": true,
         "textposition": "auto",
         "type": "bar",
         "x": [
          "WASHMEN",
          "TURTLETREE",
          "MAXAB"
         ],
         "xaxis": "x",
         "y": [
          "$6,200,000",
          "$6,200,000",
          "$6,200,000"
         ],
         "yaxis": "y"
        },
        {
         "alignmentgroup": "True",
         "hovertemplate": "Deal Size=%{y}<br>Company Name=%{x}<extra></extra>",
         "legendgroup": "$25,000,000",
         "marker": {
          "color": "#FF97FF",
          "pattern": {
           "shape": ""
          }
         },
         "name": "$25,000,000",
         "offsetgroup": "$25,000,000",
         "orientation": "v",
         "showlegend": true,
         "textposition": "auto",
         "type": "bar",
         "x": [
          "WAHED"
         ],
         "xaxis": "x",
         "y": [
          "$25,000,000"
         ],
         "yaxis": "y"
        },
        {
         "alignmentgroup": "True",
         "hovertemplate": "Deal Size=%{y}<br>Company Name=%{x}<extra></extra>",
         "legendgroup": "$12,000,000",
         "marker": {
          "color": "#FECB52",
          "pattern": {
           "shape": ""
          }
         },
         "name": "$12,000,000",
         "offsetgroup": "$12,000,000",
         "orientation": "v",
         "showlegend": true,
         "textposition": "auto",
         "type": "bar",
         "x": [
          "VEZEETA",
          "BIBLIU"
         ],
         "xaxis": "x",
         "y": [
          "$12,000,000",
          "$12,000,000"
         ],
         "yaxis": "y"
        },
        {
         "alignmentgroup": "True",
         "hovertemplate": "Deal Size=%{y}<br>Company Name=%{x}<extra></extra>",
         "legendgroup": "$31,000,000",
         "marker": {
          "color": "#636efa",
          "pattern": {
           "shape": ""
          }
         },
         "name": "$31,000,000",
         "offsetgroup": "$31,000,000",
         "orientation": "v",
         "showlegend": true,
         "textposition": "auto",
         "type": "bar",
         "x": [
          "VEEM"
         ],
         "xaxis": "x",
         "y": [
          "$31,000,000"
         ],
         "yaxis": "y"
        },
        {
         "alignmentgroup": "True",
         "hovertemplate": "Deal Size=%{y}<br>Company Name=%{x}<extra></extra>",
         "legendgroup": "$3,500,000",
         "marker": {
          "color": "#EF553B",
          "pattern": {
           "shape": ""
          }
         },
         "name": "$3,500,000",
         "offsetgroup": "$3,500,000",
         "orientation": "v",
         "showlegend": true,
         "textposition": "auto",
         "type": "bar",
         "x": [
          "TRUKKIN",
          "TAMATEM",
          "RIZEK",
          "PAYMOB",
          "LEAN",
          "COMPAREIT4ME.COM",
          "BRIMORE"
         ],
         "xaxis": "x",
         "y": [
          "$3,500,000",
          "$3,500,000",
          "$3,500,000",
          "$3,500,000",
          "$3,500,000",
          "$3,500,000",
          "$3,500,000"
         ],
         "yaxis": "y"
        },
        {
         "alignmentgroup": "True",
         "hovertemplate": "Deal Size=%{y}<br>Company Name=%{x}<extra></extra>",
         "legendgroup": "$23,000,000",
         "marker": {
          "color": "#00cc96",
          "pattern": {
           "shape": ""
          }
         },
         "name": "$23,000,000",
         "offsetgroup": "$23,000,000",
         "orientation": "v",
         "showlegend": true,
         "textposition": "auto",
         "type": "bar",
         "x": [
          "TRUKKER",
          "MEJURI"
         ],
         "xaxis": "x",
         "y": [
          "$23,000,000",
          "$23,000,000"
         ],
         "yaxis": "y"
        },
        {
         "alignmentgroup": "True",
         "hovertemplate": "Deal Size=%{y}<br>Company Name=%{x}<extra></extra>",
         "legendgroup": "$5,500,000",
         "marker": {
          "color": "#ab63fa",
          "pattern": {
           "shape": ""
          }
         },
         "name": "$5,500,000",
         "offsetgroup": "$5,500,000",
         "orientation": "v",
         "showlegend": true,
         "textposition": "auto",
         "type": "bar",
         "x": [
          "TRIBAL CREDIT",
          "MODANISA.COM"
         ],
         "xaxis": "x",
         "y": [
          "$5,500,000",
          "$5,500,000"
         ],
         "yaxis": "y"
        },
        {
         "alignmentgroup": "True",
         "hovertemplate": "Deal Size=%{y}<br>Company Name=%{x}<extra></extra>",
         "legendgroup": "$7,000,000",
         "marker": {
          "color": "#FFA15A",
          "pattern": {
           "shape": ""
          }
         },
         "name": "$7,000,000",
         "offsetgroup": "$7,000,000",
         "orientation": "v",
         "showlegend": true,
         "textposition": "auto",
         "type": "bar",
         "x": [
          "TRAVEL",
          "TABBY",
          "MUBAWAB",
          "INSTADEEP"
         ],
         "xaxis": "x",
         "y": [
          "$7,000,000",
          "$7,000,000",
          "$7,000,000",
          "$7,000,000"
         ],
         "yaxis": "y"
        },
        {
         "alignmentgroup": "True",
         "hovertemplate": "Deal Size=%{y}<br>Company Name=%{x}<extra></extra>",
         "legendgroup": "$5,800,000",
         "marker": {
          "color": "#19d3f3",
          "pattern": {
           "shape": ""
          }
         },
         "name": "$5,800,000",
         "offsetgroup": "$5,800,000",
         "orientation": "v",
         "showlegend": true,
         "textposition": "auto",
         "type": "bar",
         "x": [
          "TENDERD"
         ],
         "xaxis": "x",
         "y": [
          "$5,800,000"
         ],
         "yaxis": "y"
        },
        {
         "alignmentgroup": "True",
         "hovertemplate": "Deal Size=%{y}<br>Company Name=%{x}<extra></extra>",
         "legendgroup": "$4,000,000",
         "marker": {
          "color": "#FF6692",
          "pattern": {
           "shape": ""
          }
         },
         "name": "$4,000,000",
         "offsetgroup": "$4,000,000",
         "orientation": "v",
         "showlegend": true,
         "textposition": "auto",
         "type": "bar",
         "x": [
          "TEMTEM",
          "NOMAD HOMES",
          "NEJREE",
          "MONEYFELLOWS",
          "FOODICS",
          "ECOMZ",
          "BEEHIVE"
         ],
         "xaxis": "x",
         "y": [
          "$4,000,000",
          "$4,000,000",
          "$4,000,000",
          "$4,000,000",
          "$4,000,000",
          "$4,000,000",
          "$4,000,000"
         ],
         "yaxis": "y"
        },
        {
         "alignmentgroup": "True",
         "hovertemplate": "Deal Size=%{y}<br>Company Name=%{x}<extra></extra>",
         "legendgroup": "$20,000,000",
         "marker": {
          "color": "#B6E880",
          "pattern": {
           "shape": ""
          }
         },
         "name": "$20,000,000",
         "offsetgroup": "$20,000,000",
         "orientation": "v",
         "showlegend": true,
         "textposition": "auto",
         "type": "bar",
         "x": [
          "SWVL",
          "SWVL",
          "SEHTEQ",
          "QFPAY",
          "MUMZWORLD",
          "BLUNALU"
         ],
         "xaxis": "x",
         "y": [
          "$20,000,000",
          "$20,000,000",
          "$20,000,000",
          "$20,000,000",
          "$20,000,000",
          "$20,000,000"
         ],
         "yaxis": "y"
        },
        {
         "alignmentgroup": "True",
         "hovertemplate": "Deal Size=%{y}<br>Company Name=%{x}<extra></extra>",
         "legendgroup": "$8,500,000",
         "marker": {
          "color": "#FF97FF",
          "pattern": {
           "shape": ""
          }
         },
         "name": "$8,500,000",
         "offsetgroup": "$8,500,000",
         "orientation": "v",
         "showlegend": true,
         "textposition": "auto",
         "type": "bar",
         "x": [
          "SPRII"
         ],
         "xaxis": "x",
         "y": [
          "$8,500,000"
         ],
         "yaxis": "y"
        },
        {
         "alignmentgroup": "True",
         "hovertemplate": "Deal Size=%{y}<br>Company Name=%{x}<extra></extra>",
         "legendgroup": "$2,500,000",
         "marker": {
          "color": "#FECB52",
          "pattern": {
           "shape": ""
          }
         },
         "name": "$2,500,000",
         "offsetgroup": "$2,500,000",
         "orientation": "v",
         "showlegend": true,
         "textposition": "auto",
         "type": "bar",
         "x": [
          "SIRAJ PALESTINE FUND I",
          "REPEAT",
          "PINPAY",
          "MEDDY",
          "EYEWA",
          "EXPAND CART"
         ],
         "xaxis": "x",
         "y": [
          "$2,500,000",
          "$2,500,000",
          "$2,500,000",
          "$2,500,000",
          "$2,500,000",
          "$2,500,000"
         ],
         "yaxis": "y"
        },
        {
         "alignmentgroup": "True",
         "hovertemplate": "Deal Size=%{y}<br>Company Name=%{x}<extra></extra>",
         "legendgroup": "$35,000,000",
         "marker": {
          "color": "#636efa",
          "pattern": {
           "shape": ""
          }
         },
         "name": "$35,000,000",
         "offsetgroup": "$35,000,000",
         "orientation": "v",
         "showlegend": true,
         "textposition": "auto",
         "type": "bar",
         "x": [
          "SELLANYCAR"
         ],
         "xaxis": "x",
         "y": [
          "$35,000,000"
         ],
         "yaxis": "y"
        },
        {
         "alignmentgroup": "True",
         "hovertemplate": "Deal Size=%{y}<br>Company Name=%{x}<extra></extra>",
         "legendgroup": "$16,300,000",
         "marker": {
          "color": "#EF553B",
          "pattern": {
           "shape": ""
          }
         },
         "name": "$16,300,000",
         "offsetgroup": "$16,300,000",
         "orientation": "v",
         "showlegend": true,
         "textposition": "auto",
         "type": "bar",
         "x": [
          "SECURRENCY"
         ],
         "xaxis": "x",
         "y": [
          "$16,300,000"
         ],
         "yaxis": "y"
        },
        {
         "alignmentgroup": "True",
         "hovertemplate": "Deal Size=%{y}<br>Company Name=%{x}<extra></extra>",
         "legendgroup": "$6,000,000",
         "marker": {
          "color": "#00cc96",
          "pattern": {
           "shape": ""
          }
         },
         "name": "$6,000,000",
         "offsetgroup": "$6,000,000",
         "orientation": "v",
         "showlegend": true,
         "textposition": "auto",
         "type": "bar",
         "x": [
          "SECULETTER",
          "NANA",
          "MEVP",
          "GUESTREADY",
          "DATA GUMBO"
         ],
         "xaxis": "x",
         "y": [
          "$6,000,000",
          "$6,000,000",
          "$6,000,000",
          "$6,000,000",
          "$6,000,000"
         ],
         "yaxis": "y"
        },
        {
         "alignmentgroup": "True",
         "hovertemplate": "Deal Size=%{y}<br>Company Name=%{x}<extra></extra>",
         "legendgroup": "$6,600,000",
         "marker": {
          "color": "#ab63fa",
          "pattern": {
           "shape": ""
          }
         },
         "name": "$6,600,000",
         "offsetgroup": "$6,600,000",
         "orientation": "v",
         "showlegend": true,
         "textposition": "auto",
         "type": "bar",
         "x": [
          "SARY"
         ],
         "xaxis": "x",
         "y": [
          "$6,600,000"
         ],
         "yaxis": "y"
        },
        {
         "alignmentgroup": "True",
         "hovertemplate": "Deal Size=%{y}<br>Company Name=%{x}<extra></extra>",
         "legendgroup": "$8,400,000",
         "marker": {
          "color": "#FFA15A",
          "pattern": {
           "shape": ""
          }
         },
         "name": "$8,400,000",
         "offsetgroup": "$8,400,000",
         "orientation": "v",
         "showlegend": true,
         "textposition": "auto",
         "type": "bar",
         "x": [
          "SARWA"
         ],
         "xaxis": "x",
         "y": [
          "$8,400,000"
         ],
         "yaxis": "y"
        },
        {
         "alignmentgroup": "True",
         "hovertemplate": "Deal Size=%{y}<br>Company Name=%{x}<extra></extra>",
         "legendgroup": "$8,600,000",
         "marker": {
          "color": "#19d3f3",
          "pattern": {
           "shape": ""
          }
         },
         "name": "$8,600,000",
         "offsetgroup": "$8,600,000",
         "orientation": "v",
         "showlegend": true,
         "textposition": "auto",
         "type": "bar",
         "x": [
          "SALASA"
         ],
         "xaxis": "x",
         "y": [
          "$8,600,000"
         ],
         "yaxis": "y"
        },
        {
         "alignmentgroup": "True",
         "hovertemplate": "Deal Size=%{y}<br>Company Name=%{x}<extra></extra>",
         "legendgroup": "$2,400,000",
         "marker": {
          "color": "#FF6692",
          "pattern": {
           "shape": ""
          }
         },
         "name": "$2,400,000",
         "offsetgroup": "$2,400,000",
         "orientation": "v",
         "showlegend": true,
         "textposition": "auto",
         "type": "bar",
         "x": [
          "SAEE",
          "DOPAY",
          "COMPAREIT4ME.COM",
          "ABWAAB"
         ],
         "xaxis": "x",
         "y": [
          "$2,400,000",
          "$2,400,000",
          "$2,400,000",
          "$2,400,000"
         ],
         "yaxis": "y"
        },
        {
         "alignmentgroup": "True",
         "hovertemplate": "Deal Size=%{y}<br>Company Name=%{x}<extra></extra>",
         "legendgroup": "$2,300,000",
         "marker": {
          "color": "#B6E880",
          "pattern": {
           "shape": ""
          }
         },
         "name": "$2,300,000",
         "offsetgroup": "$2,300,000",
         "orientation": "v",
         "showlegend": true,
         "textposition": "auto",
         "type": "bar",
         "x": [
          "RETAILO",
          "OKADOC",
          "EMUSHRIF",
          "EMUSHRIF"
         ],
         "xaxis": "x",
         "y": [
          "$2,300,000",
          "$2,300,000",
          "$2,300,000",
          "$2,300,000"
         ],
         "yaxis": "y"
        },
        {
         "alignmentgroup": "True",
         "hovertemplate": "Deal Size=%{y}<br>Company Name=%{x}<extra></extra>",
         "legendgroup": "$250,000",
         "marker": {
          "color": "#FF97FF",
          "pattern": {
           "shape": ""
          }
         },
         "name": "$250,000",
         "offsetgroup": "$250,000",
         "orientation": "v",
         "showlegend": true,
         "textposition": "auto",
         "type": "bar",
         "x": [
          "RAIN"
         ],
         "xaxis": "x",
         "y": [
          "$250,000"
         ],
         "yaxis": "y"
        },
        {
         "alignmentgroup": "True",
         "hovertemplate": "Deal Size=%{y}<br>Company Name=%{x}<extra></extra>",
         "legendgroup": "$2,100,000",
         "marker": {
          "color": "#FECB52",
          "pattern": {
           "shape": ""
          }
         },
         "name": "$2,100,000",
         "offsetgroup": "$2,100,000",
         "orientation": "v",
         "showlegend": true,
         "textposition": "auto",
         "type": "bar",
         "x": [
          "QOYOD",
          "NOWPAY"
         ],
         "xaxis": "x",
         "y": [
          "$2,100,000",
          "$2,100,000"
         ],
         "yaxis": "y"
        },
        {
         "alignmentgroup": "True",
         "hovertemplate": "Deal Size=%{y}<br>Company Name=%{x}<extra></extra>",
         "legendgroup": "$3,000,000",
         "marker": {
          "color": "#636efa",
          "pattern": {
           "shape": ""
          }
         },
         "name": "$3,000,000",
         "offsetgroup": "$3,000,000",
         "orientation": "v",
         "showlegend": true,
         "textposition": "auto",
         "type": "bar",
         "x": [
          "Q8FLOWERS",
          "MOVESOUQ",
          "MARKAVIP",
          "DAWA EXPRESS",
          "COMPAREIT4ME.COM"
         ],
         "xaxis": "x",
         "y": [
          "$3,000,000",
          "$3,000,000",
          "$3,000,000",
          "$3,000,000",
          "$3,000,000"
         ],
         "yaxis": "y"
        },
        {
         "alignmentgroup": "True",
         "hovertemplate": "Deal Size=%{y}<br>Company Name=%{x}<extra></extra>",
         "legendgroup": "$11,000,000",
         "marker": {
          "color": "#EF553B",
          "pattern": {
           "shape": ""
          }
         },
         "name": "$11,000,000",
         "offsetgroup": "$11,000,000",
         "orientation": "v",
         "showlegend": true,
         "textposition": "auto",
         "type": "bar",
         "x": [
          "OLA"
         ],
         "xaxis": "x",
         "y": [
          "$11,000,000"
         ],
         "yaxis": "y"
        },
        {
         "alignmentgroup": "True",
         "hovertemplate": "Deal Size=%{y}<br>Company Name=%{x}<extra></extra>",
         "legendgroup": "$13,000,000",
         "marker": {
          "color": "#00cc96",
          "pattern": {
           "shape": ""
          }
         },
         "name": "$13,000,000",
         "offsetgroup": "$13,000,000",
         "orientation": "v",
         "showlegend": true,
         "textposition": "auto",
         "type": "bar",
         "x": [
          "NOON ACADEMY",
          "IYZICO",
          "BYKEA"
         ],
         "xaxis": "x",
         "y": [
          "$13,000,000",
          "$13,000,000",
          "$13,000,000"
         ],
         "yaxis": "y"
        },
        {
         "alignmentgroup": "True",
         "hovertemplate": "Deal Size=%{y}<br>Company Name=%{x}<extra></extra>",
         "legendgroup": "$18,000,000",
         "marker": {
          "color": "#ab63fa",
          "pattern": {
           "shape": ""
          }
         },
         "name": "$18,000,000",
         "offsetgroup": "$18,000,000",
         "orientation": "v",
         "showlegend": true,
         "textposition": "auto",
         "type": "bar",
         "x": [
          "NANA DIRECT",
          "AQEED"
         ],
         "xaxis": "x",
         "y": [
          "$18,000,000",
          "$18,000,000"
         ],
         "yaxis": "y"
        },
        {
         "alignmentgroup": "True",
         "hovertemplate": "Deal Size=%{y}<br>Company Name=%{x}<extra></extra>",
         "legendgroup": "$9,100,000",
         "marker": {
          "color": "#FFA15A",
          "pattern": {
           "shape": ""
          }
         },
         "name": "$9,100,000",
         "offsetgroup": "$9,100,000",
         "orientation": "v",
         "showlegend": true,
         "textposition": "auto",
         "type": "bar",
         "x": [
          "MORNI"
         ],
         "xaxis": "x",
         "y": [
          "$9,100,000"
         ],
         "yaxis": "y"
        },
        {
         "alignmentgroup": "True",
         "hovertemplate": "Deal Size=%{y}<br>Company Name=%{x}<extra></extra>",
         "legendgroup": "$23,500,000",
         "marker": {
          "color": "#19d3f3",
          "pattern": {
           "shape": ""
          }
         },
         "name": "$23,500,000",
         "offsetgroup": "$23,500,000",
         "orientation": "v",
         "showlegend": true,
         "textposition": "auto",
         "type": "bar",
         "x": [
          "MAWDOO3"
         ],
         "xaxis": "x",
         "y": [
          "$23,500,000"
         ],
         "yaxis": "y"
        },
        {
         "alignmentgroup": "True",
         "hovertemplate": "Deal Size=%{y}<br>Company Name=%{x}<extra></extra>",
         "legendgroup": "$36,000,000",
         "marker": {
          "color": "#FF6692",
          "pattern": {
           "shape": ""
          }
         },
         "name": "$36,000,000",
         "offsetgroup": "$36,000,000",
         "orientation": "v",
         "showlegend": true,
         "textposition": "auto",
         "type": "bar",
         "x": [
          "JAHEZ"
         ],
         "xaxis": "x",
         "y": [
          "$36,000,000"
         ],
         "yaxis": "y"
        },
        {
         "alignmentgroup": "True",
         "hovertemplate": "Deal Size=%{y}<br>Company Name=%{x}<extra></extra>",
         "legendgroup": "$27,000,000",
         "marker": {
          "color": "#B6E880",
          "pattern": {
           "shape": ""
          }
         },
         "name": "$27,000,000",
         "offsetgroup": "$27,000,000",
         "orientation": "v",
         "showlegend": true,
         "textposition": "auto",
         "type": "bar",
         "x": [
          "INSURANCE"
         ],
         "xaxis": "x",
         "y": [
          "$27,000,000"
         ],
         "yaxis": "y"
        },
        {
         "alignmentgroup": "True",
         "hovertemplate": "Deal Size=%{y}<br>Company Name=%{x}<extra></extra>",
         "legendgroup": "$3,750,000",
         "marker": {
          "color": "#FF97FF",
          "pattern": {
           "shape": ""
          }
         },
         "name": "$3,750,000",
         "offsetgroup": "$3,750,000",
         "orientation": "v",
         "showlegend": true,
         "textposition": "auto",
         "type": "bar",
         "x": [
          "ILARA HEALTH"
         ],
         "xaxis": "x",
         "y": [
          "$3,750,000"
         ],
         "yaxis": "y"
        },
        {
         "alignmentgroup": "True",
         "hovertemplate": "Deal Size=%{y}<br>Company Name=%{x}<extra></extra>",
         "legendgroup": "$15,000,000",
         "marker": {
          "color": "#FECB52",
          "pattern": {
           "shape": ""
          }
         },
         "name": "$15,000,000",
         "offsetgroup": "$15,000,000",
         "orientation": "v",
         "showlegend": true,
         "textposition": "auto",
         "type": "bar",
         "x": [
          "FOXPUSH",
          "FETCHR",
          "FETCHER"
         ],
         "xaxis": "x",
         "y": [
          "$15,000,000",
          "$15,000,000",
          "$15,000,000"
         ],
         "yaxis": "y"
        },
        {
         "alignmentgroup": "True",
         "hovertemplate": "Deal Size=%{y}<br>Company Name=%{x}<extra></extra>",
         "legendgroup": "$2,600,000",
         "marker": {
          "color": "#636efa",
          "pattern": {
           "shape": ""
          }
         },
         "name": "$2,600,000",
         "offsetgroup": "$2,600,000",
         "orientation": "v",
         "showlegend": true,
         "textposition": "auto",
         "type": "bar",
         "x": [
          "FODEL"
         ],
         "xaxis": "x",
         "y": [
          "$2,600,000"
         ],
         "yaxis": "y"
        },
        {
         "alignmentgroup": "True",
         "hovertemplate": "Deal Size=%{y}<br>Company Name=%{x}<extra></extra>",
         "legendgroup": "$2,750,000",
         "marker": {
          "color": "#EF553B",
          "pattern": {
           "shape": ""
          }
         },
         "name": "$2,750,000",
         "offsetgroup": "$2,750,000",
         "orientation": "v",
         "showlegend": true,
         "textposition": "auto",
         "type": "bar",
         "x": [
          "FLOWARD"
         ],
         "xaxis": "x",
         "y": [
          "$2,750,000"
         ],
         "yaxis": "y"
        },
        {
         "alignmentgroup": "True",
         "hovertemplate": "Deal Size=%{y}<br>Company Name=%{x}<extra></extra>",
         "legendgroup": "$300,000",
         "marker": {
          "color": "#00cc96",
          "pattern": {
           "shape": ""
          }
         },
         "name": "$300,000",
         "offsetgroup": "$300,000",
         "orientation": "v",
         "showlegend": true,
         "textposition": "auto",
         "type": "bar",
         "x": [
          "FLORANOW"
         ],
         "xaxis": "x",
         "y": [
          "$300,000"
         ],
         "yaxis": "y"
        },
        {
         "alignmentgroup": "True",
         "hovertemplate": "Deal Size=%{y}<br>Company Name=%{x}<extra></extra>",
         "legendgroup": "$200,000,000,000,000",
         "marker": {
          "color": "#ab63fa",
          "pattern": {
           "shape": ""
          }
         },
         "name": "$200,000,000,000,000",
         "offsetgroup": "$200,000,000,000,000",
         "orientation": "v",
         "showlegend": true,
         "textposition": "auto",
         "type": "bar",
         "x": [
          "ELVES"
         ],
         "xaxis": "x",
         "y": [
          "$200,000,000,000,000"
         ],
         "yaxis": "y"
        },
        {
         "alignmentgroup": "True",
         "hovertemplate": "Deal Size=%{y}<br>Company Name=%{x}<extra></extra>",
         "legendgroup": "$17,500,000",
         "marker": {
          "color": "#FFA15A",
          "pattern": {
           "shape": ""
          }
         },
         "name": "$17,500,000",
         "offsetgroup": "$17,500,000",
         "orientation": "v",
         "showlegend": true,
         "textposition": "auto",
         "type": "bar",
         "x": [
          "EKAR"
         ],
         "xaxis": "x",
         "y": [
          "$17,500,000"
         ],
         "yaxis": "y"
        },
        {
         "alignmentgroup": "True",
         "hovertemplate": "Deal Size=%{y}<br>Company Name=%{x}<extra></extra>",
         "legendgroup": "$40,000,000",
         "marker": {
          "color": "#19d3f3",
          "pattern": {
           "shape": ""
          }
         },
         "name": "$40,000,000",
         "offsetgroup": "$40,000,000",
         "orientation": "v",
         "showlegend": true,
         "textposition": "auto",
         "type": "bar",
         "x": [
          "EASY TAXI"
         ],
         "xaxis": "x",
         "y": [
          "$40,000,000"
         ],
         "yaxis": "y"
        },
        {
         "alignmentgroup": "True",
         "hovertemplate": "Deal Size=%{y}<br>Company Name=%{x}<extra></extra>",
         "legendgroup": "$21,000,000",
         "marker": {
          "color": "#FF6692",
          "pattern": {
           "shape": ""
          }
         },
         "name": "$21,000,000",
         "offsetgroup": "$21,000,000",
         "orientation": "v",
         "showlegend": true,
         "textposition": "auto",
         "type": "bar",
         "x": [
          "DEAL SHARE"
         ],
         "xaxis": "x",
         "y": [
          "$21,000,000"
         ],
         "yaxis": "y"
        },
        {
         "alignmentgroup": "True",
         "hovertemplate": "Deal Size=%{y}<br>Company Name=%{x}<extra></extra>",
         "legendgroup": "$32,000,000",
         "marker": {
          "color": "#B6E880",
          "pattern": {
           "shape": ""
          }
         },
         "name": "$32,000,000",
         "offsetgroup": "$32,000,000",
         "orientation": "v",
         "showlegend": true,
         "textposition": "auto",
         "type": "bar",
         "x": [
          "CAZOO"
         ],
         "xaxis": "x",
         "y": [
          "$32,000,000"
         ],
         "yaxis": "y"
        },
        {
         "alignmentgroup": "True",
         "hovertemplate": "Deal Size=%{y}<br>Company Name=%{x}<extra></extra>",
         "legendgroup": "$15,800,000",
         "marker": {
          "color": "#FF97FF",
          "pattern": {
           "shape": ""
          }
         },
         "name": "$15,800,000",
         "offsetgroup": "$15,800,000",
         "orientation": "v",
         "showlegend": true,
         "textposition": "auto",
         "type": "bar",
         "x": [
          "CAR SHARING"
         ],
         "xaxis": "x",
         "y": [
          "$15,800,000"
         ],
         "yaxis": "y"
        },
        {
         "alignmentgroup": "True",
         "hovertemplate": "Deal Size=%{y}<br>Company Name=%{x}<extra></extra>",
         "legendgroup": "$16,000,000",
         "marker": {
          "color": "#FECB52",
          "pattern": {
           "shape": ""
          }
         },
         "name": "$16,000,000",
         "offsetgroup": "$16,000,000",
         "orientation": "v",
         "showlegend": true,
         "textposition": "auto",
         "type": "bar",
         "x": [
          "BAYZAT"
         ],
         "xaxis": "x",
         "y": [
          "$16,000,000"
         ],
         "yaxis": "y"
        },
        {
         "alignmentgroup": "True",
         "hovertemplate": "Deal Size=%{y}<br>Company Name=%{x}<extra></extra>",
         "legendgroup": "$2,800,000",
         "marker": {
          "color": "#636efa",
          "pattern": {
           "shape": ""
          }
         },
         "name": "$2,800,000",
         "offsetgroup": "$2,800,000",
         "orientation": "v",
         "showlegend": true,
         "textposition": "auto",
         "type": "bar",
         "x": [
          "BAND INDUSTRIES"
         ],
         "xaxis": "x",
         "y": [
          "$2,800,000"
         ],
         "yaxis": "y"
        },
        {
         "alignmentgroup": "True",
         "hovertemplate": "Deal Size=%{y}<br>Company Name=%{x}<extra></extra>",
         "legendgroup": "$30,000,000",
         "marker": {
          "color": "#EF553B",
          "pattern": {
           "shape": ""
          }
         },
         "name": "$30,000,000",
         "offsetgroup": "$30,000,000",
         "orientation": "v",
         "showlegend": true,
         "textposition": "auto",
         "type": "bar",
         "x": [
          "AWOK.COM"
         ],
         "xaxis": "x",
         "y": [
          "$30,000,000"
         ],
         "yaxis": "y"
        },
        {
         "alignmentgroup": "True",
         "hovertemplate": "Deal Size=%{y}<br>Company Name=%{x}<extra></extra>",
         "legendgroup": "$7,500,000",
         "marker": {
          "color": "#00cc96",
          "pattern": {
           "shape": ""
          }
         },
         "name": "$7,500,000",
         "offsetgroup": "$7,500,000",
         "orientation": "v",
         "showlegend": true,
         "textposition": "auto",
         "type": "bar",
         "x": [
          "ARZOOO",
          "AJAR"
         ],
         "xaxis": "x",
         "y": [
          "$7,500,000",
          "$7,500,000"
         ],
         "yaxis": "y"
        },
        {
         "alignmentgroup": "True",
         "hovertemplate": "Deal Size=%{y}<br>Company Name=%{x}<extra></extra>",
         "legendgroup": "$6,500,000",
         "marker": {
          "color": "#ab63fa",
          "pattern": {
           "shape": ""
          }
         },
         "name": "$6,500,000",
         "offsetgroup": "$6,500,000",
         "orientation": "v",
         "showlegend": true,
         "textposition": "auto",
         "type": "bar",
         "x": [
          "ALTIBBI"
         ],
         "xaxis": "x",
         "y": [
          "$6,500,000"
         ],
         "yaxis": "y"
        },
        {
         "alignmentgroup": "True",
         "hovertemplate": "Deal Size=%{y}<br>Company Name=%{x}<extra></extra>",
         "legendgroup": "$18,660,000",
         "marker": {
          "color": "#FFA15A",
          "pattern": {
           "shape": ""
          }
         },
         "name": "$18,660,000",
         "offsetgroup": "$18,660,000",
         "orientation": "v",
         "showlegend": true,
         "textposition": "auto",
         "type": "bar",
         "x": [
          "ALMOSAFER"
         ],
         "xaxis": "x",
         "y": [
          "$18,660,000"
         ],
         "yaxis": "y"
        },
        {
         "alignmentgroup": "True",
         "hovertemplate": "Deal Size=%{y}<br>Company Name=%{x}<extra></extra>",
         "legendgroup": "$4,500,000",
         "marker": {
          "color": "#19d3f3",
          "pattern": {
           "shape": ""
          }
         },
         "name": "$4,500,000",
         "offsetgroup": "$4,500,000",
         "orientation": "v",
         "showlegend": true,
         "textposition": "auto",
         "type": "bar",
         "x": [
          "ALMENTOR"
         ],
         "xaxis": "x",
         "y": [
          "$4,500,000"
         ],
         "yaxis": "y"
        },
        {
         "alignmentgroup": "True",
         "hovertemplate": "Deal Size=%{y}<br>Company Name=%{x}<extra></extra>",
         "legendgroup": "$12,200,00",
         "marker": {
          "color": "#FF6692",
          "pattern": {
           "shape": ""
          }
         },
         "name": "$12,200,00",
         "offsetgroup": "$12,200,00",
         "orientation": "v",
         "showlegend": true,
         "textposition": "auto",
         "type": "bar",
         "x": [
          "ADZILY"
         ],
         "xaxis": "x",
         "y": [
          "$12,200,00"
         ],
         "yaxis": "y"
        }
       ],
       "layout": {
        "barmode": "relative",
        "legend": {
         "title": {
          "text": "Deal Size"
         },
         "tracegroupgap": 0
        },
        "margin": {
         "t": 60
        },
        "template": {
         "data": {
          "bar": [
           {
            "error_x": {
             "color": "#2a3f5f"
            },
            "error_y": {
             "color": "#2a3f5f"
            },
            "marker": {
             "line": {
              "color": "#E5ECF6",
              "width": 0.5
             },
             "pattern": {
              "fillmode": "overlay",
              "size": 10,
              "solidity": 0.2
             }
            },
            "type": "bar"
           }
          ],
          "barpolar": [
           {
            "marker": {
             "line": {
              "color": "#E5ECF6",
              "width": 0.5
             },
             "pattern": {
              "fillmode": "overlay",
              "size": 10,
              "solidity": 0.2
             }
            },
            "type": "barpolar"
           }
          ],
          "carpet": [
           {
            "aaxis": {
             "endlinecolor": "#2a3f5f",
             "gridcolor": "white",
             "linecolor": "white",
             "minorgridcolor": "white",
             "startlinecolor": "#2a3f5f"
            },
            "baxis": {
             "endlinecolor": "#2a3f5f",
             "gridcolor": "white",
             "linecolor": "white",
             "minorgridcolor": "white",
             "startlinecolor": "#2a3f5f"
            },
            "type": "carpet"
           }
          ],
          "choropleth": [
           {
            "colorbar": {
             "outlinewidth": 0,
             "ticks": ""
            },
            "type": "choropleth"
           }
          ],
          "contour": [
           {
            "colorbar": {
             "outlinewidth": 0,
             "ticks": ""
            },
            "colorscale": [
             [
              0,
              "#0d0887"
             ],
             [
              0.1111111111111111,
              "#46039f"
             ],
             [
              0.2222222222222222,
              "#7201a8"
             ],
             [
              0.3333333333333333,
              "#9c179e"
             ],
             [
              0.4444444444444444,
              "#bd3786"
             ],
             [
              0.5555555555555556,
              "#d8576b"
             ],
             [
              0.6666666666666666,
              "#ed7953"
             ],
             [
              0.7777777777777778,
              "#fb9f3a"
             ],
             [
              0.8888888888888888,
              "#fdca26"
             ],
             [
              1,
              "#f0f921"
             ]
            ],
            "type": "contour"
           }
          ],
          "contourcarpet": [
           {
            "colorbar": {
             "outlinewidth": 0,
             "ticks": ""
            },
            "type": "contourcarpet"
           }
          ],
          "heatmap": [
           {
            "colorbar": {
             "outlinewidth": 0,
             "ticks": ""
            },
            "colorscale": [
             [
              0,
              "#0d0887"
             ],
             [
              0.1111111111111111,
              "#46039f"
             ],
             [
              0.2222222222222222,
              "#7201a8"
             ],
             [
              0.3333333333333333,
              "#9c179e"
             ],
             [
              0.4444444444444444,
              "#bd3786"
             ],
             [
              0.5555555555555556,
              "#d8576b"
             ],
             [
              0.6666666666666666,
              "#ed7953"
             ],
             [
              0.7777777777777778,
              "#fb9f3a"
             ],
             [
              0.8888888888888888,
              "#fdca26"
             ],
             [
              1,
              "#f0f921"
             ]
            ],
            "type": "heatmap"
           }
          ],
          "heatmapgl": [
           {
            "colorbar": {
             "outlinewidth": 0,
             "ticks": ""
            },
            "colorscale": [
             [
              0,
              "#0d0887"
             ],
             [
              0.1111111111111111,
              "#46039f"
             ],
             [
              0.2222222222222222,
              "#7201a8"
             ],
             [
              0.3333333333333333,
              "#9c179e"
             ],
             [
              0.4444444444444444,
              "#bd3786"
             ],
             [
              0.5555555555555556,
              "#d8576b"
             ],
             [
              0.6666666666666666,
              "#ed7953"
             ],
             [
              0.7777777777777778,
              "#fb9f3a"
             ],
             [
              0.8888888888888888,
              "#fdca26"
             ],
             [
              1,
              "#f0f921"
             ]
            ],
            "type": "heatmapgl"
           }
          ],
          "histogram": [
           {
            "marker": {
             "pattern": {
              "fillmode": "overlay",
              "size": 10,
              "solidity": 0.2
             }
            },
            "type": "histogram"
           }
          ],
          "histogram2d": [
           {
            "colorbar": {
             "outlinewidth": 0,
             "ticks": ""
            },
            "colorscale": [
             [
              0,
              "#0d0887"
             ],
             [
              0.1111111111111111,
              "#46039f"
             ],
             [
              0.2222222222222222,
              "#7201a8"
             ],
             [
              0.3333333333333333,
              "#9c179e"
             ],
             [
              0.4444444444444444,
              "#bd3786"
             ],
             [
              0.5555555555555556,
              "#d8576b"
             ],
             [
              0.6666666666666666,
              "#ed7953"
             ],
             [
              0.7777777777777778,
              "#fb9f3a"
             ],
             [
              0.8888888888888888,
              "#fdca26"
             ],
             [
              1,
              "#f0f921"
             ]
            ],
            "type": "histogram2d"
           }
          ],
          "histogram2dcontour": [
           {
            "colorbar": {
             "outlinewidth": 0,
             "ticks": ""
            },
            "colorscale": [
             [
              0,
              "#0d0887"
             ],
             [
              0.1111111111111111,
              "#46039f"
             ],
             [
              0.2222222222222222,
              "#7201a8"
             ],
             [
              0.3333333333333333,
              "#9c179e"
             ],
             [
              0.4444444444444444,
              "#bd3786"
             ],
             [
              0.5555555555555556,
              "#d8576b"
             ],
             [
              0.6666666666666666,
              "#ed7953"
             ],
             [
              0.7777777777777778,
              "#fb9f3a"
             ],
             [
              0.8888888888888888,
              "#fdca26"
             ],
             [
              1,
              "#f0f921"
             ]
            ],
            "type": "histogram2dcontour"
           }
          ],
          "mesh3d": [
           {
            "colorbar": {
             "outlinewidth": 0,
             "ticks": ""
            },
            "type": "mesh3d"
           }
          ],
          "parcoords": [
           {
            "line": {
             "colorbar": {
              "outlinewidth": 0,
              "ticks": ""
             }
            },
            "type": "parcoords"
           }
          ],
          "pie": [
           {
            "automargin": true,
            "type": "pie"
           }
          ],
          "scatter": [
           {
            "fillpattern": {
             "fillmode": "overlay",
             "size": 10,
             "solidity": 0.2
            },
            "type": "scatter"
           }
          ],
          "scatter3d": [
           {
            "line": {
             "colorbar": {
              "outlinewidth": 0,
              "ticks": ""
             }
            },
            "marker": {
             "colorbar": {
              "outlinewidth": 0,
              "ticks": ""
             }
            },
            "type": "scatter3d"
           }
          ],
          "scattercarpet": [
           {
            "marker": {
             "colorbar": {
              "outlinewidth": 0,
              "ticks": ""
             }
            },
            "type": "scattercarpet"
           }
          ],
          "scattergeo": [
           {
            "marker": {
             "colorbar": {
              "outlinewidth": 0,
              "ticks": ""
             }
            },
            "type": "scattergeo"
           }
          ],
          "scattergl": [
           {
            "marker": {
             "colorbar": {
              "outlinewidth": 0,
              "ticks": ""
             }
            },
            "type": "scattergl"
           }
          ],
          "scattermapbox": [
           {
            "marker": {
             "colorbar": {
              "outlinewidth": 0,
              "ticks": ""
             }
            },
            "type": "scattermapbox"
           }
          ],
          "scatterpolar": [
           {
            "marker": {
             "colorbar": {
              "outlinewidth": 0,
              "ticks": ""
             }
            },
            "type": "scatterpolar"
           }
          ],
          "scatterpolargl": [
           {
            "marker": {
             "colorbar": {
              "outlinewidth": 0,
              "ticks": ""
             }
            },
            "type": "scatterpolargl"
           }
          ],
          "scatterternary": [
           {
            "marker": {
             "colorbar": {
              "outlinewidth": 0,
              "ticks": ""
             }
            },
            "type": "scatterternary"
           }
          ],
          "surface": [
           {
            "colorbar": {
             "outlinewidth": 0,
             "ticks": ""
            },
            "colorscale": [
             [
              0,
              "#0d0887"
             ],
             [
              0.1111111111111111,
              "#46039f"
             ],
             [
              0.2222222222222222,
              "#7201a8"
             ],
             [
              0.3333333333333333,
              "#9c179e"
             ],
             [
              0.4444444444444444,
              "#bd3786"
             ],
             [
              0.5555555555555556,
              "#d8576b"
             ],
             [
              0.6666666666666666,
              "#ed7953"
             ],
             [
              0.7777777777777778,
              "#fb9f3a"
             ],
             [
              0.8888888888888888,
              "#fdca26"
             ],
             [
              1,
              "#f0f921"
             ]
            ],
            "type": "surface"
           }
          ],
          "table": [
           {
            "cells": {
             "fill": {
              "color": "#EBF0F8"
             },
             "line": {
              "color": "white"
             }
            },
            "header": {
             "fill": {
              "color": "#C8D4E3"
             },
             "line": {
              "color": "white"
             }
            },
            "type": "table"
           }
          ]
         },
         "layout": {
          "annotationdefaults": {
           "arrowcolor": "#2a3f5f",
           "arrowhead": 0,
           "arrowwidth": 1
          },
          "autotypenumbers": "strict",
          "coloraxis": {
           "colorbar": {
            "outlinewidth": 0,
            "ticks": ""
           }
          },
          "colorscale": {
           "diverging": [
            [
             0,
             "#8e0152"
            ],
            [
             0.1,
             "#c51b7d"
            ],
            [
             0.2,
             "#de77ae"
            ],
            [
             0.3,
             "#f1b6da"
            ],
            [
             0.4,
             "#fde0ef"
            ],
            [
             0.5,
             "#f7f7f7"
            ],
            [
             0.6,
             "#e6f5d0"
            ],
            [
             0.7,
             "#b8e186"
            ],
            [
             0.8,
             "#7fbc41"
            ],
            [
             0.9,
             "#4d9221"
            ],
            [
             1,
             "#276419"
            ]
           ],
           "sequential": [
            [
             0,
             "#0d0887"
            ],
            [
             0.1111111111111111,
             "#46039f"
            ],
            [
             0.2222222222222222,
             "#7201a8"
            ],
            [
             0.3333333333333333,
             "#9c179e"
            ],
            [
             0.4444444444444444,
             "#bd3786"
            ],
            [
             0.5555555555555556,
             "#d8576b"
            ],
            [
             0.6666666666666666,
             "#ed7953"
            ],
            [
             0.7777777777777778,
             "#fb9f3a"
            ],
            [
             0.8888888888888888,
             "#fdca26"
            ],
            [
             1,
             "#f0f921"
            ]
           ],
           "sequentialminus": [
            [
             0,
             "#0d0887"
            ],
            [
             0.1111111111111111,
             "#46039f"
            ],
            [
             0.2222222222222222,
             "#7201a8"
            ],
            [
             0.3333333333333333,
             "#9c179e"
            ],
            [
             0.4444444444444444,
             "#bd3786"
            ],
            [
             0.5555555555555556,
             "#d8576b"
            ],
            [
             0.6666666666666666,
             "#ed7953"
            ],
            [
             0.7777777777777778,
             "#fb9f3a"
            ],
            [
             0.8888888888888888,
             "#fdca26"
            ],
            [
             1,
             "#f0f921"
            ]
           ]
          },
          "colorway": [
           "#636efa",
           "#EF553B",
           "#00cc96",
           "#ab63fa",
           "#FFA15A",
           "#19d3f3",
           "#FF6692",
           "#B6E880",
           "#FF97FF",
           "#FECB52"
          ],
          "font": {
           "color": "#2a3f5f"
          },
          "geo": {
           "bgcolor": "white",
           "lakecolor": "white",
           "landcolor": "#E5ECF6",
           "showlakes": true,
           "showland": true,
           "subunitcolor": "white"
          },
          "hoverlabel": {
           "align": "left"
          },
          "hovermode": "closest",
          "mapbox": {
           "style": "light"
          },
          "paper_bgcolor": "white",
          "plot_bgcolor": "#E5ECF6",
          "polar": {
           "angularaxis": {
            "gridcolor": "white",
            "linecolor": "white",
            "ticks": ""
           },
           "bgcolor": "#E5ECF6",
           "radialaxis": {
            "gridcolor": "white",
            "linecolor": "white",
            "ticks": ""
           }
          },
          "scene": {
           "xaxis": {
            "backgroundcolor": "#E5ECF6",
            "gridcolor": "white",
            "gridwidth": 2,
            "linecolor": "white",
            "showbackground": true,
            "ticks": "",
            "zerolinecolor": "white"
           },
           "yaxis": {
            "backgroundcolor": "#E5ECF6",
            "gridcolor": "white",
            "gridwidth": 2,
            "linecolor": "white",
            "showbackground": true,
            "ticks": "",
            "zerolinecolor": "white"
           },
           "zaxis": {
            "backgroundcolor": "#E5ECF6",
            "gridcolor": "white",
            "gridwidth": 2,
            "linecolor": "white",
            "showbackground": true,
            "ticks": "",
            "zerolinecolor": "white"
           }
          },
          "shapedefaults": {
           "line": {
            "color": "#2a3f5f"
           }
          },
          "ternary": {
           "aaxis": {
            "gridcolor": "white",
            "linecolor": "white",
            "ticks": ""
           },
           "baxis": {
            "gridcolor": "white",
            "linecolor": "white",
            "ticks": ""
           },
           "bgcolor": "#E5ECF6",
           "caxis": {
            "gridcolor": "white",
            "linecolor": "white",
            "ticks": ""
           }
          },
          "title": {
           "x": 0.05
          },
          "xaxis": {
           "automargin": true,
           "gridcolor": "white",
           "linecolor": "white",
           "ticks": "",
           "title": {
            "standoff": 15
           },
           "zerolinecolor": "white",
           "zerolinewidth": 2
          },
          "yaxis": {
           "automargin": true,
           "gridcolor": "white",
           "linecolor": "white",
           "ticks": "",
           "title": {
            "standoff": 15
           },
           "zerolinecolor": "white",
           "zerolinewidth": 2
          }
         }
        },
        "title": {
         "text": "Data sample of Funding against sectors "
        },
        "xaxis": {
         "anchor": "y",
         "domain": [
          0,
          1
         ],
         "title": {
          "text": "Company Name"
         }
        },
        "yaxis": {
         "anchor": "x",
         "categoryarray": [
          "$12,200,00",
          "$4,500,000",
          "$18,660,000",
          "$6,500,000",
          "$7,500,000",
          "$30,000,000",
          "$2,800,000",
          "$16,000,000",
          "$15,800,000",
          "$32,000,000",
          "$21,000,000",
          "$40,000,000",
          "$17,500,000",
          "$200,000,000,000,000",
          "$300,000",
          "$2,750,000",
          "$2,600,000",
          "$15,000,000",
          "$3,750,000",
          "$27,000,000",
          "$36,000,000",
          "$23,500,000",
          "$9,100,000",
          "$18,000,000",
          "$13,000,000",
          "$11,000,000",
          "$3,000,000",
          "$2,100,000",
          "$250,000",
          "$2,300,000",
          "$2,400,000",
          "$8,600,000",
          "$8,400,000",
          "$6,600,000",
          "$6,000,000",
          "$16,300,000",
          "$35,000,000",
          "$2,500,000",
          "$8,500,000",
          "$20,000,000",
          "$4,000,000",
          "$5,800,000",
          "$7,000,000",
          "$5,500,000",
          "$23,000,000",
          "$3,500,000",
          "$31,000,000",
          "$12,000,000",
          "$25,000,000",
          "$6,200,000",
          "$3,200,000",
          "$4,219,880",
          "$5,000,000",
          "$4,250,000",
          "$2,000,000",
          "$8,000,000",
          "$10,000,000"
         ],
         "categoryorder": "array",
         "domain": [
          0,
          1
         ],
         "title": {
          "text": "Deal Size"
         }
        }
       }
      }
     },
     "metadata": {},
     "output_type": "display_data"
    }
   ],
   "source": [
    "import matplotlib as plt\n",
    "import matplotlib.pyplot as plt\n",
    "import plotly.express as px\n",
    "\n",
    "df1 = df.sort_values(by=['Company Name'],ascending = False).reset_index()\n",
    "Sector = px.bar(df1, x = 'Company Name', y = 'Deal Size', color = 'Deal Size',\n",
    "             color_continuous_scale = 'blues')\n",
    "Sector.update_layout(title = 'Data sample of Funding against sectors ')\n",
    "Sector.show()    \n"
   ]
  },
  {
   "cell_type": "code",
   "execution_count": 15,
   "metadata": {},
   "outputs": [
    {
     "data": {
      "text/html": [
       "<div>\n",
       "<style scoped>\n",
       "    .dataframe tbody tr th:only-of-type {\n",
       "        vertical-align: middle;\n",
       "    }\n",
       "\n",
       "    .dataframe tbody tr th {\n",
       "        vertical-align: top;\n",
       "    }\n",
       "\n",
       "    .dataframe thead th {\n",
       "        text-align: right;\n",
       "    }\n",
       "</style>\n",
       "<table border=\"1\" class=\"dataframe\">\n",
       "  <thead>\n",
       "    <tr style=\"text-align: right;\">\n",
       "      <th></th>\n",
       "      <th>Company Name</th>\n",
       "      <th>Sector</th>\n",
       "      <th>HQ Country</th>\n",
       "      <th>Deal Year</th>\n",
       "      <th>Deal Size</th>\n",
       "      <th>Exact Date</th>\n",
       "      <th>Deal stage</th>\n",
       "      <th>Month</th>\n",
       "      <th>Deal type(s)</th>\n",
       "      <th>Source</th>\n",
       "      <th>Source URL</th>\n",
       "    </tr>\n",
       "  </thead>\n",
       "  <tbody>\n",
       "    <tr>\n",
       "      <th>0</th>\n",
       "      <td>EASY TAXI</td>\n",
       "      <td>Mobility</td>\n",
       "      <td>Brazil</td>\n",
       "      <td>2014</td>\n",
       "      <td>$40,000,000</td>\n",
       "      <td>Aug 3, 2014</td>\n",
       "      <td>Series D</td>\n",
       "      <td>August</td>\n",
       "      <td>Equity</td>\n",
       "      <td>https://www.wamda.com/2014/08/easy-taxi-secure...</td>\n",
       "      <td>NaN</td>\n",
       "    </tr>\n",
       "    <tr>\n",
       "      <th>1</th>\n",
       "      <td>JAHEZ</td>\n",
       "      <td>Logistics</td>\n",
       "      <td>Saudi Arabia</td>\n",
       "      <td>2020</td>\n",
       "      <td>$36,000,000</td>\n",
       "      <td>Jun 3, 2020</td>\n",
       "      <td>Series A</td>\n",
       "      <td>June</td>\n",
       "      <td>Equity</td>\n",
       "      <td>https://www.wamda.com/2020/06/jahez-raises-36-...</td>\n",
       "      <td>NaN</td>\n",
       "    </tr>\n",
       "    <tr>\n",
       "      <th>2</th>\n",
       "      <td>SELLANYCAR</td>\n",
       "      <td>E-Commerce</td>\n",
       "      <td>Saudi Arabia</td>\n",
       "      <td>2020</td>\n",
       "      <td>$35,000,000</td>\n",
       "      <td>Feb 12, 2020</td>\n",
       "      <td>Unspecified</td>\n",
       "      <td>February</td>\n",
       "      <td>Equity</td>\n",
       "      <td>https://www.wamda.com/2020/02/pif-invests-sell...</td>\n",
       "      <td>NaN</td>\n",
       "    </tr>\n",
       "    <tr>\n",
       "      <th>3</th>\n",
       "      <td>CAZOO</td>\n",
       "      <td>E-Commerce</td>\n",
       "      <td>UK</td>\n",
       "      <td>2019</td>\n",
       "      <td>$32,000,000</td>\n",
       "      <td>Dec 4, 2019</td>\n",
       "      <td>Unspecified</td>\n",
       "      <td>December</td>\n",
       "      <td>Equity</td>\n",
       "      <td>https://www.wamda.com/2019/12/mubadala-leads-3...</td>\n",
       "      <td>NaN</td>\n",
       "    </tr>\n",
       "    <tr>\n",
       "      <th>4</th>\n",
       "      <td>VEEM</td>\n",
       "      <td>Fintech</td>\n",
       "      <td>USA</td>\n",
       "      <td>2020</td>\n",
       "      <td>$31,000,000</td>\n",
       "      <td>Sep 20, 2020</td>\n",
       "      <td>Unspecified</td>\n",
       "      <td>September</td>\n",
       "      <td>Equity</td>\n",
       "      <td>https://www.wamda.com/2020/09/arab-bank-invest...</td>\n",
       "      <td>NaN</td>\n",
       "    </tr>\n",
       "    <tr>\n",
       "      <th>...</th>\n",
       "      <td>...</td>\n",
       "      <td>...</td>\n",
       "      <td>...</td>\n",
       "      <td>...</td>\n",
       "      <td>...</td>\n",
       "      <td>...</td>\n",
       "      <td>...</td>\n",
       "      <td>...</td>\n",
       "      <td>...</td>\n",
       "      <td>...</td>\n",
       "      <td>...</td>\n",
       "    </tr>\n",
       "    <tr>\n",
       "      <th>126</th>\n",
       "      <td>BYKEA</td>\n",
       "      <td>Logistics</td>\n",
       "      <td>Pakistan</td>\n",
       "      <td>2019</td>\n",
       "      <td>$2,000,000</td>\n",
       "      <td>Aug 9, 2019</td>\n",
       "      <td>Series A</td>\n",
       "      <td>August</td>\n",
       "      <td>Equity</td>\n",
       "      <td>https://www.wamda.com/2019/08/mevp-invests-2-m...</td>\n",
       "      <td>NaN</td>\n",
       "    </tr>\n",
       "    <tr>\n",
       "      <th>127</th>\n",
       "      <td>ZID</td>\n",
       "      <td>E-Commerce</td>\n",
       "      <td>Saudi Arabia</td>\n",
       "      <td>2019</td>\n",
       "      <td>$2,000,000</td>\n",
       "      <td>Jul 24, 2019</td>\n",
       "      <td>Series A</td>\n",
       "      <td>July</td>\n",
       "      <td>Equity</td>\n",
       "      <td>https://www.wamda.com/2019/07/zid-raises-2-mil...</td>\n",
       "      <td>NaN</td>\n",
       "    </tr>\n",
       "    <tr>\n",
       "      <th>128</th>\n",
       "      <td>CLARA</td>\n",
       "      <td>LegalTech</td>\n",
       "      <td>U.A.E</td>\n",
       "      <td>2019</td>\n",
       "      <td>$2,000,000</td>\n",
       "      <td>Jul 10, 2019</td>\n",
       "      <td>Seed</td>\n",
       "      <td>July</td>\n",
       "      <td>Equity</td>\n",
       "      <td>https://www.wamda.com/2019/07/clara-closes-see...</td>\n",
       "      <td>NaN</td>\n",
       "    </tr>\n",
       "    <tr>\n",
       "      <th>129</th>\n",
       "      <td>NALBES</td>\n",
       "      <td>E-Commerce</td>\n",
       "      <td>Kuwait</td>\n",
       "      <td>2019</td>\n",
       "      <td>$2,000,000</td>\n",
       "      <td>Feb 22, 2019</td>\n",
       "      <td>Series A</td>\n",
       "      <td>February</td>\n",
       "      <td>Equity</td>\n",
       "      <td>https://www.wamda.com/2019/02/nalbes-raises-2-...</td>\n",
       "      <td>NaN</td>\n",
       "    </tr>\n",
       "    <tr>\n",
       "      <th>130</th>\n",
       "      <td>EMUSHRIF</td>\n",
       "      <td>Logistics</td>\n",
       "      <td>Kuwait</td>\n",
       "      <td>2020</td>\n",
       "      <td>$2,300,000</td>\n",
       "      <td>Dec 9, 2020</td>\n",
       "      <td>Series A</td>\n",
       "      <td>December</td>\n",
       "      <td>Equity</td>\n",
       "      <td>https://www.wamda.com/2020/12/emushrif-raises-...</td>\n",
       "      <td>NaN</td>\n",
       "    </tr>\n",
       "  </tbody>\n",
       "</table>\n",
       "<p>131 rows × 11 columns</p>\n",
       "</div>"
      ],
      "text/plain": [
       "    Company Name      Sector    HQ Country  Deal Year    Deal Size  \\\n",
       "0      EASY TAXI    Mobility        Brazil       2014  $40,000,000   \n",
       "1          JAHEZ   Logistics  Saudi Arabia       2020  $36,000,000   \n",
       "2     SELLANYCAR  E-Commerce  Saudi Arabia       2020  $35,000,000   \n",
       "3          CAZOO  E-Commerce            UK       2019  $32,000,000   \n",
       "4           VEEM     Fintech           USA       2020  $31,000,000   \n",
       "..           ...         ...           ...        ...          ...   \n",
       "126        BYKEA   Logistics      Pakistan       2019   $2,000,000   \n",
       "127          ZID  E-Commerce  Saudi Arabia       2019   $2,000,000   \n",
       "128        CLARA   LegalTech         U.A.E       2019   $2,000,000   \n",
       "129       NALBES  E-Commerce        Kuwait       2019   $2,000,000   \n",
       "130     EMUSHRIF   Logistics        Kuwait       2020   $2,300,000   \n",
       "\n",
       "       Exact Date   Deal stage      Month Deal type(s)  \\\n",
       "0     Aug 3, 2014     Series D     August       Equity   \n",
       "1     Jun 3, 2020     Series A       June       Equity   \n",
       "2    Feb 12, 2020  Unspecified   February       Equity   \n",
       "3     Dec 4, 2019  Unspecified   December       Equity   \n",
       "4    Sep 20, 2020  Unspecified  September       Equity   \n",
       "..            ...          ...        ...          ...   \n",
       "126   Aug 9, 2019     Series A     August       Equity   \n",
       "127  Jul 24, 2019     Series A       July       Equity   \n",
       "128  Jul 10, 2019         Seed       July       Equity   \n",
       "129  Feb 22, 2019     Series A   February       Equity   \n",
       "130   Dec 9, 2020     Series A   December       Equity   \n",
       "\n",
       "                                                Source  Source URL  \n",
       "0    https://www.wamda.com/2014/08/easy-taxi-secure...         NaN  \n",
       "1    https://www.wamda.com/2020/06/jahez-raises-36-...         NaN  \n",
       "2    https://www.wamda.com/2020/02/pif-invests-sell...         NaN  \n",
       "3    https://www.wamda.com/2019/12/mubadala-leads-3...         NaN  \n",
       "4    https://www.wamda.com/2020/09/arab-bank-invest...         NaN  \n",
       "..                                                 ...         ...  \n",
       "126  https://www.wamda.com/2019/08/mevp-invests-2-m...         NaN  \n",
       "127  https://www.wamda.com/2019/07/zid-raises-2-mil...         NaN  \n",
       "128  https://www.wamda.com/2019/07/clara-closes-see...         NaN  \n",
       "129  https://www.wamda.com/2019/02/nalbes-raises-2-...         NaN  \n",
       "130  https://www.wamda.com/2020/12/emushrif-raises-...         NaN  \n",
       "\n",
       "[131 rows x 11 columns]"
      ]
     },
     "execution_count": 15,
     "metadata": {},
     "output_type": "execute_result"
    }
   ],
   "source": [
    "df[\"Deal stage\"].isnull()\n",
    "df\n"
   ]
  },
  {
   "cell_type": "code",
   "execution_count": 16,
   "metadata": {},
   "outputs": [
    {
     "data": {
      "text/plain": [
       "0         Series D\n",
       "1         Series A\n",
       "2      Unspecified\n",
       "3      Unspecified\n",
       "4      Unspecified\n",
       "          ...     \n",
       "126       Series A\n",
       "127       Series A\n",
       "128           Seed\n",
       "129       Series A\n",
       "130       Series A\n",
       "Name: Deal stage, Length: 122, dtype: object"
      ]
     },
     "execution_count": 16,
     "metadata": {},
     "output_type": "execute_result"
    }
   ],
   "source": [
    "df = df[\"Deal stage\"].dropna()\n",
    "df"
   ]
  },
  {
   "cell_type": "code",
   "execution_count": null,
   "metadata": {},
   "outputs": [],
   "source": []
  }
 ],
 "metadata": {
  "kernelspec": {
   "display_name": "Python 3.8.10 64-bit",
   "language": "python",
   "name": "python3"
  },
  "language_info": {
   "codemirror_mode": {
    "name": "ipython",
    "version": 3
   },
   "file_extension": ".py",
   "mimetype": "text/x-python",
   "name": "python",
   "nbconvert_exporter": "python",
   "pygments_lexer": "ipython3",
   "version": "3.8.10"
  },
  "orig_nbformat": 4,
  "vscode": {
   "interpreter": {
    "hash": "916dbcbb3f70747c44a77c7bcd40155683ae19c65e1c03b4aa3499c5328201f1"
   }
  }
 },
 "nbformat": 4,
 "nbformat_minor": 2
}
